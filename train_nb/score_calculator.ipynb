{
 "cells": [
  {
   "cell_type": "code",
   "execution_count": 34,
   "metadata": {},
   "outputs": [],
   "source": [
    "import numpy as np\n",
    "import pandas as pd"
   ]
  },
  {
   "cell_type": "code",
   "execution_count": 116,
   "metadata": {},
   "outputs": [
    {
     "data": {
      "text/html": [
       "<div>\n",
       "<style scoped>\n",
       "    .dataframe tbody tr th:only-of-type {\n",
       "        vertical-align: middle;\n",
       "    }\n",
       "\n",
       "    .dataframe tbody tr th {\n",
       "        vertical-align: top;\n",
       "    }\n",
       "\n",
       "    .dataframe thead th {\n",
       "        text-align: right;\n",
       "    }\n",
       "</style>\n",
       "<table border=\"1\" class=\"dataframe\">\n",
       "  <thead>\n",
       "    <tr style=\"text-align: right;\">\n",
       "      <th></th>\n",
       "      <th>model</th>\n",
       "      <th>version</th>\n",
       "      <th>loss0</th>\n",
       "      <th>loss1</th>\n",
       "      <th>loss2</th>\n",
       "      <th>loss3</th>\n",
       "      <th>mean</th>\n",
       "      <th>std</th>\n",
       "    </tr>\n",
       "  </thead>\n",
       "  <tbody>\n",
       "    <tr>\n",
       "      <th>mlp baseline</th>\n",
       "      <td>mlp</td>\n",
       "      <td>baseline</td>\n",
       "      <td>0.024700</td>\n",
       "      <td>0.025220</td>\n",
       "      <td>0.024540</td>\n",
       "      <td>0.024300</td>\n",
       "      <td>0.024690</td>\n",
       "      <td>0.000390</td>\n",
       "    </tr>\n",
       "    <tr>\n",
       "      <th>lgbm baseline</th>\n",
       "      <td>lgbm</td>\n",
       "      <td>baseline</td>\n",
       "      <td>0.018077</td>\n",
       "      <td>0.018033</td>\n",
       "      <td>0.018248</td>\n",
       "      <td>0.018205</td>\n",
       "      <td>0.018141</td>\n",
       "      <td>0.000102</td>\n",
       "    </tr>\n",
       "    <tr>\n",
       "      <th>lgbm pca feats only</th>\n",
       "      <td>lgbm</td>\n",
       "      <td>pca feats only</td>\n",
       "      <td>0.018204</td>\n",
       "      <td>0.018229</td>\n",
       "      <td>0.018422</td>\n",
       "      <td>0.018384</td>\n",
       "      <td>0.018310</td>\n",
       "      <td>0.000109</td>\n",
       "    </tr>\n",
       "    <tr>\n",
       "      <th>lgbm pca feats only;diff</th>\n",
       "      <td>lgbm</td>\n",
       "      <td>pca feats only;diff</td>\n",
       "      <td>0.018174</td>\n",
       "      <td>0.018151</td>\n",
       "      <td>0.018439</td>\n",
       "      <td>0.018347</td>\n",
       "      <td>0.018278</td>\n",
       "      <td>0.000139</td>\n",
       "    </tr>\n",
       "    <tr>\n",
       "      <th>tabnet baseline</th>\n",
       "      <td>tabnet</td>\n",
       "      <td>baseline</td>\n",
       "      <td>0.018776</td>\n",
       "      <td>0.018814</td>\n",
       "      <td>0.018502</td>\n",
       "      <td>0.019109</td>\n",
       "      <td>0.018800</td>\n",
       "      <td>0.000248</td>\n",
       "    </tr>\n",
       "  </tbody>\n",
       "</table>\n",
       "</div>"
      ],
      "text/plain": [
       "                           model              version     loss0     loss1  \\\n",
       "mlp baseline                 mlp             baseline  0.024700  0.025220   \n",
       "lgbm baseline               lgbm             baseline  0.018077  0.018033   \n",
       "lgbm pca feats only         lgbm       pca feats only  0.018204  0.018229   \n",
       "lgbm pca feats only;diff    lgbm  pca feats only;diff  0.018174  0.018151   \n",
       "tabnet baseline           tabnet             baseline  0.018776  0.018814   \n",
       "\n",
       "                             loss2     loss3      mean       std  \n",
       "mlp baseline              0.024540  0.024300  0.024690  0.000390  \n",
       "lgbm baseline             0.018248  0.018205  0.018141  0.000102  \n",
       "lgbm pca feats only       0.018422  0.018384  0.018310  0.000109  \n",
       "lgbm pca feats only;diff  0.018439  0.018347  0.018278  0.000139  \n",
       "tabnet baseline           0.018502  0.019109  0.018800  0.000248  "
      ]
     },
     "execution_count": 116,
     "metadata": {},
     "output_type": "execute_result"
    }
   ],
   "source": [
    "df = pd.read_csv('score.csv')\n",
    "cols = [f'loss{i}' for i in range(4)]\n",
    "df['mean'] = df[cols].mean(axis=1)\n",
    "df['std'] = df[cols].std(axis=1)\n",
    "# df.drop(cols, axis=1, inplace=True)\n",
    "df = df.set_index(df['model']+' '+df['version'])\n",
    "df"
   ]
  },
  {
   "cell_type": "code",
   "execution_count": 137,
   "metadata": {},
   "outputs": [
    {
     "data": {
      "image/png": "[encoded data removed]",
      "text/plain": [
       "<Figure size 432x288 with 1 Axes>"
      ]
     },
     "metadata": {
      "needs_background": "light"
     },
     "output_type": "display_data"
    }
   ],
   "source": [
    "p = df['mean'].astype(np.float64).plot(kind='barh', xerr=df['std'], title='loss comparison', color='#0f6')\n",
    "p.set_facecolor('#111')"
   ]
  },
  {
   "cell_type": "code",
   "execution_count": null,
   "metadata": {},
   "outputs": [],
   "source": []
  }
 ],
 "metadata": {
  "kernelspec": {
   "display_name": "Python 3",
   "language": "python",
   "name": "python3"
  },
  "language_info": {
   "codemirror_mode": {
    "name": "ipython",
    "version": 3
   },
   "file_extension": ".py",
   "mimetype": "text/x-python",
   "name": "python",
   "nbconvert_exporter": "python",
   "pygments_lexer": "ipython3",
   "version": "3.7.9"
  }
 },
 "nbformat": 4,
 "nbformat_minor": 4
}

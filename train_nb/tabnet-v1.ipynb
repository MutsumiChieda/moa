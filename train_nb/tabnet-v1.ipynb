{
 "cells": [
  {
   "cell_type": "markdown",
   "metadata": {
    "papermill": {
     "duration": 0.0422,
     "end_time": "2020-11-17T16:24:38.476716",
     "exception": false,
     "start_time": "2020-11-17T16:24:38.434516",
     "status": "completed"
    },
    "tags": []
   },
   "source": [
    "www.kaggle.com/hiramcho/moa-tabnet-with-pca-rank-gauss  \n",
    "v1: preprocessing w/ the following:  \n",
    "- no ctl_vehicle\n",
    "- Rank Gauss Process\n",
    "- PCA\n",
    "- OneHot"
   ]
  },
  {
   "cell_type": "markdown",
   "metadata": {
    "papermill": {
     "duration": 0.043479,
     "end_time": "2020-11-17T16:24:38.563917",
     "exception": false,
     "start_time": "2020-11-17T16:24:38.520438",
     "status": "completed"
    },
    "tags": []
   },
   "source": [
    "<div class = \"alert alert-block alert-info\">\n",
    "    <h1><font color = \"red\">DISCLAIMER</font></h1>\n",
    "    <p>The following notebook it's highly based on the works <a href = \"https://www.kaggle.com/optimo/tabnetregressor-2-0-train-infer\">TabNetRegressor 2.0 [TRAIN + INFER]</a>, <a href = \"https://www.kaggle.com/liuhdme/moa-competition/data\">MOA competition</a> and <a href = \"https://www.kaggle.com/kushal1506/moa-pytorch-0-01859-rankgauss-pca-nn/data?select=train_targets_scored.csv\">\n",
    "MoA | Pytorch | 0.01859 | RankGauss | PCA | NN</a>, please check it out. I have to add that i don't make this notebook for \"upvotes\" but feedback.</p>\n",
    "</div>"
   ]
  },
  {
   "cell_type": "markdown",
   "metadata": {
    "papermill": {
     "duration": 0.042023,
     "end_time": "2020-11-17T16:24:38.649286",
     "exception": false,
     "start_time": "2020-11-17T16:24:38.607263",
     "status": "completed"
    },
    "tags": []
   },
   "source": [
    "# <font color = \"seagreen\">Preambule</font>\n",
    "\n",
    "I made this notebook to share some experiments (see the sections \"Experiments\") which could help to someone who don't want to wast their daily \"submissions\", but more importantly, to get feedback about what i could change to achive a better CV. Moreover, the easiness of TabNet to overfit the data it's disturbing. In the section \"Conclusion\" i share my opinion about the fine-tuning process of TabNet."
   ]
  },
  {
   "cell_type": "markdown",
   "metadata": {
    "papermill": {
     "duration": 0.042134,
     "end_time": "2020-11-17T16:24:38.734526",
     "exception": false,
     "start_time": "2020-11-17T16:24:38.692392",
     "status": "completed"
    },
    "tags": []
   },
   "source": [
    "## <font color = \"green\">Installing Libraries</font>"
   ]
  },
  {
   "cell_type": "code",
   "execution_count": 1,
   "metadata": {
    "_cell_guid": "b1076dfc-b9ad-4769-8c92-a6c4dae69d19",
    "_kg_hide-output": true,
    "_uuid": "8f2839f25d086af736a60e9eeb907d3b93b6e0e5",
    "execution": {
     "iopub.execute_input": "2020-11-17T16:24:38.832175Z",
     "iopub.status.busy": "2020-11-17T16:24:38.831204Z",
     "iopub.status.idle": "2020-11-17T16:25:38.419451Z",
     "shell.execute_reply": "2020-11-17T16:25:38.418658Z"
    },
    "papermill": {
     "duration": 59.639712,
     "end_time": "2020-11-17T16:25:38.419626",
     "exception": false,
     "start_time": "2020-11-17T16:24:38.779914",
     "status": "completed"
    },
    "tags": []
   },
   "outputs": [
    {
     "name": "stdout",
     "output_type": "stream",
     "text": [
      "Processing /kaggle/input/packages-for-lishmoa/pytorch_tabnet-2.0.0-py3-none-any.whl\n",
      "Requirement already satisfied: numpy<2.0,>=1.17 in /opt/conda/lib/python3.7/site-packages (from pytorch-tabnet==2.0.0) (1.18.5)\n",
      "Requirement already satisfied: torch<2.0,>=1.2 in /opt/conda/lib/python3.7/site-packages (from pytorch-tabnet==2.0.0) (1.6.0)\n",
      "Requirement already satisfied: scipy>1.4 in /opt/conda/lib/python3.7/site-packages (from pytorch-tabnet==2.0.0) (1.4.1)\n",
      "Requirement already satisfied: tqdm<5.0,>=4.36 in /opt/conda/lib/python3.7/site-packages (from pytorch-tabnet==2.0.0) (4.45.0)\n",
      "Requirement already satisfied: scikit_learn>0.21 in /opt/conda/lib/python3.7/site-packages (from pytorch-tabnet==2.0.0) (0.23.2)\n",
      "Requirement already satisfied: future in /opt/conda/lib/python3.7/site-packages (from torch<2.0,>=1.2->pytorch-tabnet==2.0.0) (0.18.2)\n",
      "Requirement already satisfied: joblib>=0.11 in /opt/conda/lib/python3.7/site-packages (from scikit_learn>0.21->pytorch-tabnet==2.0.0) (0.14.1)\n",
      "Requirement already satisfied: threadpoolctl>=2.0.0 in /opt/conda/lib/python3.7/site-packages (from scikit_learn>0.21->pytorch-tabnet==2.0.0) (2.1.0)\n",
      "Installing collected packages: pytorch-tabnet\n",
      "Successfully installed pytorch-tabnet-2.0.0\n",
      "Processing /kaggle/input/packages-for-lishmoa/iterative_stratification-0.1.6-py3-none-any.whl\n",
      "Requirement already satisfied: scipy in /opt/conda/lib/python3.7/site-packages (from iterative-stratification==0.1.6) (1.4.1)\n",
      "Requirement already satisfied: scikit-learn in /opt/conda/lib/python3.7/site-packages (from iterative-stratification==0.1.6) (0.23.2)\n",
      "Requirement already satisfied: numpy in /opt/conda/lib/python3.7/site-packages (from iterative-stratification==0.1.6) (1.18.5)\n",
      "Requirement already satisfied: threadpoolctl>=2.0.0 in /opt/conda/lib/python3.7/site-packages (from scikit-learn->iterative-stratification==0.1.6) (2.1.0)\n",
      "Requirement already satisfied: joblib>=0.11 in /opt/conda/lib/python3.7/site-packages (from scikit-learn->iterative-stratification==0.1.6) (0.14.1)\n",
      "Installing collected packages: iterative-stratification\n",
      "Successfully installed iterative-stratification-0.1.6\n"
     ]
    }
   ],
   "source": [
    "# TabNet\n",
    "!pip install /kaggle/input/packages-for-lishmoa/pytorch_tabnet-2.0.0-py3-none-any.whl\n",
    "# Iterative Stratification\n",
    "!pip install /kaggle/input/packages-for-lishmoa/iterative_stratification-0.1.6-py3-none-any.whl"
   ]
  },
  {
   "cell_type": "markdown",
   "metadata": {
    "papermill": {
     "duration": 0.045135,
     "end_time": "2020-11-17T16:25:38.512233",
     "exception": false,
     "start_time": "2020-11-17T16:25:38.467098",
     "status": "completed"
    },
    "tags": []
   },
   "source": [
    "## <font color = \"green\">Loading Libraries</font>"
   ]
  },
  {
   "cell_type": "code",
   "execution_count": 2,
   "metadata": {
    "_cell_guid": "79c7e3d0-c299-4dcb-8224-4455121ee9b0",
    "_uuid": "d629ff2d2480ee46fbb7e2d37f6b5fab8052498a",
    "execution": {
     "iopub.execute_input": "2020-11-17T16:25:38.622104Z",
     "iopub.status.busy": "2020-11-17T16:25:38.621255Z",
     "iopub.status.idle": "2020-11-17T16:25:41.320918Z",
     "shell.execute_reply": "2020-11-17T16:25:41.320050Z"
    },
    "papermill": {
     "duration": 2.762717,
     "end_time": "2020-11-17T16:25:41.321057",
     "exception": false,
     "start_time": "2020-11-17T16:25:38.558340",
     "status": "completed"
    },
    "tags": []
   },
   "outputs": [],
   "source": [
    "### General ###\n",
    "import os\n",
    "import sys\n",
    "import copy\n",
    "import gc\n",
    "import tqdm\n",
    "import pickle\n",
    "import random\n",
    "import warnings\n",
    "warnings.filterwarnings(\"ignore\")\n",
    "sys.path.append(\"../input/packages-for-lishmoa/\")\n",
    "os.environ[\"CUDA_LAUNCH_BLOCKING\"] = '1'\n",
    "\n",
    "### Data Wrangling ###\n",
    "import numpy as np\n",
    "import pandas as pd\n",
    "from scipy import stats\n",
    "from gauss_rank_scaler import GaussRankScaler\n",
    "\n",
    "### Data Visualization ###\n",
    "import seaborn as sns\n",
    "import matplotlib.pyplot as plt\n",
    "plt.style.use(\"fivethirtyeight\")\n",
    "\n",
    "### Machine Learning ###\n",
    "from sklearn.decomposition import PCA\n",
    "from sklearn.preprocessing import LabelEncoder\n",
    "from sklearn.metrics import roc_auc_score, log_loss\n",
    "from sklearn.preprocessing import QuantileTransformer\n",
    "from sklearn.feature_selection import VarianceThreshold\n",
    "from iterstrat.ml_stratifiers import MultilabelStratifiedKFold\n",
    "\n",
    "### Deep Learning ###\n",
    "import torch\n",
    "from torch import nn\n",
    "import torch.optim as optim\n",
    "from torch.nn import functional as F\n",
    "from torch.nn.modules.loss import _WeightedLoss\n",
    "from torch.utils.data import DataLoader, Dataset\n",
    "from torch.optim.lr_scheduler import ReduceLROnPlateau\n",
    "# Tabnet \n",
    "from pytorch_tabnet.metrics import Metric\n",
    "from pytorch_tabnet.tab_model import TabNetRegressor\n",
    "\n",
    "### Make prettier the prints ###\n",
    "from colorama import Fore\n",
    "c_ = Fore.CYAN\n",
    "m_ = Fore.MAGENTA\n",
    "r_ = Fore.RED\n",
    "b_ = Fore.BLUE\n",
    "y_ = Fore.YELLOW\n",
    "g_ = Fore.GREEN"
   ]
  },
  {
   "cell_type": "markdown",
   "metadata": {
    "papermill": {
     "duration": 0.045163,
     "end_time": "2020-11-17T16:25:41.410995",
     "exception": false,
     "start_time": "2020-11-17T16:25:41.365832",
     "status": "completed"
    },
    "tags": []
   },
   "source": [
    "## <font color = \"green\">Reproducibility</font>"
   ]
  },
  {
   "cell_type": "code",
   "execution_count": 3,
   "metadata": {
    "execution": {
     "iopub.execute_input": "2020-11-17T16:25:41.510490Z",
     "iopub.status.busy": "2020-11-17T16:25:41.509565Z",
     "iopub.status.idle": "2020-11-17T16:25:41.516717Z",
     "shell.execute_reply": "2020-11-17T16:25:41.515849Z"
    },
    "papermill": {
     "duration": 0.061206,
     "end_time": "2020-11-17T16:25:41.516859",
     "exception": false,
     "start_time": "2020-11-17T16:25:41.455653",
     "status": "completed"
    },
    "tags": []
   },
   "outputs": [],
   "source": [
    "seed = 42\n",
    "\n",
    "def set_seed(seed):\n",
    "    random.seed(seed)\n",
    "    np.random.seed(seed)\n",
    "    torch.manual_seed(seed)\n",
    "    os.environ[\"PYTHONHASHSEED\"] = str(seed)\n",
    "    \n",
    "    if torch.cuda.is_available():\n",
    "        torch.cuda.manual_seed(seed)\n",
    "        torch.cuda.manual_seed_all(seed)\n",
    "        torch.backends.cudnn.deterministic = True\n",
    "        torch.backends.cudnn.benchmark = False\n",
    "set_seed(seed)"
   ]
  },
  {
   "cell_type": "markdown",
   "metadata": {
    "papermill": {
     "duration": 0.044816,
     "end_time": "2020-11-17T16:25:41.607352",
     "exception": false,
     "start_time": "2020-11-17T16:25:41.562536",
     "status": "completed"
    },
    "tags": []
   },
   "source": [
    "## <font color = \"green\">Configuration</font>"
   ]
  },
  {
   "cell_type": "code",
   "execution_count": 4,
   "metadata": {
    "execution": {
     "iopub.execute_input": "2020-11-17T16:25:41.705533Z",
     "iopub.status.busy": "2020-11-17T16:25:41.704665Z",
     "iopub.status.idle": "2020-11-17T16:25:41.708142Z",
     "shell.execute_reply": "2020-11-17T16:25:41.707314Z"
    },
    "papermill": {
     "duration": 0.056027,
     "end_time": "2020-11-17T16:25:41.708276",
     "exception": false,
     "start_time": "2020-11-17T16:25:41.652249",
     "status": "completed"
    },
    "tags": []
   },
   "outputs": [],
   "source": [
    "# Parameters\n",
    "data_path = \"../input/lish-moa/\"\n",
    "no_ctl = False\n",
    "no_nonscored = True\n",
    "scale = \"rankgauss\"\n",
    "variance_threshould = 0.7\n",
    "decompo = \"PCA\"\n",
    "ncompo_genes = 80\n",
    "ncompo_cells = 10\n",
    "encoding = \"dummy\""
   ]
  },
  {
   "cell_type": "markdown",
   "metadata": {
    "papermill": {
     "duration": 0.048013,
     "end_time": "2020-11-17T16:25:41.802628",
     "exception": false,
     "start_time": "2020-11-17T16:25:41.754615",
     "status": "completed"
    },
    "tags": []
   },
   "source": [
    "## <font color = \"green\">Loading the Data</font>"
   ]
  },
  {
   "cell_type": "code",
   "execution_count": 5,
   "metadata": {
    "execution": {
     "iopub.execute_input": "2020-11-17T16:25:41.904526Z",
     "iopub.status.busy": "2020-11-17T16:25:41.903545Z",
     "iopub.status.idle": "2020-11-17T16:25:48.598738Z",
     "shell.execute_reply": "2020-11-17T16:25:48.597856Z"
    },
    "papermill": {
     "duration": 6.751076,
     "end_time": "2020-11-17T16:25:48.598878",
     "exception": false,
     "start_time": "2020-11-17T16:25:41.847802",
     "status": "completed"
    },
    "tags": []
   },
   "outputs": [],
   "source": [
    "train = pd.read_csv(data_path + \"train_features.csv\")\n",
    "#train.drop(columns = [\"sig_id\"], inplace = True)\n",
    "\n",
    "targets = pd.read_csv(data_path + \"train_targets_scored.csv\")\n",
    "#train_targets_scored.drop(columns = [\"sig_id\"], inplace = True)\n",
    "\n",
    "if not no_nonscored:\n",
    "    train_targets_nonscored = pd.read_csv(data_path + \"train_targets_nonscored.csv\")\n",
    "    train = train.merge(train_targets_nonscored, on='sig_id')\n",
    "\n",
    "test = pd.read_csv(data_path + \"test_features.csv\")\n",
    "#test.drop(columns = [\"sig_id\"], inplace = True)\n",
    "\n",
    "submission = pd.read_csv(data_path + \"sample_submission.csv\")"
   ]
  },
  {
   "cell_type": "markdown",
   "metadata": {
    "papermill": {
     "duration": 0.047936,
     "end_time": "2020-11-17T16:25:48.695831",
     "exception": false,
     "start_time": "2020-11-17T16:25:48.647895",
     "status": "completed"
    },
    "tags": []
   },
   "source": [
    "# <font color = \"seagreen\">Preprocessing and Feature Engineering</font>"
   ]
  },
  {
   "cell_type": "code",
   "execution_count": 6,
   "metadata": {
    "execution": {
     "iopub.execute_input": "2020-11-17T16:25:48.800121Z",
     "iopub.status.busy": "2020-11-17T16:25:48.798989Z",
     "iopub.status.idle": "2020-11-17T16:25:48.802078Z",
     "shell.execute_reply": "2020-11-17T16:25:48.801379Z"
    },
    "papermill": {
     "duration": 0.059796,
     "end_time": "2020-11-17T16:25:48.802228",
     "exception": false,
     "start_time": "2020-11-17T16:25:48.742432",
     "status": "completed"
    },
    "tags": []
   },
   "outputs": [],
   "source": [
    "if no_ctl:\n",
    "    # cp_type == ctl_vehicle\n",
    "    print(b_, \"not_ctl\")\n",
    "    train = train[train[\"cp_type\"] != \"ctl_vehicle\"]\n",
    "    test = test[test[\"cp_type\"] != \"ctl_vehicle\"]\n",
    "    targets = targets.iloc[train.index]\n",
    "    train.reset_index(drop = True, inplace = True)\n",
    "    test.reset_index(drop = True, inplace = True)\n",
    "    targets.reset_index(drop = True, inplace = True)"
   ]
  },
  {
   "cell_type": "markdown",
   "metadata": {
    "papermill": {
     "duration": 0.047341,
     "end_time": "2020-11-17T16:25:48.897974",
     "exception": false,
     "start_time": "2020-11-17T16:25:48.850633",
     "status": "completed"
    },
    "tags": []
   },
   "source": [
    "## <font color = \"green\">Distributions Before Rank Gauss and PCA</font>"
   ]
  },
  {
   "cell_type": "code",
   "execution_count": 7,
   "metadata": {
    "execution": {
     "iopub.execute_input": "2020-11-17T16:25:49.001188Z",
     "iopub.status.busy": "2020-11-17T16:25:48.998687Z",
     "iopub.status.idle": "2020-11-17T16:25:49.005370Z",
     "shell.execute_reply": "2020-11-17T16:25:49.004664Z"
    },
    "papermill": {
     "duration": 0.061303,
     "end_time": "2020-11-17T16:25:49.005512",
     "exception": false,
     "start_time": "2020-11-17T16:25:48.944209",
     "status": "completed"
    },
    "tags": []
   },
   "outputs": [],
   "source": [
    "def distributions(num, graphs, items, features, gorc):\n",
    "    \"\"\"\n",
    "    Plot the distributions of gene expression or cell viability data\n",
    "    \"\"\"\n",
    "    for i in range(0, num - 1, 7):\n",
    "        if i >= 3:\n",
    "            break\n",
    "        idxs = list(np.array([0, 1, 2, 3, 4, 5, 6]) + i)\n",
    "    \n",
    "        fig, axs = plt.subplots(1, 7, sharey = True)\n",
    "        for k, item in enumerate(idxs):\n",
    "            if item >= items:\n",
    "                break\n",
    "            graph = sns.distplot(train[features].values[:, item], ax = axs[k])\n",
    "            graph.set_title(f\"{gorc}-{item}\")\n",
    "            graphs.append(graph)"
   ]
  },
  {
   "cell_type": "code",
   "execution_count": 8,
   "metadata": {
    "execution": {
     "iopub.execute_input": "2020-11-17T16:25:49.109495Z",
     "iopub.status.busy": "2020-11-17T16:25:49.108357Z",
     "iopub.status.idle": "2020-11-17T16:25:49.112440Z",
     "shell.execute_reply": "2020-11-17T16:25:49.111768Z"
    },
    "papermill": {
     "duration": 0.05722,
     "end_time": "2020-11-17T16:25:49.112581",
     "exception": false,
     "start_time": "2020-11-17T16:25:49.055361",
     "status": "completed"
    },
    "tags": []
   },
   "outputs": [],
   "source": [
    "GENES = [col for col in train.columns if col.startswith(\"g-\")]\n",
    "CELLS = [col for col in train.columns if col.startswith(\"c-\")]"
   ]
  },
  {
   "cell_type": "markdown",
   "metadata": {
    "papermill": {
     "duration": 0.046238,
     "end_time": "2020-11-17T16:25:49.206310",
     "exception": false,
     "start_time": "2020-11-17T16:25:49.160072",
     "status": "completed"
    },
    "tags": []
   },
   "source": [
    "### <font color = \"green\">Distributions of the Train Set</font>"
   ]
  },
  {
   "cell_type": "code",
   "execution_count": 9,
   "metadata": {
    "execution": {
     "iopub.execute_input": "2020-11-17T16:25:49.304114Z",
     "iopub.status.busy": "2020-11-17T16:25:49.302964Z",
     "iopub.status.idle": "2020-11-17T16:25:49.306747Z",
     "shell.execute_reply": "2020-11-17T16:25:49.305976Z"
    },
    "papermill": {
     "duration": 0.053681,
     "end_time": "2020-11-17T16:25:49.306879",
     "exception": false,
     "start_time": "2020-11-17T16:25:49.253198",
     "status": "completed"
    },
    "tags": []
   },
   "outputs": [],
   "source": [
    "# gnum = train[GENES].shape[1]\n",
    "# graphs = []\n",
    "\n",
    "# distributions(gnum, graphs, 771, GENES, \"g\")"
   ]
  },
  {
   "cell_type": "code",
   "execution_count": 10,
   "metadata": {
    "execution": {
     "iopub.execute_input": "2020-11-17T16:25:49.408355Z",
     "iopub.status.busy": "2020-11-17T16:25:49.407258Z",
     "iopub.status.idle": "2020-11-17T16:25:49.410876Z",
     "shell.execute_reply": "2020-11-17T16:25:49.410082Z"
    },
    "papermill": {
     "duration": 0.055278,
     "end_time": "2020-11-17T16:25:49.411008",
     "exception": false,
     "start_time": "2020-11-17T16:25:49.355730",
     "status": "completed"
    },
    "tags": []
   },
   "outputs": [],
   "source": [
    "# cnum = train[CELLS].shape[1]\n",
    "# graphs = []\n",
    "\n",
    "# distributions(cnum, graphs, 100, CELLS, \"c\")"
   ]
  },
  {
   "cell_type": "markdown",
   "metadata": {
    "papermill": {
     "duration": 0.047634,
     "end_time": "2020-11-17T16:25:49.505926",
     "exception": false,
     "start_time": "2020-11-17T16:25:49.458292",
     "status": "completed"
    },
    "tags": []
   },
   "source": [
    "### <font color = \"green\">Distributions of the Test Set</font>"
   ]
  },
  {
   "cell_type": "code",
   "execution_count": 11,
   "metadata": {
    "execution": {
     "iopub.execute_input": "2020-11-17T16:25:49.606774Z",
     "iopub.status.busy": "2020-11-17T16:25:49.605939Z",
     "iopub.status.idle": "2020-11-17T16:25:49.609783Z",
     "shell.execute_reply": "2020-11-17T16:25:49.609025Z"
    },
    "papermill": {
     "duration": 0.055727,
     "end_time": "2020-11-17T16:25:49.609915",
     "exception": false,
     "start_time": "2020-11-17T16:25:49.554188",
     "status": "completed"
    },
    "tags": []
   },
   "outputs": [],
   "source": [
    "# gnum = test[GENES].shape[1]\n",
    "# graphs = []\n",
    "\n",
    "# distributions(gnum, graphs, 771, GENES, \"g\")"
   ]
  },
  {
   "cell_type": "code",
   "execution_count": 12,
   "metadata": {
    "execution": {
     "iopub.execute_input": "2020-11-17T16:25:49.717174Z",
     "iopub.status.busy": "2020-11-17T16:25:49.716243Z",
     "iopub.status.idle": "2020-11-17T16:25:49.719253Z",
     "shell.execute_reply": "2020-11-17T16:25:49.719908Z"
    },
    "papermill": {
     "duration": 0.060542,
     "end_time": "2020-11-17T16:25:49.720079",
     "exception": false,
     "start_time": "2020-11-17T16:25:49.659537",
     "status": "completed"
    },
    "tags": []
   },
   "outputs": [],
   "source": [
    "# cnum = test[CELLS].shape[1]\n",
    "# graphs = []\n",
    "\n",
    "# distributions(cnum, graphs, 100, CELLS, \"c\")"
   ]
  },
  {
   "cell_type": "markdown",
   "metadata": {
    "papermill": {
     "duration": 0.047849,
     "end_time": "2020-11-17T16:25:49.817089",
     "exception": false,
     "start_time": "2020-11-17T16:25:49.769240",
     "status": "completed"
    },
    "tags": []
   },
   "source": [
    "## <font color = \"green\">Rank Gauss Process</font>"
   ]
  },
  {
   "cell_type": "code",
   "execution_count": 13,
   "metadata": {
    "execution": {
     "iopub.execute_input": "2020-11-17T16:25:49.923571Z",
     "iopub.status.busy": "2020-11-17T16:25:49.922693Z",
     "iopub.status.idle": "2020-11-17T16:25:50.549984Z",
     "shell.execute_reply": "2020-11-17T16:25:50.549286Z"
    },
    "papermill": {
     "duration": 0.685425,
     "end_time": "2020-11-17T16:25:50.550128",
     "exception": false,
     "start_time": "2020-11-17T16:25:49.864703",
     "status": "completed"
    },
    "tags": []
   },
   "outputs": [],
   "source": [
    "data_all = pd.concat([train, test], ignore_index = True)\n",
    "cols_numeric = [feat for feat in list(data_all.columns) if feat not in [\"sig_id\", \"cp_type\", \"cp_time\", \"cp_dose\"]]\n",
    "mask = (data_all[cols_numeric].var() >= variance_threshould).values\n",
    "tmp = data_all[cols_numeric].loc[:, mask]\n",
    "data_all = pd.concat([data_all[[\"sig_id\", \"cp_type\", \"cp_time\", \"cp_dose\"]], tmp], axis = 1)\n",
    "cols_numeric = [feat for feat in list(data_all.columns) if feat not in [\"sig_id\", \"cp_type\", \"cp_time\", \"cp_dose\"]]"
   ]
  },
  {
   "cell_type": "code",
   "execution_count": 14,
   "metadata": {
    "execution": {
     "iopub.execute_input": "2020-11-17T16:25:50.666133Z",
     "iopub.status.busy": "2020-11-17T16:25:50.657348Z",
     "iopub.status.idle": "2020-11-17T16:26:10.952018Z",
     "shell.execute_reply": "2020-11-17T16:26:10.951264Z"
    },
    "papermill": {
     "duration": 20.352734,
     "end_time": "2020-11-17T16:26:10.952156",
     "exception": false,
     "start_time": "2020-11-17T16:25:50.599422",
     "status": "completed"
    },
    "tags": []
   },
   "outputs": [
    {
     "name": "stdout",
     "output_type": "stream",
     "text": [
      "\u001b[34m Rank Gauss\n"
     ]
    }
   ],
   "source": [
    "def scale_minmax(col):\n",
    "    return (col - col.min()) / (col.max() - col.min())\n",
    "\n",
    "def scale_norm(col):\n",
    "    return (col - col.mean()) / col.std()\n",
    "\n",
    "if scale == \"boxcox\":\n",
    "    print(b_, \"boxcox\")\n",
    "    data_all[cols_numeric] = data_all[cols_numeric].apply(scale_minmax, axis = 0)\n",
    "    trans = []\n",
    "    for feat in cols_numeric:\n",
    "        trans_var, lambda_var = stats.boxcox(data_all[feat].dropna() + 1)\n",
    "        trans.append(scale_minmax(trans_var))\n",
    "    data_all[cols_numeric] = np.asarray(trans).T\n",
    "    \n",
    "elif scale == \"norm\":\n",
    "    print(b_, \"norm\")\n",
    "    data_all[cols_numeric] = data_all[cols_numeric].apply(scale_norm, axis = 0)\n",
    "    \n",
    "elif scale == \"minmax\":\n",
    "    print(b_, \"minmax\")\n",
    "    data_all[cols_numeric] = data_all[cols_numeric].apply(scale_minmax, axis = 0)\n",
    "    \n",
    "elif scale == \"rankgauss\":\n",
    "    ### Rank Gauss ###\n",
    "    print(b_, \"Rank Gauss\")\n",
    "    scaler = GaussRankScaler()\n",
    "    data_all[cols_numeric] = scaler.fit_transform(data_all[cols_numeric])\n",
    "    \n",
    "else:\n",
    "    pass"
   ]
  },
  {
   "cell_type": "markdown",
   "metadata": {
    "papermill": {
     "duration": 0.051665,
     "end_time": "2020-11-17T16:26:11.056121",
     "exception": false,
     "start_time": "2020-11-17T16:26:11.004456",
     "status": "completed"
    },
    "tags": []
   },
   "source": [
    "## <font color = \"green\">Principal Component Analysis</font>"
   ]
  },
  {
   "cell_type": "code",
   "execution_count": 15,
   "metadata": {
    "execution": {
     "iopub.execute_input": "2020-11-17T16:26:11.229784Z",
     "iopub.status.busy": "2020-11-17T16:26:11.172915Z",
     "iopub.status.idle": "2020-11-17T16:26:12.973947Z",
     "shell.execute_reply": "2020-11-17T16:26:12.973021Z"
    },
    "papermill": {
     "duration": 1.865473,
     "end_time": "2020-11-17T16:26:12.974116",
     "exception": false,
     "start_time": "2020-11-17T16:26:11.108643",
     "status": "completed"
    },
    "tags": []
   },
   "outputs": [
    {
     "name": "stdout",
     "output_type": "stream",
     "text": [
      "\u001b[34m PCA\n"
     ]
    }
   ],
   "source": [
    "# PCA\n",
    "if decompo == \"PCA\":\n",
    "    print(b_, \"PCA\")\n",
    "    GENES = [col for col in data_all.columns if col.startswith(\"g-\")]\n",
    "    CELLS = [col for col in data_all.columns if col.startswith(\"c-\")]\n",
    "    \n",
    "    pca_genes = PCA(n_components = ncompo_genes,\n",
    "                    random_state = seed).fit_transform(data_all[GENES])\n",
    "    pca_cells = PCA(n_components = ncompo_cells,\n",
    "                    random_state = seed).fit_transform(data_all[CELLS])\n",
    "    \n",
    "    pca_genes = pd.DataFrame(pca_genes, columns = [f\"pca_g-{i}\" for i in range(ncompo_genes)])\n",
    "    pca_cells = pd.DataFrame(pca_cells, columns = [f\"pca_c-{i}\" for i in range(ncompo_cells)])\n",
    "    data_all = pd.concat([data_all, pca_genes, pca_cells], axis = 1)\n",
    "else:\n",
    "    pass"
   ]
  },
  {
   "cell_type": "markdown",
   "metadata": {
    "papermill": {
     "duration": 0.048594,
     "end_time": "2020-11-17T16:26:13.077568",
     "exception": false,
     "start_time": "2020-11-17T16:26:13.028974",
     "status": "completed"
    },
    "tags": []
   },
   "source": [
    "## <font color = \"green\">One Hot</font>"
   ]
  },
  {
   "cell_type": "code",
   "execution_count": 16,
   "metadata": {
    "execution": {
     "iopub.execute_input": "2020-11-17T16:26:13.188475Z",
     "iopub.status.busy": "2020-11-17T16:26:13.187073Z",
     "iopub.status.idle": "2020-11-17T16:26:13.503410Z",
     "shell.execute_reply": "2020-11-17T16:26:13.502501Z"
    },
    "papermill": {
     "duration": 0.37507,
     "end_time": "2020-11-17T16:26:13.503551",
     "exception": false,
     "start_time": "2020-11-17T16:26:13.128481",
     "status": "completed"
    },
    "tags": []
   },
   "outputs": [
    {
     "name": "stdout",
     "output_type": "stream",
     "text": [
      "\u001b[34m One-Hot\n"
     ]
    }
   ],
   "source": [
    "# Encoding\n",
    "if encoding == \"lb\":\n",
    "    print(b_, \"Label Encoding\")\n",
    "    for feat in [\"cp_time\", \"cp_dose\"]:\n",
    "        data_all[feat] = LabelEncoder().fit_transform(data_all[feat])\n",
    "elif encoding == \"dummy\":\n",
    "    print(b_, \"One-Hot\")\n",
    "    data_all = pd.get_dummies(data_all, columns = [\"cp_time\", \"cp_dose\"])"
   ]
  },
  {
   "cell_type": "code",
   "execution_count": 17,
   "metadata": {
    "execution": {
     "iopub.execute_input": "2020-11-17T16:26:13.616233Z",
     "iopub.status.busy": "2020-11-17T16:26:13.615123Z",
     "iopub.status.idle": "2020-11-17T16:26:19.170489Z",
     "shell.execute_reply": "2020-11-17T16:26:19.171147Z"
    },
    "papermill": {
     "duration": 5.6185,
     "end_time": "2020-11-17T16:26:19.171342",
     "exception": false,
     "start_time": "2020-11-17T16:26:13.552842",
     "status": "completed"
    },
    "tags": []
   },
   "outputs": [
    {
     "name": "stderr",
     "output_type": "stream",
     "text": [
      "100%|██████████| 5/5 [00:05<00:00,  1.11s/it]\n"
     ]
    }
   ],
   "source": [
    "GENES = [col for col in data_all.columns if col.startswith(\"g-\")]\n",
    "CELLS = [col for col in data_all.columns if col.startswith(\"c-\")]\n",
    "\n",
    "for stats in tqdm.tqdm([\"sum\", \"mean\", \"std\", \"kurt\", \"skew\"]):\n",
    "    data_all[\"g_\" + stats] = getattr(data_all[GENES], stats)(axis = 1)\n",
    "    data_all[\"c_\" + stats] = getattr(data_all[CELLS], stats)(axis = 1)    \n",
    "    data_all[\"gc_\" + stats] = getattr(data_all[GENES + CELLS], stats)(axis = 1)"
   ]
  },
  {
   "cell_type": "markdown",
   "metadata": {
    "papermill": {
     "duration": 0.052333,
     "end_time": "2020-11-17T16:26:19.277072",
     "exception": false,
     "start_time": "2020-11-17T16:26:19.224739",
     "status": "completed"
    },
    "tags": []
   },
   "source": [
    "## <font color = \"green\">Distributions After Rank Gauss and PCA</font>"
   ]
  },
  {
   "cell_type": "code",
   "execution_count": 18,
   "metadata": {
    "execution": {
     "iopub.execute_input": "2020-11-17T16:26:19.390297Z",
     "iopub.status.busy": "2020-11-17T16:26:19.389357Z",
     "iopub.status.idle": "2020-11-17T16:26:19.396204Z",
     "shell.execute_reply": "2020-11-17T16:26:19.395502Z"
    },
    "papermill": {
     "duration": 0.067795,
     "end_time": "2020-11-17T16:26:19.396336",
     "exception": false,
     "start_time": "2020-11-17T16:26:19.328541",
     "status": "completed"
    },
    "tags": []
   },
   "outputs": [],
   "source": [
    "def distributions(num, graphs, items, features, gorc):\n",
    "    \"\"\"\n",
    "    Plot the distributions of gene expression or cell viability data\n",
    "    \"\"\"\n",
    "    for i in range(0, num - 1, 7):\n",
    "        if i >= 3:\n",
    "            break\n",
    "        idxs = list(np.array([0, 1, 2, 3, 4, 5, 6]) + i)\n",
    "    \n",
    "        fig, axs = plt.subplots(1, 7, sharey = True)\n",
    "        for k, item in enumerate(idxs):\n",
    "            if item >= items:\n",
    "                break\n",
    "            graph = sns.distplot(data_all[features].values[:, item], ax = axs[k])\n",
    "            graph.set_title(f\"{gorc}-{item}\")\n",
    "            graphs.append(graph)"
   ]
  },
  {
   "cell_type": "markdown",
   "metadata": {
    "papermill": {
     "duration": 0.052299,
     "end_time": "2020-11-17T16:26:19.501109",
     "exception": false,
     "start_time": "2020-11-17T16:26:19.448810",
     "status": "completed"
    },
    "tags": []
   },
   "source": [
    "### <font color = \"green\">Distributions of \"data_all\"</font>"
   ]
  },
  {
   "cell_type": "code",
   "execution_count": 19,
   "metadata": {
    "execution": {
     "iopub.execute_input": "2020-11-17T16:26:19.612227Z",
     "iopub.status.busy": "2020-11-17T16:26:19.611451Z",
     "iopub.status.idle": "2020-11-17T16:26:19.615124Z",
     "shell.execute_reply": "2020-11-17T16:26:19.614323Z"
    },
    "papermill": {
     "duration": 0.061743,
     "end_time": "2020-11-17T16:26:19.615254",
     "exception": false,
     "start_time": "2020-11-17T16:26:19.553511",
     "status": "completed"
    },
    "tags": []
   },
   "outputs": [],
   "source": [
    "# gnum = data_all[GENES].shape[1]\n",
    "# graphs = []\n",
    "\n",
    "# distributions(gnum, graphs, 771, GENES, \"g\")"
   ]
  },
  {
   "cell_type": "code",
   "execution_count": 20,
   "metadata": {
    "execution": {
     "iopub.execute_input": "2020-11-17T16:26:19.726332Z",
     "iopub.status.busy": "2020-11-17T16:26:19.725492Z",
     "iopub.status.idle": "2020-11-17T16:26:19.728812Z",
     "shell.execute_reply": "2020-11-17T16:26:19.728050Z"
    },
    "papermill": {
     "duration": 0.060571,
     "end_time": "2020-11-17T16:26:19.728941",
     "exception": false,
     "start_time": "2020-11-17T16:26:19.668370",
     "status": "completed"
    },
    "tags": []
   },
   "outputs": [],
   "source": [
    "# cnum = data_all[CELLS].shape[1]\n",
    "# graphs = []\n",
    "\n",
    "# distributions(cnum, graphs, 100, CELLS, \"c\")"
   ]
  },
  {
   "cell_type": "markdown",
   "metadata": {
    "papermill": {
     "duration": 0.053119,
     "end_time": "2020-11-17T16:26:19.835055",
     "exception": false,
     "start_time": "2020-11-17T16:26:19.781936",
     "status": "completed"
    },
    "tags": []
   },
   "source": [
    "We can confirme that the shapes of data got close to the normal distribution."
   ]
  },
  {
   "cell_type": "code",
   "execution_count": 21,
   "metadata": {
    "execution": {
     "iopub.execute_input": "2020-11-17T16:26:20.123112Z",
     "iopub.status.busy": "2020-11-17T16:26:19.946751Z",
     "iopub.status.idle": "2020-11-17T16:26:20.316447Z",
     "shell.execute_reply": "2020-11-17T16:26:20.315825Z"
    },
    "papermill": {
     "duration": 0.429334,
     "end_time": "2020-11-17T16:26:20.316613",
     "exception": false,
     "start_time": "2020-11-17T16:26:19.887279",
     "status": "completed"
    },
    "tags": []
   },
   "outputs": [],
   "source": [
    "with open(\"data_all.pickle\", \"wb\") as f:\n",
    "    pickle.dump(data_all, f)"
   ]
  },
  {
   "cell_type": "code",
   "execution_count": 22,
   "metadata": {
    "execution": {
     "iopub.execute_input": "2020-11-17T16:26:20.431138Z",
     "iopub.status.busy": "2020-11-17T16:26:20.430315Z",
     "iopub.status.idle": "2020-11-17T16:26:20.745089Z",
     "shell.execute_reply": "2020-11-17T16:26:20.745890Z"
    },
    "papermill": {
     "duration": 0.375599,
     "end_time": "2020-11-17T16:26:20.746073",
     "exception": false,
     "start_time": "2020-11-17T16:26:20.370474",
     "status": "completed"
    },
    "tags": []
   },
   "outputs": [],
   "source": [
    "with open(\"data_all.pickle\", \"rb\") as f:\n",
    "    data_all = pickle.load(f)"
   ]
  },
  {
   "cell_type": "code",
   "execution_count": 23,
   "metadata": {
    "execution": {
     "iopub.execute_input": "2020-11-17T16:26:20.865446Z",
     "iopub.status.busy": "2020-11-17T16:26:20.864663Z",
     "iopub.status.idle": "2020-11-17T16:26:21.113813Z",
     "shell.execute_reply": "2020-11-17T16:26:21.114488Z"
    },
    "papermill": {
     "duration": 0.313453,
     "end_time": "2020-11-17T16:26:21.114674",
     "exception": false,
     "start_time": "2020-11-17T16:26:20.801221",
     "status": "completed"
    },
    "tags": []
   },
   "outputs": [],
   "source": [
    "# train_df and test_df\n",
    "features_to_drop = [\"sig_id\", \"cp_type\"]\n",
    "data_all.drop(features_to_drop, axis = 1, inplace = True)\n",
    "try:\n",
    "    targets.drop(\"sig_id\", axis = 1, inplace = True)\n",
    "except:\n",
    "    pass\n",
    "train_df = data_all[: train.shape[0]]\n",
    "train_df.reset_index(drop = True, inplace = True)\n",
    "# The following line it's a bad practice in my opinion, targets on train set\n",
    "#train_df = pd.concat([train_df, targets], axis = 1)\n",
    "test_df = data_all[train_df.shape[0]: ]\n",
    "test_df.reset_index(drop = True, inplace = True)"
   ]
  },
  {
   "cell_type": "code",
   "execution_count": 24,
   "metadata": {
    "execution": {
     "iopub.execute_input": "2020-11-17T16:26:21.229730Z",
     "iopub.status.busy": "2020-11-17T16:26:21.228646Z",
     "iopub.status.idle": "2020-11-17T16:26:21.232420Z",
     "shell.execute_reply": "2020-11-17T16:26:21.233218Z"
    },
    "papermill": {
     "duration": 0.064756,
     "end_time": "2020-11-17T16:26:21.233398",
     "exception": false,
     "start_time": "2020-11-17T16:26:21.168642",
     "status": "completed"
    },
    "tags": []
   },
   "outputs": [
    {
     "name": "stdout",
     "output_type": "stream",
     "text": [
      "\u001b[34mtrain_df.shape: \u001b[31m(23814, 950)\n",
      "\u001b[34mtest_df.shape: \u001b[31m(3982, 950)\n"
     ]
    }
   ],
   "source": [
    "print(f\"{b_}train_df.shape: {r_}{train_df.shape}\")\n",
    "print(f\"{b_}test_df.shape: {r_}{test_df.shape}\")"
   ]
  },
  {
   "cell_type": "code",
   "execution_count": 25,
   "metadata": {
    "execution": {
     "iopub.execute_input": "2020-11-17T16:26:21.347819Z",
     "iopub.status.busy": "2020-11-17T16:26:21.346879Z",
     "iopub.status.idle": "2020-11-17T16:26:21.363322Z",
     "shell.execute_reply": "2020-11-17T16:26:21.362701Z"
    },
    "papermill": {
     "duration": 0.07561,
     "end_time": "2020-11-17T16:26:21.363458",
     "exception": false,
     "start_time": "2020-11-17T16:26:21.287848",
     "status": "completed"
    },
    "tags": []
   },
   "outputs": [
    {
     "name": "stdout",
     "output_type": "stream",
     "text": [
      "\u001b[34mX_test.shape: \u001b[31m(3982, 950)\n"
     ]
    }
   ],
   "source": [
    "X_test = test_df.values\n",
    "print(f\"{b_}X_test.shape: {r_}{X_test.shape}\")"
   ]
  },
  {
   "cell_type": "markdown",
   "metadata": {
    "papermill": {
     "duration": 0.055416,
     "end_time": "2020-11-17T16:26:21.475408",
     "exception": false,
     "start_time": "2020-11-17T16:26:21.419992",
     "status": "completed"
    },
    "tags": []
   },
   "source": [
    "# <font color = \"seagreen\">Experiments</font>\n",
    "\n",
    "I just want to point that the [original work](https://www.kaggle.com/optimo/tabnetregressor-2-0-train-infer) achive a CV of 0.015532370835690834 and a LB score of 0.01864. Some of the experiments that i made with their changes:\n",
    "\n",
    "\n",
    "- CV: 0.01543560538566987, LB: 0.01858, best LB that i could achive, changes\n",
    "    - `n_a` = 32 instead of 24\n",
    "    - `n_d` = 32 instead of 24\n",
    "- CV: 0.015282077428722094, LB: 0.01862, best CV that i could achive, changes (Version 5):\n",
    "    - `n_a` = 32 instead of 24\n",
    "    - `n_d` = 32 instead of 24\n",
    "    - `virtual_batch_size` = 32, instead of 128\n",
    "    - `seed` = 42 instead of 0\n",
    "- CV: 0.015330138325308062, LB: 01864, the same LB that the original but better CV, changes:\n",
    "    - `n_a` = 32 instead of 24\n",
    "    - `n_d` = 32 instead of 24\n",
    "    - `virtual_batch_size` = 64, instead of 128\n",
    "    - `batch_size` = 512, instead of 1024\n",
    "- CV: 0.015361751699863063, LB: 0.01863, better LB and CV than the original, changes:\n",
    "    - `n_a` = 32 instead of 24\n",
    "    - `n_d` = 32 instead of 24\n",
    "    - `virtual_batch_size` = 64, instead of 128\n",
    "- CV: 0.015529925324634975, LB: 0.01865, changes:\n",
    "    - `n_a` = 48 instead of 24\n",
    "    - `n_d` = 48 instead of 24\n",
    "- CV: 0.015528553520924939, LB: 0.01868, changes:\n",
    "    - `n_a` = 12 instead of 24\n",
    "    - `n_d` = 12 instead of 24\n",
    "- CV: 0.015870202970324317, LB: 0.01876, worst CV and LB score, changes:\n",
    "    - `n_a` = 12 instead of 24\n",
    "    - `n_d` = 12 instead of 24\n",
    "    - `batch_size` = 2048, instead of 1024\n",
    "    \n",
    "    \n",
    "As you can see if `batch_size` < 1024 and > 1024 give worst results. Something similar happens with `n_a` and `n_d`, if their values are lower or higher than 32 the results are worst.\n",
    "\n",
    "\n",
    "## <font color = \"green\">Versions</font>\n",
    "\n",
    "- **Version 5**: I added the `seed` parameter to the TabNet model.\n",
    "- **Version 6**: I changed the `virtual_batch_size` to 24\n",
    "    - CV: 0.01532900616425282, LB: 0.01862, changes:\n",
    "        - `n_a` = 32 instead of 24\n",
    "        - `n_d` = 32 instead of 24\n",
    "        - `virtual_batch_size` = 24, instead of 128\n",
    "        - `seed` = 42 instead of 0\n",
    "- **Version 7**: PCA, Rank Gauss"
   ]
  },
  {
   "cell_type": "markdown",
   "metadata": {
    "papermill": {
     "duration": 0.058779,
     "end_time": "2020-11-17T16:26:21.589576",
     "exception": false,
     "start_time": "2020-11-17T16:26:21.530797",
     "status": "completed"
    },
    "tags": []
   },
   "source": [
    "# <font color = \"seagreen\">Modeling</font>"
   ]
  },
  {
   "cell_type": "markdown",
   "metadata": {
    "papermill": {
     "duration": 0.056114,
     "end_time": "2020-11-17T16:26:21.701529",
     "exception": false,
     "start_time": "2020-11-17T16:26:21.645415",
     "status": "completed"
    },
    "tags": []
   },
   "source": [
    "## <font color = \"green\">Model Parameters</font>"
   ]
  },
  {
   "cell_type": "code",
   "execution_count": 26,
   "metadata": {
    "execution": {
     "iopub.execute_input": "2020-11-17T16:26:21.820522Z",
     "iopub.status.busy": "2020-11-17T16:26:21.819444Z",
     "iopub.status.idle": "2020-11-17T16:26:21.823160Z",
     "shell.execute_reply": "2020-11-17T16:26:21.822285Z"
    },
    "papermill": {
     "duration": 0.067435,
     "end_time": "2020-11-17T16:26:21.823298",
     "exception": false,
     "start_time": "2020-11-17T16:26:21.755863",
     "status": "completed"
    },
    "tags": []
   },
   "outputs": [],
   "source": [
    "MAX_EPOCH = 200\n",
    "# n_d and n_a are different from the original work, 32 instead of 24\n",
    "# This is the first change in the code from the original\n",
    "tabnet_params = dict(\n",
    "    n_d = 32,\n",
    "    n_a = 32,\n",
    "    n_steps = 1,\n",
    "    gamma = 1.3,\n",
    "    lambda_sparse = 0,\n",
    "    optimizer_fn = optim.Adam,\n",
    "    optimizer_params = dict(lr = 2e-2, weight_decay = 1e-5),\n",
    "    mask_type = \"entmax\",\n",
    "    scheduler_params = dict(\n",
    "        mode = \"min\", patience = 5, min_lr = 1e-5, factor = 0.9),\n",
    "    scheduler_fn = ReduceLROnPlateau,\n",
    "    seed = seed,\n",
    "    verbose = 10\n",
    ")"
   ]
  },
  {
   "cell_type": "markdown",
   "metadata": {
    "papermill": {
     "duration": 0.055467,
     "end_time": "2020-11-17T16:26:21.934229",
     "exception": false,
     "start_time": "2020-11-17T16:26:21.878762",
     "status": "completed"
    },
    "tags": []
   },
   "source": [
    "## <font color = \"green\">Custom Metric</font>"
   ]
  },
  {
   "cell_type": "code",
   "execution_count": 27,
   "metadata": {
    "execution": {
     "iopub.execute_input": "2020-11-17T16:26:22.058965Z",
     "iopub.status.busy": "2020-11-17T16:26:22.058153Z",
     "iopub.status.idle": "2020-11-17T16:26:22.061880Z",
     "shell.execute_reply": "2020-11-17T16:26:22.061053Z"
    },
    "papermill": {
     "duration": 0.070691,
     "end_time": "2020-11-17T16:26:22.062021",
     "exception": false,
     "start_time": "2020-11-17T16:26:21.991330",
     "status": "completed"
    },
    "tags": []
   },
   "outputs": [],
   "source": [
    "class LogitsLogLoss(Metric):\n",
    "    \"\"\"\n",
    "    LogLoss with sigmoid applied\n",
    "    \"\"\"\n",
    "\n",
    "    def __init__(self):\n",
    "        self._name = \"logits_ll\"\n",
    "        self._maximize = False\n",
    "\n",
    "    def __call__(self, y_true, y_pred):\n",
    "        \"\"\"\n",
    "        Compute LogLoss of predictions.\n",
    "\n",
    "        Parameters\n",
    "        ----------\n",
    "        y_true: np.ndarray\n",
    "            Target matrix or vector\n",
    "        y_score: np.ndarray\n",
    "            Score matrix or vector\n",
    "\n",
    "        Returns\n",
    "        -------\n",
    "            float\n",
    "            LogLoss of predictions vs targets.\n",
    "        \"\"\"\n",
    "        logits = 1 / (1 + np.exp(-y_pred))\n",
    "        aux = (1 - y_true) * np.log(1 - logits + 1e-15) + y_true * np.log(logits + 1e-15)\n",
    "        return np.mean(-aux)"
   ]
  },
  {
   "cell_type": "markdown",
   "metadata": {
    "papermill": {
     "duration": 0.055882,
     "end_time": "2020-11-17T16:26:22.174004",
     "exception": false,
     "start_time": "2020-11-17T16:26:22.118122",
     "status": "completed"
    },
    "tags": []
   },
   "source": [
    "# <font color = \"seagreen\">Training</font>"
   ]
  },
  {
   "cell_type": "code",
   "execution_count": 28,
   "metadata": {
    "execution": {
     "iopub.execute_input": "2020-11-17T16:26:22.293026Z",
     "iopub.status.busy": "2020-11-17T16:26:22.291833Z",
     "iopub.status.idle": "2020-11-17T16:26:22.295490Z",
     "shell.execute_reply": "2020-11-17T16:26:22.294701Z"
    },
    "papermill": {
     "duration": 0.066165,
     "end_time": "2020-11-17T16:26:22.295644",
     "exception": false,
     "start_time": "2020-11-17T16:26:22.229479",
     "status": "completed"
    },
    "tags": []
   },
   "outputs": [],
   "source": [
    "scores_auc_all = []\n",
    "test_cv_preds = []\n",
    "\n",
    "NB_SPLITS = 5 # 7\n",
    "mskf = MultilabelStratifiedKFold(n_splits = NB_SPLITS, random_state = 0, shuffle = True)\n",
    "\n",
    "oof_preds = []\n",
    "oof_targets = []\n",
    "scores = []\n",
    "scores_auc = []"
   ]
  },
  {
   "cell_type": "markdown",
   "metadata": {
    "papermill": {
     "duration": 0.05453,
     "end_time": "2020-11-17T16:26:22.407061",
     "exception": false,
     "start_time": "2020-11-17T16:26:22.352531",
     "status": "completed"
    },
    "tags": []
   },
   "source": [
    "# <font color = \"seagreen\">Setting New CV</font>"
   ]
  },
  {
   "cell_type": "code",
   "execution_count": 29,
   "metadata": {
    "execution": {
     "iopub.execute_input": "2020-11-17T16:26:22.543689Z",
     "iopub.status.busy": "2020-11-17T16:26:22.525914Z",
     "iopub.status.idle": "2020-11-17T16:26:28.357737Z",
     "shell.execute_reply": "2020-11-17T16:26:28.356920Z"
    },
    "papermill": {
     "duration": 5.896179,
     "end_time": "2020-11-17T16:26:28.357905",
     "exception": false,
     "start_time": "2020-11-17T16:26:22.461726",
     "status": "completed"
    },
    "tags": []
   },
   "outputs": [
    {
     "data": {
      "text/plain": [
       "24"
      ]
     },
     "execution_count": 29,
     "metadata": {},
     "output_type": "execute_result"
    }
   ],
   "source": [
    "SEED = 42\n",
    "feats = pd.read_csv(\"/kaggle/input/lish-moa/train_features.csv\")\n",
    "feats = feats[feats[\"cp_type\"] != \"ctl_vehicle\"]\n",
    "scored = pd.read_csv(\"/kaggle/input/lish-moa/train_targets_scored.csv\")\n",
    "scored = scored.iloc[feats.index]\n",
    "feats.reset_index(drop=True, inplace=True)\n",
    "scored.reset_index(drop=True, inplace=True)\n",
    "drug = pd.read_csv(\"/kaggle/input/lish-moa/train_drug.csv\")\n",
    "tgts = scored.columns[1:]\n",
    "scored = scored.merge(drug, on=\"sig_id\", how=\"left\")\n",
    "\n",
    "# LOCATE DRUGS\n",
    "vc = scored.drug_id.value_counts()\n",
    "vc1 = vc.loc[vc <= 18].index.sort_values()\n",
    "vc2 = vc.loc[vc > 18].index.sort_values()\n",
    "\n",
    "# STRATIFY DRUGS 18X OR LESS\n",
    "dct1 = {}\n",
    "dct2 = {}\n",
    "skf = MultilabelStratifiedKFold(n_splits=NB_SPLITS, shuffle=True, random_state=SEED)\n",
    "tmp = scored.groupby(\"drug_id\")[tgts].mean().loc[vc1]\n",
    "for fold, (idxT, idxV) in enumerate(skf.split(tmp, tmp[tgts])):\n",
    "    dd = {k: fold for k in tmp.index[idxV].values}\n",
    "    dct1.update(dd)\n",
    "\n",
    "# STRATIFY DRUGS MORE THAN 18X\n",
    "skf = MultilabelStratifiedKFold(n_splits=NB_SPLITS, shuffle=True, random_state=SEED)\n",
    "tmp = scored.loc[scored.drug_id.isin(vc2)].reset_index(drop=True)\n",
    "for fold, (idxT, idxV) in enumerate(skf.split(tmp, tmp[tgts])):\n",
    "    dd = {k: fold for k in tmp.sig_id[idxV].values}\n",
    "    dct2.update(dd)\n",
    "\n",
    "# ASSIGN FOLDS\n",
    "scored[\"kfold\"] = scored.drug_id.map(dct1)\n",
    "scored.loc[scored.kfold.isna(), \"kfold\"] = scored.loc[scored.kfold.isna(), \"sig_id\"].map(\n",
    "    dct2\n",
    ")\n",
    "kfold_idx = scored.kfold.astype(\"int8\")\n",
    "train_indices, val_indices = [], []\n",
    "for fold_nb in range(NB_SPLITS):\n",
    "    train_indices.append(kfold_idx[kfold_idx!=fold_nb].index.values)\n",
    "    val_indices.append(kfold_idx[kfold_idx==fold_nb].index.values)\n",
    "del feats, scored, drug, tgts, vc, vc1, vc2, dct1, dct2, skf, tmp\n",
    "gc.collect()"
   ]
  },
  {
   "cell_type": "code",
   "execution_count": 30,
   "metadata": {
    "execution": {
     "iopub.execute_input": "2020-11-17T16:26:28.492099Z",
     "iopub.status.busy": "2020-11-17T16:26:28.491063Z",
     "iopub.status.idle": "2020-11-17T18:40:02.216894Z",
     "shell.execute_reply": "2020-11-17T18:40:02.215861Z"
    },
    "papermill": {
     "duration": 8013.801744,
     "end_time": "2020-11-17T18:40:02.217087",
     "exception": false,
     "start_time": "2020-11-17T16:26:28.415343",
     "status": "completed"
    },
    "tags": []
   },
   "outputs": [
    {
     "name": "stdout",
     "output_type": "stream",
     "text": [
      "\u001b[34m FOLDS:  \u001b[31m 1\n",
      "\u001b[32m ************************************************************ \u001b[36m\n",
      "Device used : cpu\n",
      "epoch 0  | loss: 0.33033 | val_logits_ll: 0.03176 |  0:00:14s\n",
      "epoch 10 | loss: 0.01793 | val_logits_ll: 0.01784 |  0:02:23s\n",
      "epoch 20 | loss: 0.01664 | val_logits_ll: 0.01916 |  0:04:31s\n",
      "epoch 30 | loss: 0.01633 | val_logits_ll: 0.01818 |  0:06:38s\n",
      "epoch 40 | loss: 0.01595 | val_logits_ll: 0.01619 |  0:08:44s\n",
      "epoch 50 | loss: 0.01572 | val_logits_ll: 0.01617 |  0:10:52s\n",
      "epoch 60 | loss: 0.01552 | val_logits_ll: 0.0161  |  0:12:59s\n",
      "epoch 70 | loss: 0.01545 | val_logits_ll: 0.01589 |  0:15:07s\n",
      "epoch 80 | loss: 0.01549 | val_logits_ll: 0.01619 |  0:17:17s\n",
      "epoch 90 | loss: 0.01515 | val_logits_ll: 0.01599 |  0:19:26s\n",
      "epoch 100| loss: 0.01517 | val_logits_ll: 0.01592 |  0:21:43s\n",
      "epoch 110| loss: 0.01494 | val_logits_ll: 0.01586 |  0:24:00s\n",
      "epoch 120| loss: 0.01459 | val_logits_ll: 0.01582 |  0:26:18s\n",
      "epoch 130| loss: 0.01438 | val_logits_ll: 0.0159  |  0:28:38s\n",
      "epoch 140| loss: 0.01417 | val_logits_ll: 0.01579 |  0:30:57s\n",
      "\n",
      "Early stopping occured at epoch 141 with best_epoch = 121 and best_val_logits_ll = 0.01575\n",
      "Best weights from best epoch are automatically used!\n",
      "\u001b[33m ------------------------------------------------------------\n",
      "\u001b[34m FOLDS:  \u001b[31m 2\n",
      "\u001b[32m ************************************************************ \u001b[36m\n",
      "Device used : cpu\n",
      "epoch 0  | loss: 0.33277 | val_logits_ll: 0.03446 |  0:00:12s\n",
      "epoch 10 | loss: 0.01792 | val_logits_ll: 0.01828 |  0:02:18s\n",
      "epoch 20 | loss: 0.01638 | val_logits_ll: 0.01677 |  0:04:25s\n",
      "epoch 30 | loss: 0.01598 | val_logits_ll: 0.01648 |  0:06:35s\n",
      "epoch 40 | loss: 0.01568 | val_logits_ll: 0.01631 |  0:08:40s\n",
      "epoch 50 | loss: 0.01547 | val_logits_ll: 0.01632 |  0:10:50s\n",
      "epoch 60 | loss: 0.01523 | val_logits_ll: 0.01624 |  0:13:00s\n",
      "epoch 70 | loss: 0.01497 | val_logits_ll: 0.01612 |  0:15:06s\n",
      "epoch 80 | loss: 0.01479 | val_logits_ll: 0.01622 |  0:17:16s\n",
      "epoch 90 | loss: 0.01432 | val_logits_ll: 0.01606 |  0:19:23s\n",
      "\n",
      "Early stopping occured at epoch 95 with best_epoch = 75 and best_val_logits_ll = 0.01596\n",
      "Best weights from best epoch are automatically used!\n",
      "\u001b[33m ------------------------------------------------------------\n",
      "\u001b[34m FOLDS:  \u001b[31m 3\n",
      "\u001b[32m ************************************************************ \u001b[36m\n",
      "Device used : cpu\n",
      "epoch 0  | loss: 0.32954 | val_logits_ll: 0.0327  |  0:00:12s\n",
      "epoch 10 | loss: 0.01807 | val_logits_ll: 0.01817 |  0:02:19s\n",
      "epoch 20 | loss: 0.01661 | val_logits_ll: 0.01703 |  0:04:23s\n",
      "epoch 30 | loss: 0.01628 | val_logits_ll: 0.01841 |  0:06:31s\n",
      "epoch 40 | loss: 0.01601 | val_logits_ll: 0.01638 |  0:08:35s\n",
      "epoch 50 | loss: 0.0159  | val_logits_ll: 0.01622 |  0:10:39s\n",
      "epoch 60 | loss: 0.01549 | val_logits_ll: 0.01577 |  0:12:51s\n",
      "epoch 70 | loss: 0.01533 | val_logits_ll: 0.01574 |  0:14:55s\n",
      "epoch 80 | loss: 0.0152  | val_logits_ll: 0.01572 |  0:17:03s\n",
      "epoch 90 | loss: 0.01487 | val_logits_ll: 0.01555 |  0:19:14s\n",
      "epoch 100| loss: 0.0146  | val_logits_ll: 0.01563 |  0:21:27s\n",
      "epoch 110| loss: 0.01447 | val_logits_ll: 0.01573 |  0:23:42s\n",
      "epoch 120| loss: 0.01399 | val_logits_ll: 0.01574 |  0:26:04s\n",
      "\n",
      "Early stopping occured at epoch 125 with best_epoch = 105 and best_val_logits_ll = 0.01553\n",
      "Best weights from best epoch are automatically used!\n",
      "\u001b[33m ------------------------------------------------------------\n",
      "\u001b[34m FOLDS:  \u001b[31m 4\n",
      "\u001b[32m ************************************************************ \u001b[36m\n",
      "Device used : cpu\n",
      "epoch 0  | loss: 0.32667 | val_logits_ll: 0.03014 |  0:00:12s\n",
      "epoch 10 | loss: 0.01793 | val_logits_ll: 0.01839 |  0:02:20s\n",
      "epoch 20 | loss: 0.01655 | val_logits_ll: 0.01956 |  0:04:26s\n",
      "epoch 30 | loss: 0.0159  | val_logits_ll: 0.01636 |  0:06:37s\n",
      "epoch 40 | loss: 0.01561 | val_logits_ll: 0.01607 |  0:08:45s\n",
      "epoch 50 | loss: 0.01527 | val_logits_ll: 0.01589 |  0:10:48s\n",
      "epoch 60 | loss: 0.01528 | val_logits_ll: 0.01632 |  0:12:56s\n",
      "epoch 70 | loss: 0.0149  | val_logits_ll: 0.01569 |  0:15:05s\n",
      "epoch 80 | loss: 0.01472 | val_logits_ll: 0.01577 |  0:17:11s\n",
      "epoch 90 | loss: 0.01426 | val_logits_ll: 0.01561 |  0:19:23s\n",
      "epoch 100| loss: 0.01383 | val_logits_ll: 0.01566 |  0:21:38s\n",
      "\n",
      "Early stopping occured at epoch 101 with best_epoch = 81 and best_val_logits_ll = 0.01551\n",
      "Best weights from best epoch are automatically used!\n",
      "\u001b[33m ------------------------------------------------------------\n",
      "\u001b[34m FOLDS:  \u001b[31m 5\n",
      "\u001b[32m ************************************************************ \u001b[36m\n",
      "Device used : cpu\n",
      "epoch 0  | loss: 0.3312  | val_logits_ll: 0.03206 |  0:00:12s\n",
      "epoch 10 | loss: 0.01804 | val_logits_ll: 0.01799 |  0:02:17s\n",
      "epoch 20 | loss: 0.01669 | val_logits_ll: 0.01689 |  0:04:22s\n",
      "epoch 30 | loss: 0.01625 | val_logits_ll: 0.01663 |  0:06:30s\n",
      "epoch 40 | loss: 0.01602 | val_logits_ll: 0.01616 |  0:08:35s\n",
      "epoch 50 | loss: 0.01583 | val_logits_ll: 0.01586 |  0:10:43s\n",
      "epoch 60 | loss: 0.0157  | val_logits_ll: 0.01599 |  0:12:51s\n",
      "epoch 70 | loss: 0.01555 | val_logits_ll: 0.01607 |  0:14:56s\n",
      "epoch 80 | loss: 0.01532 | val_logits_ll: 0.01587 |  0:17:07s\n",
      "epoch 90 | loss: 0.01516 | val_logits_ll: 0.01571 |  0:19:17s\n",
      "epoch 100| loss: 0.0156  | val_logits_ll: 0.01596 |  0:21:33s\n",
      "epoch 110| loss: 0.01489 | val_logits_ll: 0.01579 |  0:23:54s\n",
      "epoch 120| loss: 0.01463 | val_logits_ll: 0.01563 |  0:26:16s\n",
      "epoch 130| loss: 0.0145  | val_logits_ll: 0.01569 |  0:28:40s\n",
      "epoch 140| loss: 0.01408 | val_logits_ll: 0.0158  |  0:31:06s\n",
      "\n",
      "Early stopping occured at epoch 145 with best_epoch = 125 and best_val_logits_ll = 0.01556\n",
      "Best weights from best epoch are automatically used!\n",
      "\u001b[33m ------------------------------------------------------------\n"
     ]
    }
   ],
   "source": [
    "for fold_nb, (train_idx, val_idx) in enumerate(zip(train_indices, val_indices)):\n",
    "# for fold_nb, (train_idx, val_idx) in enumerate(mskf.split(train_df, targets)):\n",
    "    print(b_,\"FOLDS: \", r_, fold_nb + 1)\n",
    "    print(g_, '*' * 60, c_)\n",
    "    \n",
    "    X_train, y_train = train_df.values[train_idx, :], targets.values[train_idx, :]\n",
    "    X_val, y_val = train_df.values[val_idx, :], targets.values[val_idx, :]\n",
    "    ### Model ###\n",
    "    model = TabNetRegressor(**tabnet_params)\n",
    "        \n",
    "    ### Fit ###\n",
    "    # Another change to the original code\n",
    "    # virtual_batch_size of 32 instead of 128\n",
    "    model.fit(\n",
    "        X_train = X_train,\n",
    "        y_train = y_train,\n",
    "        eval_set = [(X_val, y_val)],\n",
    "        eval_name = [\"val\"],\n",
    "        eval_metric = [\"logits_ll\"],\n",
    "        max_epochs = MAX_EPOCH,\n",
    "        patience = 20,\n",
    "        batch_size = 1024, \n",
    "        virtual_batch_size = 32,\n",
    "        num_workers = 1,\n",
    "        drop_last = False,\n",
    "        # To use binary cross entropy because this is not a regression problem\n",
    "        loss_fn = F.binary_cross_entropy_with_logits\n",
    "    )\n",
    "    print(y_, '-' * 60)\n",
    "    \n",
    "    ### Predict on validation ###\n",
    "    preds_val = model.predict(X_val)\n",
    "    # Apply sigmoid to the predictions\n",
    "    preds = 1 / (1 + np.exp(-preds_val))\n",
    "    score = np.min(model.history[\"val_logits_ll\"])\n",
    "    \n",
    "    ### Save OOF for CV ###\n",
    "    oof_preds.append(preds_val)\n",
    "    oof_targets.append(y_val)\n",
    "    scores.append(score)\n",
    "    \n",
    "    ### Predict on test ###\n",
    "    preds_test = model.predict(X_test)\n",
    "    test_cv_preds.append(1 / (1 + np.exp(-preds_test)))\n",
    "\n",
    "oof_preds_all = np.concatenate(oof_preds)\n",
    "oof_targets_all = np.concatenate(oof_targets)\n",
    "test_preds_all = np.stack(test_cv_preds)"
   ]
  },
  {
   "cell_type": "code",
   "execution_count": 31,
   "metadata": {
    "execution": {
     "iopub.execute_input": "2020-11-17T18:40:02.425570Z",
     "iopub.status.busy": "2020-11-17T18:40:02.424467Z",
     "iopub.status.idle": "2020-11-17T18:40:02.428462Z",
     "shell.execute_reply": "2020-11-17T18:40:02.429095Z"
    },
    "papermill": {
     "duration": 0.110188,
     "end_time": "2020-11-17T18:40:02.429288",
     "exception": false,
     "start_time": "2020-11-17T18:40:02.319100",
     "status": "completed"
    },
    "tags": []
   },
   "outputs": [
    {
     "data": {
      "text/plain": [
       "array([    1,     3,     4, ..., 21944, 21946, 21947])"
      ]
     },
     "execution_count": 31,
     "metadata": {},
     "output_type": "execute_result"
    }
   ],
   "source": [
    "train_idx"
   ]
  },
  {
   "cell_type": "code",
   "execution_count": 32,
   "metadata": {
    "execution": {
     "iopub.execute_input": "2020-11-17T18:40:02.634393Z",
     "iopub.status.busy": "2020-11-17T18:40:02.633511Z",
     "iopub.status.idle": "2020-11-17T18:40:04.392462Z",
     "shell.execute_reply": "2020-11-17T18:40:04.391770Z"
    },
    "papermill": {
     "duration": 1.864624,
     "end_time": "2020-11-17T18:40:04.392619",
     "exception": false,
     "start_time": "2020-11-17T18:40:02.527995",
     "status": "completed"
    },
    "tags": []
   },
   "outputs": [
    {
     "name": "stdout",
     "output_type": "stream",
     "text": [
      "\u001b[34mOverall AUC: \u001b[31m0.7416287868286611\n",
      "\u001b[34mAverage CV: \u001b[31m0.01565994216745433\n"
     ]
    }
   ],
   "source": [
    "aucs = []\n",
    "for task_id in range(oof_preds_all.shape[1]):\n",
    "    aucs.append(roc_auc_score(y_true = oof_targets_all[:, task_id],\n",
    "                              y_score = oof_preds_all[:, task_id]\n",
    "                             ))\n",
    "print(f\"{b_}Overall AUC: {r_}{np.mean(aucs)}\")\n",
    "print(f\"{b_}Average CV: {r_}{np.mean(scores)}\")"
   ]
  },
  {
   "cell_type": "markdown",
   "metadata": {
    "papermill": {
     "duration": 0.091069,
     "end_time": "2020-11-17T18:40:04.577120",
     "exception": false,
     "start_time": "2020-11-17T18:40:04.486051",
     "status": "completed"
    },
    "tags": []
   },
   "source": [
    "# <font color = \"seagreen\">Conclusion (NOT AVAILABLE UNTIL I SEE THE LB Score)</font> "
   ]
  },
  {
   "cell_type": "markdown",
   "metadata": {
    "papermill": {
     "duration": 0.092657,
     "end_time": "2020-11-17T18:40:04.761319",
     "exception": false,
     "start_time": "2020-11-17T18:40:04.668662",
     "status": "completed"
    },
    "tags": []
   },
   "source": [
    "# <font color = \"seagreen\">Submission</font>"
   ]
  },
  {
   "cell_type": "code",
   "execution_count": 33,
   "metadata": {
    "execution": {
     "iopub.execute_input": "2020-11-17T18:40:04.960879Z",
     "iopub.status.busy": "2020-11-17T18:40:04.960055Z",
     "iopub.status.idle": "2020-11-17T18:40:07.912936Z",
     "shell.execute_reply": "2020-11-17T18:40:07.915850Z"
    },
    "papermill": {
     "duration": 3.063109,
     "end_time": "2020-11-17T18:40:07.916092",
     "exception": false,
     "start_time": "2020-11-17T18:40:04.852983",
     "status": "completed"
    },
    "tags": []
   },
   "outputs": [
    {
     "data": {
      "text/html": [
       "<div>\n",
       "<style scoped>\n",
       "    .dataframe tbody tr th:only-of-type {\n",
       "        vertical-align: middle;\n",
       "    }\n",
       "\n",
       "    .dataframe tbody tr th {\n",
       "        vertical-align: top;\n",
       "    }\n",
       "\n",
       "    .dataframe thead th {\n",
       "        text-align: right;\n",
       "    }\n",
       "</style>\n",
       "<table border=\"1\" class=\"dataframe\">\n",
       "  <thead>\n",
       "    <tr style=\"text-align: right;\">\n",
       "      <th></th>\n",
       "      <th>sig_id</th>\n",
       "      <th>5-alpha_reductase_inhibitor</th>\n",
       "      <th>11-beta-hsd1_inhibitor</th>\n",
       "      <th>acat_inhibitor</th>\n",
       "      <th>acetylcholine_receptor_agonist</th>\n",
       "      <th>acetylcholine_receptor_antagonist</th>\n",
       "      <th>acetylcholinesterase_inhibitor</th>\n",
       "      <th>adenosine_receptor_agonist</th>\n",
       "      <th>adenosine_receptor_antagonist</th>\n",
       "      <th>adenylyl_cyclase_activator</th>\n",
       "      <th>...</th>\n",
       "      <th>tropomyosin_receptor_kinase_inhibitor</th>\n",
       "      <th>trpv_agonist</th>\n",
       "      <th>trpv_antagonist</th>\n",
       "      <th>tubulin_inhibitor</th>\n",
       "      <th>tyrosine_kinase_inhibitor</th>\n",
       "      <th>ubiquitin_specific_protease_inhibitor</th>\n",
       "      <th>vegfr_inhibitor</th>\n",
       "      <th>vitamin_b</th>\n",
       "      <th>vitamin_d_receptor_agonist</th>\n",
       "      <th>wnt_inhibitor</th>\n",
       "    </tr>\n",
       "  </thead>\n",
       "  <tbody>\n",
       "    <tr>\n",
       "      <th>0</th>\n",
       "      <td>id_0004d9e33</td>\n",
       "      <td>0.001348</td>\n",
       "      <td>0.000967</td>\n",
       "      <td>0.001553</td>\n",
       "      <td>0.017923</td>\n",
       "      <td>0.022790</td>\n",
       "      <td>0.004450</td>\n",
       "      <td>0.003510</td>\n",
       "      <td>0.004154</td>\n",
       "      <td>0.000618</td>\n",
       "      <td>...</td>\n",
       "      <td>0.000557</td>\n",
       "      <td>0.000722</td>\n",
       "      <td>0.002785</td>\n",
       "      <td>0.001234</td>\n",
       "      <td>0.000759</td>\n",
       "      <td>0.000495</td>\n",
       "      <td>0.000691</td>\n",
       "      <td>0.001276</td>\n",
       "      <td>0.000892</td>\n",
       "      <td>0.001457</td>\n",
       "    </tr>\n",
       "    <tr>\n",
       "      <th>1</th>\n",
       "      <td>id_001897cda</td>\n",
       "      <td>0.000707</td>\n",
       "      <td>0.000868</td>\n",
       "      <td>0.001794</td>\n",
       "      <td>0.002519</td>\n",
       "      <td>0.002281</td>\n",
       "      <td>0.002867</td>\n",
       "      <td>0.001466</td>\n",
       "      <td>0.016255</td>\n",
       "      <td>0.000921</td>\n",
       "      <td>...</td>\n",
       "      <td>0.000695</td>\n",
       "      <td>0.001626</td>\n",
       "      <td>0.002601</td>\n",
       "      <td>0.000275</td>\n",
       "      <td>0.009304</td>\n",
       "      <td>0.000662</td>\n",
       "      <td>0.012790</td>\n",
       "      <td>0.001118</td>\n",
       "      <td>0.019680</td>\n",
       "      <td>0.003499</td>\n",
       "    </tr>\n",
       "    <tr>\n",
       "      <th>2</th>\n",
       "      <td>id_002429b5b</td>\n",
       "      <td>0.000000</td>\n",
       "      <td>0.000000</td>\n",
       "      <td>0.000000</td>\n",
       "      <td>0.000000</td>\n",
       "      <td>0.000000</td>\n",
       "      <td>0.000000</td>\n",
       "      <td>0.000000</td>\n",
       "      <td>0.000000</td>\n",
       "      <td>0.000000</td>\n",
       "      <td>...</td>\n",
       "      <td>0.000000</td>\n",
       "      <td>0.000000</td>\n",
       "      <td>0.000000</td>\n",
       "      <td>0.000000</td>\n",
       "      <td>0.000000</td>\n",
       "      <td>0.000000</td>\n",
       "      <td>0.000000</td>\n",
       "      <td>0.000000</td>\n",
       "      <td>0.000000</td>\n",
       "      <td>0.000000</td>\n",
       "    </tr>\n",
       "    <tr>\n",
       "      <th>3</th>\n",
       "      <td>id_00276f245</td>\n",
       "      <td>0.000437</td>\n",
       "      <td>0.000307</td>\n",
       "      <td>0.001566</td>\n",
       "      <td>0.019020</td>\n",
       "      <td>0.009177</td>\n",
       "      <td>0.001288</td>\n",
       "      <td>0.002507</td>\n",
       "      <td>0.001168</td>\n",
       "      <td>0.000373</td>\n",
       "      <td>...</td>\n",
       "      <td>0.000611</td>\n",
       "      <td>0.000778</td>\n",
       "      <td>0.001405</td>\n",
       "      <td>0.001131</td>\n",
       "      <td>0.001436</td>\n",
       "      <td>0.000256</td>\n",
       "      <td>0.000586</td>\n",
       "      <td>0.001600</td>\n",
       "      <td>0.000240</td>\n",
       "      <td>0.001546</td>\n",
       "    </tr>\n",
       "    <tr>\n",
       "      <th>4</th>\n",
       "      <td>id_0027f1083</td>\n",
       "      <td>0.000872</td>\n",
       "      <td>0.000702</td>\n",
       "      <td>0.001626</td>\n",
       "      <td>0.014854</td>\n",
       "      <td>0.013165</td>\n",
       "      <td>0.002897</td>\n",
       "      <td>0.003051</td>\n",
       "      <td>0.002544</td>\n",
       "      <td>0.000303</td>\n",
       "      <td>...</td>\n",
       "      <td>0.000632</td>\n",
       "      <td>0.001758</td>\n",
       "      <td>0.002065</td>\n",
       "      <td>0.005347</td>\n",
       "      <td>0.002986</td>\n",
       "      <td>0.000470</td>\n",
       "      <td>0.000651</td>\n",
       "      <td>0.001799</td>\n",
       "      <td>0.000536</td>\n",
       "      <td>0.001902</td>\n",
       "    </tr>\n",
       "  </tbody>\n",
       "</table>\n",
       "<p>5 rows × 207 columns</p>\n",
       "</div>"
      ],
      "text/plain": [
       "         sig_id  5-alpha_reductase_inhibitor  11-beta-hsd1_inhibitor  \\\n",
       "0  id_0004d9e33                     0.001348                0.000967   \n",
       "1  id_001897cda                     0.000707                0.000868   \n",
       "2  id_002429b5b                     0.000000                0.000000   \n",
       "3  id_00276f245                     0.000437                0.000307   \n",
       "4  id_0027f1083                     0.000872                0.000702   \n",
       "\n",
       "   acat_inhibitor  acetylcholine_receptor_agonist  \\\n",
       "0        0.001553                        0.017923   \n",
       "1        0.001794                        0.002519   \n",
       "2        0.000000                        0.000000   \n",
       "3        0.001566                        0.019020   \n",
       "4        0.001626                        0.014854   \n",
       "\n",
       "   acetylcholine_receptor_antagonist  acetylcholinesterase_inhibitor  \\\n",
       "0                           0.022790                        0.004450   \n",
       "1                           0.002281                        0.002867   \n",
       "2                           0.000000                        0.000000   \n",
       "3                           0.009177                        0.001288   \n",
       "4                           0.013165                        0.002897   \n",
       "\n",
       "   adenosine_receptor_agonist  adenosine_receptor_antagonist  \\\n",
       "0                    0.003510                       0.004154   \n",
       "1                    0.001466                       0.016255   \n",
       "2                    0.000000                       0.000000   \n",
       "3                    0.002507                       0.001168   \n",
       "4                    0.003051                       0.002544   \n",
       "\n",
       "   adenylyl_cyclase_activator  ...  tropomyosin_receptor_kinase_inhibitor  \\\n",
       "0                    0.000618  ...                               0.000557   \n",
       "1                    0.000921  ...                               0.000695   \n",
       "2                    0.000000  ...                               0.000000   \n",
       "3                    0.000373  ...                               0.000611   \n",
       "4                    0.000303  ...                               0.000632   \n",
       "\n",
       "   trpv_agonist  trpv_antagonist  tubulin_inhibitor  \\\n",
       "0      0.000722         0.002785           0.001234   \n",
       "1      0.001626         0.002601           0.000275   \n",
       "2      0.000000         0.000000           0.000000   \n",
       "3      0.000778         0.001405           0.001131   \n",
       "4      0.001758         0.002065           0.005347   \n",
       "\n",
       "   tyrosine_kinase_inhibitor  ubiquitin_specific_protease_inhibitor  \\\n",
       "0                   0.000759                               0.000495   \n",
       "1                   0.009304                               0.000662   \n",
       "2                   0.000000                               0.000000   \n",
       "3                   0.001436                               0.000256   \n",
       "4                   0.002986                               0.000470   \n",
       "\n",
       "   vegfr_inhibitor  vitamin_b  vitamin_d_receptor_agonist  wnt_inhibitor  \n",
       "0         0.000691   0.001276                    0.000892       0.001457  \n",
       "1         0.012790   0.001118                    0.019680       0.003499  \n",
       "2         0.000000   0.000000                    0.000000       0.000000  \n",
       "3         0.000586   0.001600                    0.000240       0.001546  \n",
       "4         0.000651   0.001799                    0.000536       0.001902  \n",
       "\n",
       "[5 rows x 207 columns]"
      ]
     },
     "execution_count": 33,
     "metadata": {},
     "output_type": "execute_result"
    }
   ],
   "source": [
    "all_feat = [col for col in submission.columns if col not in [\"sig_id\"]]\n",
    "# To obtain the same lenght of test_preds_all and submission\n",
    "test = pd.read_csv(data_path + \"test_features.csv\")\n",
    "sig_id = test[test[\"cp_type\"] != \"ctl_vehicle\"].sig_id.reset_index(drop = True)\n",
    "tmp = pd.DataFrame(test_preds_all.mean(axis = 0), columns = all_feat)\n",
    "tmp[\"sig_id\"] = sig_id\n",
    "\n",
    "submission = pd.merge(test[[\"sig_id\"]], tmp, on = \"sig_id\", how = \"left\")\n",
    "submission.fillna(0, inplace = True)\n",
    "\n",
    "#submission[all_feat] = tmp.mean(axis = 0)\n",
    "\n",
    "# Set control to 0\n",
    "# submission.loc[test[\"cp_type\"] == 0, submission.columns[1:]] = 0\n",
    "submission.to_csv(\"submission.csv\", index = None)\n",
    "submission.head()"
   ]
  },
  {
   "cell_type": "code",
   "execution_count": 34,
   "metadata": {
    "execution": {
     "iopub.execute_input": "2020-11-17T18:40:08.188381Z",
     "iopub.status.busy": "2020-11-17T18:40:08.185465Z",
     "iopub.status.idle": "2020-11-17T18:40:08.192906Z",
     "shell.execute_reply": "2020-11-17T18:40:08.193692Z"
    },
    "papermill": {
     "duration": 0.13336,
     "end_time": "2020-11-17T18:40:08.193917",
     "exception": false,
     "start_time": "2020-11-17T18:40:08.060557",
     "status": "completed"
    },
    "tags": []
   },
   "outputs": [
    {
     "name": "stdout",
     "output_type": "stream",
     "text": [
      "\u001b[34msubmission.shape: \u001b[31m(3982, 207)\n"
     ]
    }
   ],
   "source": [
    "print(f\"{b_}submission.shape: {r_}{submission.shape}\")"
   ]
  }
 ],
 "metadata": {
  "kernelspec": {
   "display_name": "Python 3",
   "language": "python",
   "name": "python3"
  },
  "language_info": {
   "codemirror_mode": {
    "name": "ipython",
    "version": 3
   },
   "file_extension": ".py",
   "mimetype": "text/x-python",
   "name": "python",
   "nbconvert_exporter": "python",
   "pygments_lexer": "ipython3",
   "version": "3.7.9"
  },
  "papermill": {
   "duration": 8135.682586,
   "end_time": "2020-11-17T18:40:08.419381",
   "environment_variables": {},
   "exception": null,
   "input_path": "__notebook__.ipynb",
   "output_path": "__notebook__.ipynb",
   "parameters": {},
   "start_time": "2020-11-17T16:24:32.736795",
   "version": "2.1.0"
  }
 },
 "nbformat": 4,
 "nbformat_minor": 4
}

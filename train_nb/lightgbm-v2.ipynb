{
 "cells": [
  {
   "cell_type": "markdown",
   "metadata": {
    "papermill": {
     "duration": 0.012529,
     "end_time": "2020-09-24T14:59:35.095821",
     "exception": false,
     "start_time": "2020-09-24T14:59:35.083292",
     "status": "completed"
    },
    "tags": []
   },
   "source": [
    "# LightGBM\n",
    "\n",
    "* **Version 0:** Baseline\n",
    "* **Version 1:** Add features(PCA, selective features)\n",
    "* **Version 2:** Feature Selection (+ Platt Scaling as option)"
   ]
  },
  {
   "cell_type": "code",
   "execution_count": 1,
   "metadata": {
    "papermill": {
     "duration": 1.170881,
     "end_time": "2020-09-24T14:59:36.278065",
     "exception": false,
     "start_time": "2020-09-24T14:59:35.107184",
     "status": "completed"
    },
    "tags": []
   },
   "outputs": [],
   "source": [
    "import warnings\n",
    "warnings.filterwarnings(\"ignore\")\n",
    "\n",
    "from os.path import exists\n",
    "import sys\n",
    "from iterstrat.ml_stratifiers import MultilabelStratifiedKFold\n",
    "\n",
    "EPOCHS = 50000\n",
    "MODELNAME = \"LightGBM1025\"\n",
    "if not exists(f\"{MODELNAME}/scores\"):\n",
    "    os.makedirs(f\"{MODELNAME}/scores\")\n",
    "if not exists(f\"{MODELNAME}/preds\"):\n",
    "    os.makedirs(f\"{MODELNAME}/preds\")\n",
    "# Thanks to Chris's RAPIDS dataset, it only takes around 1 min to install offline\n",
    "# !cp ../input/rapids/rapids.0.15.0 /opt/conda/envs/rapids.tar.gz\n",
    "# !cd /opt/conda/envs/ && tar -xzvf rapids.tar.gz > /dev/null\n",
    "# sys.path = [\"/opt/conda/envs/rapids/lib/python3.7/site-packages\"] + sys.path\n",
    "# sys.path = [\"/opt/conda/envs/rapids/lib/python3.7\"] + sys.path\n",
    "# sys.path = [\"/opt/conda/envs/rapids/lib\"] + sys.path \n",
    "# !cp /opt/conda/envs/rapids/lib/libxgboost.so /opt/conda/lib/"
   ]
  },
  {
   "cell_type": "code",
   "execution_count": 2,
   "metadata": {
    "_cell_guid": "b1076dfc-b9ad-4769-8c92-a6c4dae69d19",
    "_uuid": "8f2839f25d086af736a60e9eeb907d3b93b6e0e5",
    "id": "kw1VW6DCvgSq",
    "outputId": "030d81e0-579d-463d-b2ed-6c714151a063",
    "papermill": {
     "duration": 0.129379,
     "end_time": "2020-09-24T14:59:36.419519",
     "exception": false,
     "start_time": "2020-09-24T14:59:36.290140",
     "status": "completed"
    },
    "tags": []
   },
   "outputs": [],
   "source": [
    "import os\n",
    "import gc\n",
    "import datetime\n",
    "import numpy as np\n",
    "import pandas as pd\n",
    "from sklearn.kernel_approximation import Nystroem\n",
    "from sklearn.isotonic import IsotonicRegression\n",
    "from sklearn.linear_model import LogisticRegression\n",
    "# from cuml import LogisticRegression\n",
    "from sklearn.kernel_ridge import KernelRidge\n",
    "from sklearn.preprocessing import StandardScaler\n",
    "from sklearn.model_selection import StratifiedKFold\n",
    "from sklearn.metrics import log_loss\n",
    "import lightgbm as lgb\n",
    "from time import time"
   ]
  },
  {
   "cell_type": "markdown",
   "metadata": {
    "id": "dSVuPpi2vgSv",
    "papermill": {
     "duration": 0.011129,
     "end_time": "2020-09-24T14:59:36.442248",
     "exception": false,
     "start_time": "2020-09-24T14:59:36.431119",
     "status": "completed"
    },
    "tags": []
   },
   "source": [
    "# Data Preparation"
   ]
  },
  {
   "cell_type": "code",
   "execution_count": 3,
   "metadata": {
    "_cell_guid": "79c7e3d0-c299-4dcb-8224-4455121ee9b0",
    "_uuid": "d629ff2d2480ee46fbb7e2d37f6b5fab8052498a",
    "id": "UvG3N1HHvgSv",
    "papermill": {
     "duration": 5.728083,
     "end_time": "2020-09-24T14:59:42.181780",
     "exception": false,
     "start_time": "2020-09-24T14:59:36.453697",
     "status": "completed"
    },
    "tags": []
   },
   "outputs": [],
   "source": [
    "train_features = pd.read_csv('../input/lish-moa/train_features.csv')\n",
    "train_targets = pd.read_csv('../input/lish-moa/train_targets_scored.csv')\n",
    "test_features = pd.read_csv('../input/lish-moa/test_features.csv')\n",
    "\n",
    "ss_krr = pd.read_csv('../input/lish-moa/sample_submission.csv')\n",
    "ss_lr = ss_krr.copy()\n",
    "\n",
    "cols = [c for c in ss_krr.columns.values if c != 'sig_id']"
   ]
  },
  {
   "cell_type": "code",
   "execution_count": 4,
   "metadata": {
    "id": "JItYfC6jvgSy",
    "papermill": {
     "duration": 0.331962,
     "end_time": "2020-09-24T14:59:42.528242",
     "exception": false,
     "start_time": "2020-09-24T14:59:42.196280",
     "status": "completed"
    },
    "tags": []
   },
   "outputs": [],
   "source": [
    "def preprocess(df):\n",
    "    df = df.copy()\n",
    "    df.loc[:, 'cp_type'] = df.loc[:, 'cp_type'].map({'trt_cp': 0, 'ctl_vehicle': 1})\n",
    "    df.loc[:, 'cp_dose'] = df.loc[:, 'cp_dose'].map({'D1': 0, 'D2': 1})\n",
    "    del df['sig_id']\n",
    "    return df\n",
    "\n",
    "def log_loss_metric(y_true, y_pred):\n",
    "    y_pred_clip = np.clip(y_pred, 1e-15, 1 - 1e-15)\n",
    "    loss = - np.mean(np.mean(y_true * np.log(y_pred_clip) + (1 - y_true) * np.log(1 - y_pred_clip), axis = 1))\n",
    "    return loss\n",
    "\n",
    "train = preprocess(train_features)\n",
    "test = preprocess(test_features)\n",
    "\n",
    "del train_targets['sig_id']\n",
    "\n",
    "train_targets = train_targets.loc[train['cp_type']==0].reset_index(drop=True)\n",
    "train = train.loc[train['cp_type']==0].reset_index(drop=True)"
   ]
  },
  {
   "cell_type": "code",
   "execution_count": 5,
   "metadata": {
    "_kg_hide-input": true,
    "id": "Cg0gF9u5vgS1",
    "outputId": "2dcd7162-6e0e-427c-cfc0-9e36329cd8a2",
    "papermill": {
     "duration": 0.080951,
     "end_time": "2020-09-24T14:59:42.621384",
     "exception": false,
     "start_time": "2020-09-24T14:59:42.540433",
     "status": "completed"
    },
    "tags": []
   },
   "outputs": [
    {
     "name": "stdout",
     "output_type": "stream",
     "text": [
      "top 785 is used\n"
     ]
    }
   ],
   "source": [
    "top_feats = [  1,   2,   3,   4,   5,   6,   7,   9,  11,  14,  15,  16,  17,\n",
    "        18,  19,  20,  21,  22,  23,  24,  25,  26,  27,  29,  30,  31,\n",
    "        32,  33,  35,  36,  37,  38,  39,  40,  41,  42,  43,  44,  46,\n",
    "        47,  48,  49,  50,  51,  52,  53,  54,  55,  56,  58,  59,  60,\n",
    "        61,  62,  63,  64,  65,  66,  67,  68,  69,  70,  71,  72,  73,\n",
    "        74,  75,  76,  78,  79,  80,  81,  82,  83,  84,  86,  87,  88,\n",
    "        89,  90,  91,  92,  93,  94,  95,  96,  97,  98,  99, 100, 101,\n",
    "       102, 103, 104, 105, 106, 107, 108, 109, 110, 111, 112, 113, 114,\n",
    "       115, 116, 117, 118, 120, 121, 122, 123, 124, 125, 126, 127, 128,\n",
    "       129, 130, 131, 132, 133, 136, 137, 138, 139, 140, 141, 142, 143,\n",
    "       144, 145, 146, 147, 149, 150, 151, 152, 153, 154, 155, 156, 157,\n",
    "       158, 159, 160, 161, 162, 163, 164, 165, 166, 167, 168, 169, 170,\n",
    "       171, 172, 173, 174, 175, 176, 177, 178, 179, 180, 181, 182, 183,\n",
    "       184, 185, 186, 187, 188, 189, 190, 191, 192, 193, 194, 195, 197,\n",
    "       198, 199, 200, 202, 203, 204, 205, 206, 208, 209, 210, 211, 212,\n",
    "       213, 214, 215, 216, 217, 218, 219, 220, 221, 223, 224, 225, 226,\n",
    "       227, 228, 229, 230, 231, 232, 233, 234, 235, 236, 237, 238, 239,\n",
    "       240, 242, 243, 244, 245, 246, 247, 248, 249, 250, 251, 252, 253,\n",
    "       254, 255, 256, 257, 258, 259, 260, 261, 262, 263, 264, 265, 266,\n",
    "       267, 268, 269, 271, 272, 273, 274, 275, 276, 277, 278, 279, 280,\n",
    "       281, 282, 283, 284, 285, 286, 287, 288, 289, 290, 291, 292, 294,\n",
    "       295, 296, 298, 300, 301, 302, 303, 304, 305, 306, 307, 308, 309,\n",
    "       310, 311, 312, 314, 315, 316, 317, 318, 319, 320, 321, 322, 323,\n",
    "       324, 325, 326, 327, 328, 329, 330, 331, 332, 333, 334, 335, 336,\n",
    "       337, 338, 339, 340, 341, 342, 343, 344, 345, 346, 347, 348, 349,\n",
    "       350, 351, 352, 353, 354, 355, 356, 357, 358, 359, 360, 361, 362,\n",
    "       363, 364, 365, 366, 367, 368, 369, 370, 371, 374, 375, 376, 377,\n",
    "       378, 379, 380, 381, 382, 383, 384, 385, 386, 387, 388, 390, 391,\n",
    "       392, 393, 394, 395, 396, 397, 398, 399, 400, 401, 402, 403, 404,\n",
    "       405, 406, 407, 408, 409, 411, 412, 413, 414, 415, 416, 417, 418,\n",
    "       419, 420, 421, 422, 423, 424, 425, 426, 427, 428, 429, 430, 431,\n",
    "       432, 434, 435, 436, 437, 438, 439, 440, 442, 443, 444, 445, 446,\n",
    "       447, 448, 449, 450, 453, 454, 456, 457, 458, 459, 460, 461, 462,\n",
    "       463, 464, 465, 466, 467, 468, 469, 470, 471, 472, 473, 474, 475,\n",
    "       476, 477, 478, 479, 481, 482, 483, 484, 485, 486, 487, 488, 489,\n",
    "       490, 491, 492, 493, 494, 495, 496, 498, 500, 501, 502, 503, 505,\n",
    "       506, 507, 509, 510, 511, 512, 513, 514, 515, 518, 519, 520, 521,\n",
    "       522, 523, 524, 525, 526, 527, 528, 530, 531, 532, 534, 535, 536,\n",
    "       538, 539, 540, 541, 542, 543, 544, 545, 546, 547, 549, 550, 551,\n",
    "       552, 554, 557, 559, 560, 561, 562, 565, 566, 567, 568, 569, 570,\n",
    "       571, 572, 573, 574, 575, 577, 578, 580, 581, 582, 583, 584, 585,\n",
    "       586, 587, 588, 589, 590, 591, 592, 593, 594, 595, 596, 597, 599,\n",
    "       600, 601, 602, 606, 607, 608, 609, 611, 612, 613, 615, 616, 617,\n",
    "       618, 619, 620, 621, 622, 623, 624, 625, 626, 627, 628, 629, 630,\n",
    "       631, 632, 633, 634, 635, 636, 637, 638, 639, 641, 642, 643, 644,\n",
    "       645, 646, 647, 648, 649, 650, 651, 652, 654, 655, 656, 658, 659,\n",
    "       660, 661, 662, 663, 664, 665, 666, 667, 668, 669, 670, 671, 672,\n",
    "       673, 674, 675, 676, 677, 678, 679, 680, 681, 682, 683, 684, 685,\n",
    "       686, 687, 688, 689, 691, 692, 693, 694, 695, 696, 697, 699, 700,\n",
    "       701, 702, 704, 705, 707, 708, 709, 710, 711, 713, 714, 716, 717,\n",
    "       718, 720, 721, 723, 724, 725, 726, 727, 728, 729, 730, 731, 732,\n",
    "       733, 734, 735, 737, 738, 739, 740, 742, 743, 744, 745, 746, 747,\n",
    "       748, 749, 750, 751, 752, 753, 754, 755, 756, 757, 759, 760, 761,\n",
    "       762, 763, 764, 765, 766, 767, 768, 769, 770, 771, 772, 773, 774,\n",
    "       775, 776, 777, 779, 780, 781, 782, 783, 784, 785, 786, 787, 788,\n",
    "       789, 790, 792, 793, 794, 795, 796, 797, 798, 800, 801, 802, 803,\n",
    "       804, 805, 806, 808, 809, 811, 813, 814, 815, 816, 817, 818, 819,\n",
    "       821, 822, 823, 825, 826, 827, 828, 829, 830, 831, 832, 834, 835,\n",
    "       837, 838, 839, 840, 841, 842, 845, 846, 847, 848, 850, 851, 852,\n",
    "       854, 855, 856, 858, 859, 860, 861, 862, 864, 866, 867, 868, 869,\n",
    "       870, 871, 872, 873, 874]\n",
    "\n",
    "print(f'top {len(top_feats)} is used')"
   ]
  },
  {
   "cell_type": "markdown",
   "metadata": {
    "id": "0eDJ68r-vgTA",
    "papermill": {
     "duration": 0.012225,
     "end_time": "2020-09-24T14:59:42.646448",
     "exception": false,
     "start_time": "2020-09-24T14:59:42.634223",
     "status": "completed"
    },
    "tags": []
   },
   "source": [
    "# Kernel Logistic Regression\n",
    "\n",
    "Use Nystroem to approximate the RBF kernel. Changing the n_components to create more features and get better results, but it slows down the training."
   ]
  },
  {
   "cell_type": "code",
   "execution_count": 6,
   "metadata": {},
   "outputs": [],
   "source": [
    "params = {\"metric\": 'binary_logloss',\n",
    "          'objective': 'binary',\n",
    "          'num_leaves': 491,\n",
    "          'min_child_weight': 0.03,\n",
    "          'feature_fraction': 0.3,\n",
    "          'bagging_fraction': 0.4,\n",
    "          'min_data_in_leaf': 106,\n",
    "          'max_depth': -1,\n",
    "          'learning_rate': 0.01,\n",
    "          \"boosting_type\": \"gbdt\",\n",
    "          \"bagging_seed\": 11,\n",
    "          \"verbose\": -1,\n",
    "          'reg_alpha': 0.4,\n",
    "          'reg_lambda': 0.6,\n",
    "          'random_state': 47,\n",
    "          \"force_col_wise\": True\n",
    "         }"
   ]
  },
  {
   "cell_type": "code",
   "execution_count": 7,
   "metadata": {
    "id": "qiCub3F5vgTA",
    "outputId": "a409642d-80cd-4fdb-d21b-586422655f38",
    "papermill": {
     "duration": 281.837064,
     "end_time": "2020-09-24T15:04:24.495985",
     "exception": false,
     "start_time": "2020-09-24T14:59:42.658921",
     "status": "completed"
    },
    "tags": []
   },
   "outputs": [
    {
     "name": "stdout",
     "output_type": "stream",
     "text": [
      "Fold No.  0/ 4\n",
      "Target No. 205/206\n",
      "[06:51] KRR: Fold 0: 0.01727266916935836\n",
      "Fold No.  1/ 4\n",
      "Target No. 205/206\n",
      "[07:03] KRR: Fold 1: 0.01728229022917596\n",
      "Fold No.  2/ 4\n",
      "Target No. 205/206\n",
      "[06:55] KRR: Fold 2: 0.017357061301690062\n",
      "Fold No.  3/ 4\n",
      "Target No. 205/206\n",
      "[07:06] KRR: Fold 3: 0.01722989594951993\n",
      "Wall time: 27min 59s\n"
     ]
    }
   ],
   "source": [
    "%%time\n",
    "N_SPLITS = 4\n",
    "\n",
    "res_krr = train_targets.copy()\n",
    "ss_krr.loc[:, train_targets.columns] = 0\n",
    "res_krr.loc[:, train_targets.columns] = 0\n",
    "\n",
    "for n, (tr, te) in enumerate(MultilabelStratifiedKFold(n_splits = N_SPLITS, random_state = 0, shuffle = True).split(train_targets, train_targets)):\n",
    "    print(f'Fold No. {n:>2}/{N_SPLITS:>2}')\n",
    "    start_time = time()\n",
    "\n",
    "    x_tr, x_va = train.values[tr][:, top_feats], train.values[te][:, top_feats]\n",
    "    x_tt = test.values[:, top_feats]\n",
    "    y_tr, y_va = train_targets.astype(float).values[tr], train_targets.astype(float).values[te]\n",
    "    \n",
    "    fold_preds = []\n",
    "    for i, col in enumerate(cols):\n",
    "        # scaler = StandardScaler()\n",
    "        # x_tr = scaler.fit_transform(x_tr)\n",
    "        # x_val = scaler.transform(x_val)\n",
    "        # x_tt = scaler.transform(x_tt)\n",
    "        print(f'Target No. {i:>3}/{len(cols):>3}', end='\\r')\n",
    "        dataset_tr = lgb.Dataset(x_tr, label=y_tr[:,i])\n",
    "        dataset_va = lgb.Dataset(x_va, label=y_va[:,i], reference=dataset_tr)\n",
    "\n",
    "        model = lgb.train(params, dataset_tr, EPOCHS, valid_sets=[dataset_tr, dataset_va],\n",
    "                          verbose_eval=False, early_stopping_rounds=60)\n",
    "\n",
    "        ss_krr.loc[:, train_targets.columns[i]] += model.predict(x_tt) / N_SPLITS\n",
    "        fold_pred = model.predict(x_va)\n",
    "        res_krr.loc[te, train_targets.columns[i]] += fold_pred\n",
    "        fold_preds.append(fold_pred)\n",
    "    print()\n",
    "    fold_preds = np.vstack(fold_preds).T\n",
    "    fold_score = log_loss_metric(train_targets.loc[te].values, fold_preds)\n",
    "    print(f'[{str(datetime.timedelta(seconds = time() - start_time))[2:7]}] KRR: Fold {n}:', fold_score)"
   ]
  },
  {
   "cell_type": "code",
   "execution_count": 8,
   "metadata": {
    "id": "dgIrzdQZvgTC",
    "outputId": "a2ab66fb-1783-45aa-b1ef-6a6f719dce6a",
    "papermill": {
     "duration": 0.273557,
     "end_time": "2020-09-24T15:04:24.783487",
     "exception": false,
     "start_time": "2020-09-24T15:04:24.509930",
     "status": "completed"
    },
    "tags": []
   },
   "outputs": [
    {
     "name": "stdout",
     "output_type": "stream",
     "text": [
      "Model OOF Metric: 0.017285479162436078\n"
     ]
    }
   ],
   "source": [
    "print(f'Model OOF Metric: {log_loss_metric(train_targets.values, res_krr.values)}')"
   ]
  },
  {
   "cell_type": "markdown",
   "metadata": {
    "papermill": {
     "duration": 0.014318,
     "end_time": "2020-09-24T15:04:24.812494",
     "exception": false,
     "start_time": "2020-09-24T15:04:24.798176",
     "status": "completed"
    },
    "tags": []
   },
   "source": [
    "# Platt Scaling\n",
    "\n",
    "Train a Logistic Regression model to calibrate the results of Kernel Ridge Regression.  \n",
    "`res_krr` : OOF prediction w/o sig_id  \n",
    "`ss_krr` : test prediction w/ sig_id  \n",
    "`ss_lr` : copy of train_targets"
   ]
  },
  {
   "cell_type": "code",
   "execution_count": 9,
   "metadata": {
    "papermill": {
     "duration": 0.035719,
     "end_time": "2020-09-24T15:04:24.862825",
     "exception": false,
     "start_time": "2020-09-24T15:04:24.827106",
     "status": "completed"
    },
    "tags": []
   },
   "outputs": [
    {
     "name": "stdout",
     "output_type": "stream",
     "text": [
      "Wall time: 25.8 s\n"
     ]
    }
   ],
   "source": [
    "%%time\n",
    "X_new = res_krr[cols].values\n",
    "x_tt_new = ss_krr[cols].values\n",
    "\n",
    "res_lr = train_targets.copy()\n",
    "ss_lr.loc[:, train_targets.columns] = 0\n",
    "res_lr.loc[:, train_targets.columns] = 0\n",
    "\n",
    "for i, tar in enumerate(range(train_targets.shape[1])):\n",
    "    print(f'{i:>3} / {train_targets.shape[1]:>3}', end='\\r')\n",
    "\n",
    "#     start_time = time()\n",
    "    targets = train_targets.values[:, tar]\n",
    "\n",
    "    if targets.sum() >= N_SPLITS:\n",
    "\n",
    "        skf = StratifiedKFold(n_splits = N_SPLITS, random_state = 0, shuffle = True)\n",
    "\n",
    "        for n, (tr, te) in enumerate(skf.split(targets, targets)):\n",
    "\n",
    "            x_tr, x_val = X_new[tr, tar].reshape(-1, 1), X_new[te, tar].reshape(-1, 1)\n",
    "            y_tr, y_val = targets[tr], targets[te]\n",
    "\n",
    "            model = LogisticRegression(penalty = 'none', max_iter = 1000)\n",
    "            model.fit(x_tr, y_tr)\n",
    "            ss_lr.loc[:, train_targets.columns[tar]] += model.predict_proba(x_tt_new[:, tar].reshape(-1, 1))[:, 1] / N_SPLITS\n",
    "            res_lr.loc[te, train_targets.columns[tar]] += model.predict_proba(x_val)[:, 1]\n",
    "\n",
    "    score = log_loss(train_targets.loc[:, train_targets.columns[tar]].values, res_lr.loc[:, train_targets.columns[tar]].values)\n",
    "#     print(f'[{str(datetime.timedelta(seconds = time() - start_time))[2:7]}] LR Target {tar}:', score)"
   ]
  },
  {
   "cell_type": "code",
   "execution_count": 10,
   "metadata": {
    "papermill": {
     "duration": 0.286072,
     "end_time": "2020-09-24T15:05:23.550195",
     "exception": false,
     "start_time": "2020-09-24T15:05:23.264123",
     "status": "completed"
    },
    "tags": []
   },
   "outputs": [
    {
     "name": "stdout",
     "output_type": "stream",
     "text": [
      "LR OOF Metric: 0.01767540334449389\n"
     ]
    }
   ],
   "source": [
    "print(f'LR OOF Metric: {log_loss_metric(train_targets.values, res_lr.values)}')"
   ]
  },
  {
   "cell_type": "code",
   "execution_count": 11,
   "metadata": {
    "papermill": {
     "duration": 0.083789,
     "end_time": "2020-09-24T15:05:23.650228",
     "exception": false,
     "start_time": "2020-09-24T15:05:23.566439",
     "status": "completed"
    },
    "tags": []
   },
   "outputs": [],
   "source": [
    "np.save(f'{MODELNAME}/preds/oof.npy', res_lr[cols].values)\n",
    "np.save(f'{MODELNAME}/preds/sub.npy', ss_lr[cols].values)"
   ]
  },
  {
   "cell_type": "markdown",
   "metadata": {
    "id": "4i2yuxNCvgTV",
    "papermill": {
     "duration": 0.015979,
     "end_time": "2020-09-24T15:05:23.682860",
     "exception": false,
     "start_time": "2020-09-24T15:05:23.666881",
     "status": "completed"
    },
    "tags": []
   },
   "source": [
    "# Submit"
   ]
  },
  {
   "cell_type": "code",
   "execution_count": 12,
   "metadata": {
    "papermill": {
     "duration": 2.560642,
     "end_time": "2020-09-24T15:05:26.259993",
     "exception": false,
     "start_time": "2020-09-24T15:05:23.699351",
     "status": "completed"
    },
    "tags": []
   },
   "outputs": [],
   "source": [
    "ss_lr.loc[test['cp_type'] == 1, train_targets.columns] = 0\n",
    "ss_lr.to_csv(f'{MODELNAME}/preds/submission.csv', index = False)"
   ]
  },
  {
   "cell_type": "code",
   "execution_count": null,
   "metadata": {},
   "outputs": [],
   "source": []
  }
 ],
 "metadata": {
  "kernelspec": {
   "display_name": "Python 3",
   "language": "python",
   "name": "python3"
  },
  "language_info": {
   "codemirror_mode": {
    "name": "ipython",
    "version": 3
   },
   "file_extension": ".py",
   "mimetype": "text/x-python",
   "name": "python",
   "nbconvert_exporter": "python",
   "pygments_lexer": "ipython3",
   "version": "3.7.9"
  },
  "papermill": {
   "duration": 355.981211,
   "end_time": "2020-09-24T15:05:26.385698",
   "environment_variables": {},
   "exception": null,
   "input_path": "__notebook__.ipynb",
   "output_path": "__notebook__.ipynb",
   "parameters": {},
   "start_time": "2020-09-24T14:59:30.404487",
   "version": "2.1.0"
  },
  "widgets": {
   "application/vnd.jupyter.widget-state+json": {
    "state": {
     "1f33b8a8632c4e84a3cb101e0b5d02e1": {
      "model_module": "@jupyter-widgets/base",
      "model_module_version": "1.2.0",
      "model_name": "LayoutModel",
      "state": {
       "_model_module": "@jupyter-widgets/base",
       "_model_module_version": "1.2.0",
       "_model_name": "LayoutModel",
       "_view_count": null,
       "_view_module": "@jupyter-widgets/base",
       "_view_module_version": "1.2.0",
       "_view_name": "LayoutView",
       "align_content": null,
       "align_items": null,
       "align_self": null,
       "border": null,
       "bottom": null,
       "display": null,
       "flex": null,
       "flex_flow": null,
       "grid_area": null,
       "grid_auto_columns": null,
       "grid_auto_flow": null,
       "grid_auto_rows": null,
       "grid_column": null,
       "grid_gap": null,
       "grid_row": null,
       "grid_template_areas": null,
       "grid_template_columns": null,
       "grid_template_rows": null,
       "height": null,
       "justify_content": null,
       "justify_items": null,
       "left": null,
       "margin": null,
       "max_height": null,
       "max_width": null,
       "min_height": null,
       "min_width": null,
       "object_fit": null,
       "object_position": null,
       "order": null,
       "overflow": null,
       "overflow_x": null,
       "overflow_y": null,
       "padding": null,
       "right": null,
       "top": null,
       "visibility": null,
       "width": null
      }
     },
     "2a24891aca704dea9777aa3c51a6ad17": {
      "model_module": "@jupyter-widgets/controls",
      "model_module_version": "1.5.0",
      "model_name": "ProgressStyleModel",
      "state": {
       "_model_module": "@jupyter-widgets/controls",
       "_model_module_version": "1.5.0",
       "_model_name": "ProgressStyleModel",
       "_view_count": null,
       "_view_module": "@jupyter-widgets/base",
       "_view_module_version": "1.2.0",
       "_view_name": "StyleView",
       "bar_color": null,
       "description_width": "initial"
      }
     },
     "5b5f64bf766d46649786f10061075662": {
      "model_module": "@jupyter-widgets/base",
      "model_module_version": "1.2.0",
      "model_name": "LayoutModel",
      "state": {
       "_model_module": "@jupyter-widgets/base",
       "_model_module_version": "1.2.0",
       "_model_name": "LayoutModel",
       "_view_count": null,
       "_view_module": "@jupyter-widgets/base",
       "_view_module_version": "1.2.0",
       "_view_name": "LayoutView",
       "align_content": null,
       "align_items": null,
       "align_self": null,
       "border": null,
       "bottom": null,
       "display": null,
       "flex": null,
       "flex_flow": null,
       "grid_area": null,
       "grid_auto_columns": null,
       "grid_auto_flow": null,
       "grid_auto_rows": null,
       "grid_column": null,
       "grid_gap": null,
       "grid_row": null,
       "grid_template_areas": null,
       "grid_template_columns": null,
       "grid_template_rows": null,
       "height": null,
       "justify_content": null,
       "justify_items": null,
       "left": null,
       "margin": null,
       "max_height": null,
       "max_width": null,
       "min_height": null,
       "min_width": null,
       "object_fit": null,
       "object_position": null,
       "order": null,
       "overflow": null,
       "overflow_x": null,
       "overflow_y": null,
       "padding": null,
       "right": null,
       "top": null,
       "visibility": null,
       "width": null
      }
     },
     "5fdc7b4e4c28420d88371eae80cdc693": {
      "model_module": "@jupyter-widgets/controls",
      "model_module_version": "1.5.0",
      "model_name": "FloatProgressModel",
      "state": {
       "_dom_classes": [],
       "_model_module": "@jupyter-widgets/controls",
       "_model_module_version": "1.5.0",
       "_model_name": "FloatProgressModel",
       "_view_count": null,
       "_view_module": "@jupyter-widgets/controls",
       "_view_module_version": "1.5.0",
       "_view_name": "ProgressView",
       "bar_style": "success",
       "description": "100%",
       "description_tooltip": null,
       "layout": "IPY_MODEL_eb7d0ef4d1ab404a83b45d3a699fab83",
       "max": 206,
       "min": 0,
       "orientation": "horizontal",
       "style": "IPY_MODEL_2a24891aca704dea9777aa3c51a6ad17",
       "value": 206
      }
     },
     "dbd874344652472c8735681be1f1c92e": {
      "model_module": "@jupyter-widgets/controls",
      "model_module_version": "1.5.0",
      "model_name": "HTMLModel",
      "state": {
       "_dom_classes": [],
       "_model_module": "@jupyter-widgets/controls",
       "_model_module_version": "1.5.0",
       "_model_name": "HTMLModel",
       "_view_count": null,
       "_view_module": "@jupyter-widgets/controls",
       "_view_module_version": "1.5.0",
       "_view_name": "HTMLView",
       "description": "",
       "description_tooltip": null,
       "layout": "IPY_MODEL_1f33b8a8632c4e84a3cb101e0b5d02e1",
       "placeholder": "​",
       "style": "IPY_MODEL_ffd8462f416b42d19d2823a87e9fa877",
       "value": " 206/206 [00:58&lt;00:00,  3.50it/s]"
      }
     },
     "e51c8f5eff9345f4b604c29cbfe8b47a": {
      "model_module": "@jupyter-widgets/controls",
      "model_module_version": "1.5.0",
      "model_name": "HBoxModel",
      "state": {
       "_dom_classes": [],
       "_model_module": "@jupyter-widgets/controls",
       "_model_module_version": "1.5.0",
       "_model_name": "HBoxModel",
       "_view_count": null,
       "_view_module": "@jupyter-widgets/controls",
       "_view_module_version": "1.5.0",
       "_view_name": "HBoxView",
       "box_style": "",
       "children": [
        "IPY_MODEL_5fdc7b4e4c28420d88371eae80cdc693",
        "IPY_MODEL_dbd874344652472c8735681be1f1c92e"
       ],
       "layout": "IPY_MODEL_5b5f64bf766d46649786f10061075662"
      }
     },
     "eb7d0ef4d1ab404a83b45d3a699fab83": {
      "model_module": "@jupyter-widgets/base",
      "model_module_version": "1.2.0",
      "model_name": "LayoutModel",
      "state": {
       "_model_module": "@jupyter-widgets/base",
       "_model_module_version": "1.2.0",
       "_model_name": "LayoutModel",
       "_view_count": null,
       "_view_module": "@jupyter-widgets/base",
       "_view_module_version": "1.2.0",
       "_view_name": "LayoutView",
       "align_content": null,
       "align_items": null,
       "align_self": null,
       "border": null,
       "bottom": null,
       "display": null,
       "flex": null,
       "flex_flow": null,
       "grid_area": null,
       "grid_auto_columns": null,
       "grid_auto_flow": null,
       "grid_auto_rows": null,
       "grid_column": null,
       "grid_gap": null,
       "grid_row": null,
       "grid_template_areas": null,
       "grid_template_columns": null,
       "grid_template_rows": null,
       "height": null,
       "justify_content": null,
       "justify_items": null,
       "left": null,
       "margin": null,
       "max_height": null,
       "max_width": null,
       "min_height": null,
       "min_width": null,
       "object_fit": null,
       "object_position": null,
       "order": null,
       "overflow": null,
       "overflow_x": null,
       "overflow_y": null,
       "padding": null,
       "right": null,
       "top": null,
       "visibility": null,
       "width": null
      }
     },
     "ffd8462f416b42d19d2823a87e9fa877": {
      "model_module": "@jupyter-widgets/controls",
      "model_module_version": "1.5.0",
      "model_name": "DescriptionStyleModel",
      "state": {
       "_model_module": "@jupyter-widgets/controls",
       "_model_module_version": "1.5.0",
       "_model_name": "DescriptionStyleModel",
       "_view_count": null,
       "_view_module": "@jupyter-widgets/base",
       "_view_module_version": "1.2.0",
       "_view_name": "StyleView",
       "description_width": ""
      }
     }
    },
    "version_major": 2,
    "version_minor": 0
   }
  }
 },
 "nbformat": 4,
 "nbformat_minor": 4
}

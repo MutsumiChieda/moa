{
 "cells": [
  {
   "cell_type": "code",
   "execution_count": 1,
   "metadata": {},
   "outputs": [],
   "source": [
    "import gc\n",
    "from itertools import cycle, islice\n",
    "import numpy as np\n",
    "import pandas as pd\n",
    "import matplotlib.pyplot as plt"
   ]
  },
  {
   "cell_type": "code",
   "execution_count": 2,
   "metadata": {},
   "outputs": [
    {
     "data": {
      "text/plain": [
       "0"
      ]
     },
     "execution_count": 2,
     "metadata": {},
     "output_type": "execute_result"
    }
   ],
   "source": [
    "tr = pd.read_csv('../input/lish-moa/train_features.csv')\n",
    "te = pd.read_csv('../input/lish-moa/test_features.csv')\n",
    "tr['part']='train'\n",
    "te['part']='test'\n",
    "df = pd.concat([tr, te], axis=0)\n",
    "cs_a = [\"#264653\", \"#2a9d8f\", \"#e9c46a\", \"#f4a261\", \"#e76f51\"]\n",
    "cs_b = [\"#ff595e\", \"#ffca3a\",\"#8ac926\",\"#1982c4\",\"#6a4c93\"]\n",
    "cs_c = [\"#c0c\", \"#0cc\", \"#cc0\", \"#000\"]\n",
    "del tr, te\n",
    "gc.collect()"
   ]
  },
  {
   "cell_type": "code",
   "execution_count": 3,
   "metadata": {},
   "outputs": [],
   "source": [
    "i_feats = ['sig_id']\n",
    "x_feats = ['cp_type', 'cp_time', 'cp_dose']\n",
    "g_feats = [f'g-{i}' for i in range(770)] # 772\n",
    "c_feats = [f'c-{i}' for i in range(100)]"
   ]
  },
  {
   "cell_type": "markdown",
   "metadata": {},
   "source": [
    "## cp_timeごとに、各C特徴で訓練/テストの分布を比較"
   ]
  },
  {
   "cell_type": "code",
   "execution_count": 4,
   "metadata": {},
   "outputs": [
    {
     "name": "stdout",
     "output_type": "stream",
     "text": [
      "batch   9 / 10, plotting   9 /  10\r"
     ]
    }
   ],
   "source": [
    "def compareplot(colname, colset, feats):\n",
    "    feats_ = np.array(feats).reshape((-1,10))\n",
    "    for batch_idx, feats_batch in enumerate(feats_):\n",
    "        num_c = len(feats_batch)\n",
    "        fig, axes = plt.subplots(num_c, 3, figsize=(5,10), sharex=True, sharey=True)\n",
    "        fig.suptitle(\"train(magenta) vs test(yellow)\")\n",
    "        for j, ci in enumerate(feats_batch):\n",
    "            print(f'batch {batch_idx:>3} / {len(feats_)}, plotting {j:>3} / {num_c:>3}', end='\\r')\n",
    "            for i, t in enumerate(colset):\n",
    "                df.query(f'{colname} == {t} & part == \"train\"')[ci].plot(kind='kde', ax=axes[j][i], label=\"train\", color=cs_c[0])\n",
    "                df.query(f'{colname} == {t} & part == \"test\"')[ci].plot(kind='kde', ax=axes[j][i], label=\"test\", color=cs_c[2])\n",
    "                axes[j][i].grid(True)\n",
    "            axes[j][0].set_ylabel(ci)\n",
    "        for i, t in enumerate(colset):\n",
    "            axes[0][i].set_title(f'time: {t}')\n",
    "            axes[0][i].set_xlim(-10,10)\n",
    "        plt.savefig(f\"image/tr-te_feats_by_{colname}_{feats_batch[0]}.pdf\")\n",
    "        plt.close()\n",
    "cp_times = [24,48,72]\n",
    "compareplot('cp_time', cp_times, c_feats)"
   ]
  },
  {
   "cell_type": "code",
   "execution_count": null,
   "metadata": {},
   "outputs": [],
   "source": []
  }
 ],
 "metadata": {
  "kernelspec": {
   "display_name": "Python 3",
   "language": "python",
   "name": "python3"
  },
  "language_info": {
   "codemirror_mode": {
    "name": "ipython",
    "version": 3
   },
   "file_extension": ".py",
   "mimetype": "text/x-python",
   "name": "python",
   "nbconvert_exporter": "python",
   "pygments_lexer": "ipython3",
   "version": "3.7.9"
  }
 },
 "nbformat": 4,
 "nbformat_minor": 4
}

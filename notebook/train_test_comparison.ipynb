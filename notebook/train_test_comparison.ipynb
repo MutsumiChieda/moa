{
 "cells": [
  {
   "cell_type": "code",
   "execution_count": 1,
   "metadata": {},
   "outputs": [],
   "source": [
    "import gc\n",
    "import os\n",
    "from os.path import exists\n",
    "import numpy as np\n",
    "import pandas as pd\n",
    "import matplotlib.pyplot as plt"
   ]
  },
  {
   "cell_type": "code",
   "execution_count": 2,
   "metadata": {},
   "outputs": [
    {
     "data": {
      "text/plain": [
       "0"
      ]
     },
     "execution_count": 2,
     "metadata": {},
     "output_type": "execute_result"
    }
   ],
   "source": [
    "train = pd.read_csv('../input/lish-moa/train_features.csv')\n",
    "test = pd.read_csv('../input/lish-moa/test_features.csv')\n",
    "train['part']='train'\n",
    "test['part']='test'\n",
    "# df = pd.concat([tr, te], axis=0)\n",
    "cs_c = [\"#c0c\", \"#0cc\", \"#cc0\", \"#777\"]\n",
    "# del tr, te\n",
    "gc.collect()"
   ]
  },
  {
   "cell_type": "code",
   "execution_count": 3,
   "metadata": {},
   "outputs": [],
   "source": [
    "i_feats = ['sig_id']\n",
    "x_feats = ['cp_type', 'cp_time', 'cp_dose']\n",
    "g_feats = [f'g-{i}' for i in range(770)] # 772\n",
    "c_feats = [f'c-{i}' for i in range(100)]\n",
    "histbins = np.arange(-10, 10.5, .5)"
   ]
  },
  {
   "cell_type": "code",
   "execution_count": 3,
   "metadata": {},
   "outputs": [],
   "source": [
    "cp_time = [24,48,72]\n",
    "cp_dose = ['D1', 'D2']\n",
    "cp_type = [\"trt_cp\", \"ctl_vehicle\"]"
   ]
  },
  {
   "cell_type": "markdown",
   "metadata": {},
   "source": [
    "## cp_timeごとに、各C特徴で訓練/テストの分布を比較"
   ]
  },
  {
   "cell_type": "code",
   "execution_count": 4,
   "metadata": {},
   "outputs": [],
   "source": [
    "def train_test_plot(tr, te, colname, colset, feats, suffix=\"\"):\n",
    "    res = len(feats) % 10\n",
    "    if res != 0:\n",
    "        feats = feats + feats[:(10-res)]\n",
    "    feats_ = np.array(feats).reshape((-1,10))\n",
    "    \n",
    "    for batch_idx, feats_batch in enumerate(feats_):\n",
    "        num_c = len(feats_batch)\n",
    "        num_s = len(colset)\n",
    "        fig, axes = plt.subplots(num_c, num_s, figsize=(5,10), sharex=True, sharey=True)\n",
    "        fig.suptitle(\"train(magenta) vs test(yellow)\")\n",
    "        for j, ci in enumerate(feats_batch):\n",
    "            print(f'batch {batch_idx:>3} / {len(feats_)}, plotting {j:>3} / {num_c:>3}', end='\\r')\n",
    "            for i, t in enumerate(colset):\n",
    "                tr[tr[colname] == t][ci].hist(ax=axes[j][i], label=\"train\", color=cs_c[0], histtype='step', linewidth=1, bins=histbins, density=True)\n",
    "                te[te[colname] == t][ci].hist(ax=axes[j][i], label=\"test\", color=cs_c[2], histtype='step', linewidth=1, bins=histbins, density=True)\n",
    "                axes[j][i].grid(True)\n",
    "            axes[j][0].set_ylabel(ci)\n",
    "        for i, t in enumerate(colset):\n",
    "            axes[0][i].set_title(f'time: {t}')\n",
    "            axes[0][i].set_xlim(-10,10)\n",
    "            \n",
    "        dir_ = f\"image/train-test/by_{colname}_{suffix}\"\n",
    "        if not exists(dir_):\n",
    "            os.makedirs(dir_)\n",
    "        plt.savefig(f\"{dir_}/{feats_batch[0]}.pdf\")\n",
    "        plt.close()\n",
    "    print()"
   ]
  },
  {
   "cell_type": "markdown",
   "metadata": {},
   "source": [
    "## cp_timeごとのc特徴"
   ]
  },
  {
   "cell_type": "code",
   "execution_count": 5,
   "metadata": {},
   "outputs": [
    {
     "name": "stdout",
     "output_type": "stream",
     "text": [
      "batch   9 / 10, plotting   9 /  10\r"
     ]
    }
   ],
   "source": [
    "train_test_plot(train, test, 'cp_time', cp_time, c_feats)"
   ]
  },
  {
   "cell_type": "markdown",
   "metadata": {},
   "source": [
    "## cp_doseごとのc特徴"
   ]
  },
  {
   "cell_type": "code",
   "execution_count": 6,
   "metadata": {},
   "outputs": [
    {
     "name": "stdout",
     "output_type": "stream",
     "text": [
      "batch   9 / 10, plotting   9 /  10\r"
     ]
    }
   ],
   "source": [
    "train_test_plot(train, test, 'cp_dose', cp_dose, c_feats)"
   ]
  },
  {
   "cell_type": "markdown",
   "metadata": {},
   "source": [
    "## cp_typeごとのc特徴"
   ]
  },
  {
   "cell_type": "code",
   "execution_count": 7,
   "metadata": {},
   "outputs": [
    {
     "name": "stdout",
     "output_type": "stream",
     "text": [
      "batch   9 / 10, plotting   9 /  10\r"
     ]
    }
   ],
   "source": [
    "train_test_plot(train, test, 'cp_type', cp_type, c_feats)"
   ]
  },
  {
   "cell_type": "markdown",
   "metadata": {},
   "source": [
    "## trt_cpのみでcp_timeごとのc特徴、cp_doseごとのc特徴"
   ]
  },
  {
   "cell_type": "code",
   "execution_count": 8,
   "metadata": {},
   "outputs": [
    {
     "name": "stdout",
     "output_type": "stream",
     "text": [
      "batch   9 / 10, plotting   9 /  10\r"
     ]
    }
   ],
   "source": [
    "train_test_plot(train[train['cp_type']=='trt_cp'], \n",
    "                test[test['cp_type']=='trt_cp'], \n",
    "                'cp_time', cp_time, c_feats, suffix=\"trt_cp\")"
   ]
  },
  {
   "cell_type": "code",
   "execution_count": 9,
   "metadata": {},
   "outputs": [
    {
     "name": "stdout",
     "output_type": "stream",
     "text": [
      "batch   9 / 10, plotting   9 /  10\r"
     ]
    }
   ],
   "source": [
    "train_test_plot(train[train['cp_type']=='trt_cp'], \n",
    "                test[test['cp_type']=='trt_cp'], \n",
    "                'cp_dose', cp_dose, c_feats, suffix=\"trt_cp\")"
   ]
  },
  {
   "cell_type": "markdown",
   "metadata": {},
   "source": [
    "## cp_dose条件下で、cp_timeごとのc特徴"
   ]
  },
  {
   "cell_type": "code",
   "execution_count": 10,
   "metadata": {},
   "outputs": [
    {
     "name": "stdout",
     "output_type": "stream",
     "text": [
      "batch   9 / 10, plotting   9 /  10\r"
     ]
    }
   ],
   "source": [
    "train_test_plot(train[train['cp_dose']=='D1'], \n",
    "                test[test['cp_dose']=='D1'], \n",
    "                'cp_time', cp_time, c_feats, suffix=\"D1\")\n",
    "train_test_plot(train[train['cp_dose']=='D2'], \n",
    "                test[test['cp_dose']=='D2'], \n",
    "                'cp_time', cp_time, c_feats, suffix=\"D2\")"
   ]
  },
  {
   "cell_type": "markdown",
   "metadata": {},
   "source": [
    "## cp_time条件下で、cp_doseごとのc特徴"
   ]
  },
  {
   "cell_type": "code",
   "execution_count": null,
   "metadata": {},
   "outputs": [],
   "source": [
    "train_test_plot(train[train['cp_time']==24],\n",
    "               test[test['cp_time']==24],\n",
    "               'cp_dose', cp_dose, c_feats, suffix=\"24\")\n",
    "train_test_plot(train[train['cp_time']==48],\n",
    "               test[test['cp_time']==48],\n",
    "               'cp_dose', cp_dose, c_feats, suffix=\"48\")\n",
    "train_test_plot(train[train['cp_time']==72],\n",
    "               test[test['cp_time']==72],\n",
    "               'cp_dose', cp_dose, c_feats, suffix=\"72\")"
   ]
  },
  {
   "cell_type": "markdown",
   "metadata": {},
   "source": [
    "---"
   ]
  },
  {
   "cell_type": "markdown",
   "metadata": {},
   "source": [
    "## 統計量をプロット"
   ]
  },
  {
   "cell_type": "code",
   "execution_count": null,
   "metadata": {},
   "outputs": [],
   "source": []
  },
  {
   "cell_type": "markdown",
   "metadata": {},
   "source": [
    "---"
   ]
  },
  {
   "cell_type": "markdown",
   "metadata": {},
   "source": [
    "## PCAによる特徴の再現性検証"
   ]
  },
  {
   "cell_type": "code",
   "execution_count": 11,
   "metadata": {},
   "outputs": [],
   "source": [
    "# from sklearn.decomposition import PCA\n",
    "# for i in range(3,30):\n",
    "#     pca = PCA(n_components=i)\n",
    "#     g_pca = pca.fit_transform(train[c_feats])\n",
    "#     coverage = pca.explained_variance_ratio_.sum()\n",
    "#     print(f\"{i:>3}:{coverage:<.3}\")\n",
    "#     if coverage >= .9:\n",
    "#         break"
   ]
  }
 ],
 "metadata": {
  "kernelspec": {
   "display_name": "Python 3",
   "language": "python",
   "name": "python3"
  },
  "language_info": {
   "codemirror_mode": {
    "name": "ipython",
    "version": 3
   },
   "file_extension": ".py",
   "mimetype": "text/x-python",
   "name": "python",
   "nbconvert_exporter": "python",
   "pygments_lexer": "ipython3",
   "version": "3.7.9"
  }
 },
 "nbformat": 4,
 "nbformat_minor": 4
}

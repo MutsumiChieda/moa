{
 "cells": [
  {
   "cell_type": "code",
   "execution_count": 1,
   "metadata": {},
   "outputs": [],
   "source": [
    "import gc\n",
    "import os\n",
    "from os.path import exists\n",
    "import numpy as np\n",
    "import pandas as pd\n",
    "import matplotlib.pyplot as plt"
   ]
  },
  {
   "cell_type": "code",
   "execution_count": 2,
   "metadata": {},
   "outputs": [
    {
     "data": {
      "text/plain": [
       "0"
      ]
     },
     "execution_count": 2,
     "metadata": {},
     "output_type": "execute_result"
    }
   ],
   "source": [
    "train = pd.read_csv('../input/lish-moa/train_features.csv')\n",
    "test = pd.read_csv('../input/lish-moa/test_features.csv')\n",
    "train['part']='train'\n",
    "test['part']='test'\n",
    "# df = pd.concat([tr, te], axis=0)\n",
    "cs_c = [\"#c0c\", \"#0cc\", \"#cc0\", \"#000\"]\n",
    "# del tr, te\n",
    "gc.collect()"
   ]
  },
  {
   "cell_type": "code",
   "execution_count": 4,
   "metadata": {},
   "outputs": [],
   "source": [
    "i_feats = ['sig_id']\n",
    "x_feats = ['cp_type', 'cp_time', 'cp_dose']\n",
    "g_feats = [f'g-{i}' for i in range(772)] # 772\n",
    "c_feats = [f'c-{i}' for i in range(100)]"
   ]
  },
  {
   "cell_type": "markdown",
   "metadata": {},
   "source": [
    "## cp_timeごとに、各C特徴で訓練/テストの分布を比較"
   ]
  },
  {
   "cell_type": "code",
   "execution_count": 13,
   "metadata": {},
   "outputs": [],
   "source": [
    "def train_test_plot(tr, te, colname, colset, feats, suffix=\"\"):\n",
    "    feats_ = np.array(feats).reshape((-1,10))\n",
    "    for batch_idx, feats_batch in enumerate(feats_):\n",
    "        num_c = len(feats_batch)\n",
    "        num_s = len(colset)\n",
    "        fig, axes = plt.subplots(num_c, num_s, figsize=(5,10), sharex=True, sharey=True)\n",
    "        fig.suptitle(\"train(magenta) vs test(yellow)\")\n",
    "        for j, ci in enumerate(feats_batch):\n",
    "            print(f'batch {batch_idx:>3} / {len(feats_)}, plotting {j:>3} / {num_c:>3}', end='\\r')\n",
    "            for i, t in enumerate(colset):\n",
    "                tr[tr[colname] == t][ci].plot(kind='kde', ax=axes[j][i], label=\"train\", color=cs_c[0])\n",
    "                te[te[colname] == t][ci].plot(kind='kde', ax=axes[j][i], label=\"test\", color=cs_c[2])\n",
    "                axes[j][i].grid(True)\n",
    "            axes[j][0].set_ylabel(ci)\n",
    "        for i, t in enumerate(colset):\n",
    "            axes[0][i].set_title(f'time: {t}')\n",
    "            axes[0][i].set_xlim(-10,10)\n",
    "            \n",
    "        dir_ = f\"image/tr-te_feats_by_{colname}_{suffix}\"\n",
    "        if not exists(dir_):\n",
    "            os.makedirs(dir_)\n",
    "        plt.savefig(f\"{dir_}/{feats_batch[0]}.pdf\")\n",
    "        plt.close()"
   ]
  },
  {
   "cell_type": "markdown",
   "metadata": {},
   "source": [
    "## cp_timeごとのc特徴"
   ]
  },
  {
   "cell_type": "code",
   "execution_count": 15,
   "metadata": {},
   "outputs": [
    {
     "name": "stdout",
     "output_type": "stream",
     "text": [
      "batch   9 / 10, plotting   9 /  10\r"
     ]
    }
   ],
   "source": [
    "cp_times = [24,48,72]\n",
    "train_test_plot(train, test, 'cp_time', cp_times, c_feats)"
   ]
  },
  {
   "cell_type": "markdown",
   "metadata": {},
   "source": [
    "## cp_doseごとのc特徴"
   ]
  },
  {
   "cell_type": "code",
   "execution_count": 10,
   "metadata": {},
   "outputs": [
    {
     "name": "stdout",
     "output_type": "stream",
     "text": [
      "batch   9 / 10, plotting   9 /  10\r"
     ]
    }
   ],
   "source": [
    "cp_dose = ['D1', 'D2']\n",
    "train_test_plot(train, test, 'cp_dose', cp_dose, c_feats)"
   ]
  },
  {
   "cell_type": "markdown",
   "metadata": {},
   "source": [
    "## cp_typeごとのc特徴"
   ]
  },
  {
   "cell_type": "code",
   "execution_count": 11,
   "metadata": {},
   "outputs": [
    {
     "name": "stdout",
     "output_type": "stream",
     "text": [
      "batch   9 / 10, plotting   9 /  10\r"
     ]
    }
   ],
   "source": [
    "cp_type = [\"trt_cp\", \"ctl_vehicle\"]\n",
    "train_test_plot(train, test, 'cp_type', cp_type, c_feats)"
   ]
  },
  {
   "cell_type": "markdown",
   "metadata": {},
   "source": [
    "## trt_cpのみでcp_timeごとのc特徴、cp_doseごとのc特徴"
   ]
  },
  {
   "cell_type": "code",
   "execution_count": 14,
   "metadata": {},
   "outputs": [
    {
     "name": "stdout",
     "output_type": "stream",
     "text": [
      "batch   9 / 10, plotting   9 /  10\r"
     ]
    }
   ],
   "source": [
    "train_test_plot(train[train['cp_type']=='trt_cp'], \n",
    "                test[test['cp_type']=='trt_cp'], \n",
    "                'cp_time', cp_times, c_feats, suffix=\"trt_cp\")"
   ]
  },
  {
   "cell_type": "code",
   "execution_count": 19,
   "metadata": {},
   "outputs": [
    {
     "name": "stdout",
     "output_type": "stream",
     "text": [
      "batch   9 / 10, plotting   9 /  10\r"
     ]
    }
   ],
   "source": [
    "train_test_plot(train[train['cp_type']=='trt_cp'], \n",
    "                test[test['cp_type']=='trt_cp'], \n",
    "                'cp_dose', cp_dose, c_feats, suffix=\"trt_cp\")"
   ]
  },
  {
   "cell_type": "markdown",
   "metadata": {},
   "source": [
    "---"
   ]
  },
  {
   "cell_type": "markdown",
   "metadata": {},
   "source": [
    "## PCAによる特徴の再現性検証"
   ]
  },
  {
   "cell_type": "code",
   "execution_count": 58,
   "metadata": {},
   "outputs": [],
   "source": [
    "from sklearn.decomposition import PCA\n",
    "from sklearn.preprocessing import QuantileTransformer"
   ]
  },
  {
   "cell_type": "code",
   "execution_count": 59,
   "metadata": {},
   "outputs": [
    {
     "name": "stdout",
     "output_type": "stream",
     "text": [
      "512:0.948\r"
     ]
    }
   ],
   "source": [
    "y = []\n",
    "coef = 10\n",
    "for g_comp in [2,4,8,16,32,48,64,96,128,196,256,384,512]:\n",
    "    n_quantiles = 1000\n",
    "    gdf = train[g_feats].values\n",
    "    gpca = PCA(n_components=g_comp)\n",
    "    g = gpca.fit_transform(gdf)\n",
    "    coverage = gpca.explained_variance_ratio_.sum()\n",
    "    y.append([g_comp,coverage])\n",
    "    print(f\"{g_comp:>3}:{coverage:<.3}\", end='\\r')"
   ]
  },
  {
   "cell_type": "code",
   "execution_count": 60,
   "metadata": {},
   "outputs": [
    {
     "name": "stdout",
     "output_type": "stream",
     "text": [
      "512:0.898\r"
     ]
    }
   ],
   "source": [
    "yr = []\n",
    "coef = 10\n",
    "for g_comp in [2,4,8,16,32,48,64,96,128,196,256,384,512]:\n",
    "    n_quantiles = 1000\n",
    "    gqt = QuantileTransformer(n_quantiles=n_quantiles, random_state=42)\n",
    "    gdf = gqt.fit_transform(train[g_feats])\n",
    "    gpca = PCA(n_components=g_comp)\n",
    "    g = gpca.fit_transform(gdf)\n",
    "    coverage = gpca.explained_variance_ratio_.sum()\n",
    "    yr.append([g_comp,coverage])\n",
    "    print(f\"{g_comp:>3}:{coverage:<.3}\", end='\\r')"
   ]
  },
  {
   "cell_type": "code",
   "execution_count": 61,
   "metadata": {},
   "outputs": [
    {
     "data": {
      "image/png": "[encoded data removed]",
      "text/plain": [
       "<Figure size 432x288 with 1 Axes>"
      ]
     },
     "metadata": {
      "needs_background": "light"
     },
     "output_type": "display_data"
    }
   ],
   "source": [
    "y = pd.DataFrame(y, columns=['g_comp', 'coverage'])\n",
    "yr = pd.DataFrame(yr, columns=['g_comp', 'coverage'])\n",
    "plt.plot(y['g_comp'], y['coverage'], marker='.', label='pca')\n",
    "plt.plot(yr['g_comp'], yr['coverage'], marker='.', color='orange', label='qpca')\n",
    "plt.grid(True)\n",
    "plt.ylim(0,1)\n",
    "plt.title('G PCA dist. coverage / n_components')\n",
    "plt.legend()\n",
    "plt.show()"
   ]
  },
  {
   "cell_type": "code",
   "execution_count": 62,
   "metadata": {},
   "outputs": [
    {
     "name": "stdout",
     "output_type": "stream",
     "text": [
      "100:1.081\r"
     ]
    }
   ],
   "source": [
    "y = []\n",
    "coef = 10\n",
    "for c_comp in [1,2,3,4,5,6,8,10,15,20,25,30,40,50,75,100]:\n",
    "    n_quantiles = 1000\n",
    "    cdf = train[c_feats].values\n",
    "    cpca = PCA(n_components=c_comp)\n",
    "    c = cpca.fit_transform(cdf)\n",
    "    coverage = cpca.explained_variance_ratio_.sum()\n",
    "    y.append([c_comp,coverage])\n",
    "    print(f\"{c_comp:>3}:{coverage:<.3}\", end='\\r')"
   ]
  },
  {
   "cell_type": "code",
   "execution_count": 63,
   "metadata": {},
   "outputs": [
    {
     "name": "stdout",
     "output_type": "stream",
     "text": [
      "100:1.005\r"
     ]
    }
   ],
   "source": [
    "yr = []\n",
    "coef = 10\n",
    "for c_comp in [1,2,3,4,5,6,8,10,15,20,25,30,40,50,75,100]:\n",
    "    n_quantiles = 1000\n",
    "    cdf = cqt.fit_transform(cdf)    \n",
    "    cpca = PCA(n_components=c_comp)\n",
    "    c = cpca.fit_transform(cdf)\n",
    "    coverage = cpca.explained_variance_ratio_.sum()\n",
    "    yr.append([c_comp,coverage])\n",
    "    print(f\"{c_comp:>3}:{coverage:<.3}\", end='\\r')"
   ]
  },
  {
   "cell_type": "code",
   "execution_count": 65,
   "metadata": {},
   "outputs": [
    {
     "data": {
      "image/png": "[encoded data removed]",
      "text/plain": [
       "<Figure size 432x288 with 1 Axes>"
      ]
     },
     "metadata": {
      "needs_background": "light"
     },
     "output_type": "display_data"
    }
   ],
   "source": [
    "y = pd.DataFrame(y, columns=['c_comp', 'coverage'])\n",
    "yr = pd.DataFrame(yr, columns=['c_comp', 'coverage'])\n",
    "plt.plot(y['c_comp'], y['coverage'], marker='.', label='pca')\n",
    "plt.plot(yr['c_comp'], yr['coverage'], marker='.', color='orange', label='qpca')\n",
    "plt.grid(True)\n",
    "plt.ylim(0,1)\n",
    "plt.title('C PCA dist. coverage / n_components')\n",
    "plt.legend()\n",
    "plt.show()"
   ]
  },
  {
   "cell_type": "code",
   "execution_count": null,
   "metadata": {},
   "outputs": [],
   "source": []
  }
 ],
 "metadata": {
  "kernelspec": {
   "display_name": "Python 3",
   "language": "python",
   "name": "python3"
  },
  "language_info": {
   "codemirror_mode": {
    "name": "ipython",
    "version": 3
   },
   "file_extension": ".py",
   "mimetype": "text/x-python",
   "name": "python",
   "nbconvert_exporter": "python",
   "pygments_lexer": "ipython3",
   "version": "3.7.9"
  }
 },
 "nbformat": 4,
 "nbformat_minor": 4
}

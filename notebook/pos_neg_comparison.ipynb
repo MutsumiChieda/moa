{
 "cells": [
  {
   "cell_type": "code",
   "execution_count": 1,
   "metadata": {},
   "outputs": [],
   "source": [
    "import gc\n",
    "import os\n",
    "from os.path import exists\n",
    "import numpy as np\n",
    "import pandas as pd\n",
    "import matplotlib.pyplot as plt"
   ]
  },
  {
   "cell_type": "code",
   "execution_count": 2,
   "metadata": {},
   "outputs": [
    {
     "data": {
      "text/plain": [
       "0"
      ]
     },
     "execution_count": 2,
     "metadata": {},
     "output_type": "execute_result"
    }
   ],
   "source": [
    "train = pd.read_csv('../input/lish-moa/train_features.csv')\n",
    "test = pd.read_csv('../input/lish-moa/test_features.csv')\n",
    "y_train = pd.read_csv('../input/lish-moa/train_targets_scored.csv')\n",
    "df = pd.concat([train, test], axis=0)\n",
    "df = pd.merge(df, y_train, on=['sig_id'], how='left').fillna(-1)\n",
    "cs_c = [\"#c0c\", \"#0cc\", \"#cc0\", \"#777\"]\n",
    "del train, test\n",
    "gc.collect()"
   ]
  },
  {
   "cell_type": "code",
   "execution_count": 3,
   "metadata": {},
   "outputs": [],
   "source": [
    "i_feats = ['sig_id']\n",
    "x_feats = ['cp_type', 'cp_time', 'cp_dose']\n",
    "g_feats = [f'g-{i}' for i in range(770)] # 772\n",
    "c_feats = [f'c-{i}' for i in range(100)]\n",
    "labels = y_train.columns.values[1:].tolist()"
   ]
  },
  {
   "cell_type": "markdown",
   "metadata": {},
   "source": [
    "# シフトを探そう！"
   ]
  },
  {
   "cell_type": "markdown",
   "metadata": {},
   "source": [
    "## ラベルごとに、各C特徴で相関を比較"
   ]
  },
  {
   "cell_type": "code",
   "execution_count": 4,
   "metadata": {},
   "outputs": [],
   "source": [
    "def pos_neg_plot(pos, neg, unk, colname, colset, feats, suffix=\"\"):\n",
    "    feats_ = np.array(feats).reshape((-1,10))\n",
    "    for batch_idx, feats_batch in enumerate(feats_):\n",
    "        num_c = len(feats_batch)\n",
    "        num_s = len(colset)\n",
    "        fig, axes = plt.subplots(num_c, num_s, figsize=(5,10), sharex=True, sharey=True)\n",
    "        fig.suptitle(\"pos(magenta) vs neg(cyan) vs unknown(gray)\")\n",
    "        for j, ci in enumerate(feats_batch):\n",
    "            print(f'batch {batch_idx:>3} / {len(feats_)}, plotting {j:>3} / {num_c:>3}', end='\\r')\n",
    "            for i, t in enumerate(colset):\n",
    "                pos[pos[colname] == t][ci].plot(kind='kde', ax=axes[j][i], label=\"positive\", color=cs_c[0])\n",
    "                neg[neg[colname] == t][ci].plot(kind='kde', ax=axes[j][i], label=\"negative\", color=cs_c[1])\n",
    "                unk[unk[colname] == t][ci].plot(kind='kde', ax=axes[j][i], label=\"unknown\", color=cs_c[3])\n",
    "                axes[j][i].grid(True)\n",
    "            axes[j][0].set_ylabel(ci)\n",
    "        for i, t in enumerate(colset):\n",
    "            axes[0][i].set_title(f'{colname}:{t}')\n",
    "            axes[0][i].set_xlim(-10,10)\n",
    "            \n",
    "        dir_ = f\"image/pos-neg_feats_by_{colname}_{suffix}\"\n",
    "        if not exists(dir_):\n",
    "            os.makedirs(dir_)\n",
    "        plt.savefig(f\"{dir_}/{feats_batch[0]}.pdf\")\n",
    "        plt.close()"
   ]
  },
  {
   "cell_type": "code",
   "execution_count": 5,
   "metadata": {},
   "outputs": [],
   "source": [
    "label = labels[0]\n",
    "pos = df[df[label] == 1].copy()\n",
    "neg = df[df[label] == 0].copy()\n",
    "unk = df[df[label] == -1].copy()"
   ]
  },
  {
   "cell_type": "markdown",
   "metadata": {},
   "source": [
    "## cp_timeごとのc特徴"
   ]
  },
  {
   "cell_type": "code",
   "execution_count": 6,
   "metadata": {},
   "outputs": [
    {
     "name": "stdout",
     "output_type": "stream",
     "text": [
      "batch   9 / 10, plotting   9 /  10\r"
     ]
    }
   ],
   "source": [
    "cp_times = [24,48,72]\n",
    "pos_neg_plot(pos, neg, unk, 'cp_time', cp_times, c_feats, suffix=label)"
   ]
  },
  {
   "cell_type": "markdown",
   "metadata": {},
   "source": [
    "## cp_doseごとのc特徴"
   ]
  },
  {
   "cell_type": "code",
   "execution_count": 7,
   "metadata": {},
   "outputs": [
    {
     "name": "stdout",
     "output_type": "stream",
     "text": [
      "batch   9 / 10, plotting   9 /  10\r"
     ]
    }
   ],
   "source": [
    "cp_dose = ['D1', 'D2']\n",
    "pos_neg_plot(pos, neg, unk, 'cp_dose', cp_dose, c_feats, suffix=label)"
   ]
  },
  {
   "cell_type": "markdown",
   "metadata": {},
   "source": [
    "## cp_typeごとのc特徴"
   ]
  },
  {
   "cell_type": "code",
   "execution_count": 8,
   "metadata": {},
   "outputs": [],
   "source": [
    "# posにctl_vehicleはない\n",
    "# cp_type = [\"trt_cp\", \"ctl_vehicle\"]\n",
    "# pos_neg_plot(pos, neg, unk, 'cp_type', cp_type, c_feats, suffix=label)"
   ]
  },
  {
   "cell_type": "markdown",
   "metadata": {},
   "source": [
    "## trt_cpのみでcp_timeごとのc特徴、cp_doseごとのc特徴"
   ]
  },
  {
   "cell_type": "code",
   "execution_count": 9,
   "metadata": {},
   "outputs": [],
   "source": [
    "# train_test_plot(train[train['cp_type']=='trt_cp'], \n",
    "#                 test[test['cp_type']=='trt_cp'], \n",
    "#                 'cp_time', cp_times, c_feats, suffix=\"trt_cp\")"
   ]
  },
  {
   "cell_type": "code",
   "execution_count": 10,
   "metadata": {},
   "outputs": [],
   "source": [
    "# train_test_plot(train[train['cp_type']=='trt_cp'], \n",
    "#                 test[test['cp_type']=='trt_cp'], \n",
    "#                 'cp_dose', cp_doses, c_feats)"
   ]
  },
  {
   "cell_type": "code",
   "execution_count": null,
   "metadata": {},
   "outputs": [],
   "source": []
  }
 ],
 "metadata": {
  "kernelspec": {
   "display_name": "Python 3",
   "language": "python",
   "name": "python3"
  },
  "language_info": {
   "codemirror_mode": {
    "name": "ipython",
    "version": 3
   },
   "file_extension": ".py",
   "mimetype": "text/x-python",
   "name": "python",
   "nbconvert_exporter": "python",
   "pygments_lexer": "ipython3",
   "version": "3.7.9"
  }
 },
 "nbformat": 4,
 "nbformat_minor": 4
}

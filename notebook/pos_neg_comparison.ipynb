{
 "cells": [
  {
   "cell_type": "code",
   "execution_count": 1,
   "metadata": {},
   "outputs": [],
   "source": [
    "import gc\n",
    "import os\n",
    "from os.path import exists\n",
    "import numpy as np\n",
    "import pandas as pd\n",
    "import matplotlib.pyplot as plt"
   ]
  },
  {
   "cell_type": "code",
   "execution_count": 2,
   "metadata": {},
   "outputs": [
    {
     "data": {
      "text/plain": [
       "0"
      ]
     },
     "execution_count": 2,
     "metadata": {},
     "output_type": "execute_result"
    }
   ],
   "source": [
    "train = pd.read_csv('../input/lish-moa/train_features.csv')\n",
    "test = pd.read_csv('../input/lish-moa/test_features.csv')\n",
    "y_train = pd.read_csv('../input/lish-moa/train_targets_scored.csv')\n",
    "df = pd.concat([train, test], axis=0)\n",
    "df = pd.merge(df, y_train, on=['sig_id'], how='left').fillna(-1)\n",
    "cs_c = [\"#c0c\", \"#0cc\", \"#cc0\", \"#777\"]\n",
    "del train, test\n",
    "gc.collect()"
   ]
  },
  {
   "cell_type": "code",
   "execution_count": 3,
   "metadata": {},
   "outputs": [],
   "source": [
    "i_feats = ['sig_id']\n",
    "x_feats = ['cp_type', 'cp_time', 'cp_dose']\n",
    "g_feats = [f'g-{i}' for i in range(772)]\n",
    "c_feats = [f'c-{i}' for i in range(100)]\n",
    "labels = y_train.columns.values[1:].tolist()\n",
    "histbins = np.arange(-10, 10.5, .5)"
   ]
  },
  {
   "cell_type": "code",
   "execution_count": 4,
   "metadata": {},
   "outputs": [],
   "source": [
    "cp_time = [24,48,72]\n",
    "cp_dose = ['D1', 'D2']\n",
    "cp_type = [\"trt_cp\", \"ctl_vehicle\"]"
   ]
  },
  {
   "cell_type": "code",
   "execution_count": 5,
   "metadata": {},
   "outputs": [],
   "source": [
    "def split_by_label(df, label):\n",
    "    pos = df[df[label] == 1].copy()\n",
    "    pos = pos[pos['cp_type']=='trt_cp'].copy()\n",
    "    neg = df[df[label] == 0].copy()\n",
    "    neg = neg[neg['cp_type']=='trt_cp'].copy()\n",
    "    unk = df[df[label] == -1].copy()\n",
    "    unk = unk[unk['cp_type']=='trt_cp'].copy()\n",
    "    return pos, neg, unk"
   ]
  },
  {
   "cell_type": "markdown",
   "metadata": {},
   "source": [
    "# シフトを探そう！"
   ]
  },
  {
   "cell_type": "markdown",
   "metadata": {},
   "source": [
    "## ラベルごとに、各C特徴で相関を比較"
   ]
  },
  {
   "cell_type": "code",
   "execution_count": 6,
   "metadata": {},
   "outputs": [],
   "source": [
    "label = labels[0]\n",
    "pos, neg, unk = split_by_label(df, label)"
   ]
  },
  {
   "cell_type": "code",
   "execution_count": 18,
   "metadata": {},
   "outputs": [],
   "source": [
    "def pos_neg_plot(pos, neg, unk, colname, colset, feats, suffix=\"\"):\n",
    "    if len(feats) > 10:\n",
    "        res = len(feats) % 10\n",
    "        if res != 0:\n",
    "            feats = feats + feats[:(10-res)]\n",
    "        feats_ = np.array(feats).reshape((-1,10))\n",
    "    else: \n",
    "        feats_ = [feats]\n",
    "    \n",
    "    for batch_idx, feats_batch in enumerate(feats_):\n",
    "        num_c = len(feats_batch)\n",
    "        num_s = len(colset)\n",
    "        fig, axes = plt.subplots(num_c, num_s, figsize=(5,10), sharex=True, sharey=True)\n",
    "        fig.suptitle(\"pos(magenta) vs neg(cyan) vs unknown(gray)\")\n",
    "        for j, ci in enumerate(feats_batch):\n",
    "            print(f'batch {batch_idx:>3} / {len(feats_)}, plotting {j:>3} / {num_c:>3}', end='\\r')\n",
    "            for i, t in enumerate(colset):\n",
    "                pos[pos[colname] == t][ci].hist(ax=axes[j][i], label=\"positive\", color=cs_c[0], histtype='step', linewidth=.5, bins=histbins, density=True)\n",
    "                neg[neg[colname] == t][ci].hist(ax=axes[j][i], label=\"negative\", color=cs_c[1], histtype='step', linewidth=.5, bins=histbins, density=True)\n",
    "                unk[unk[colname] == t][ci].hist(ax=axes[j][i], label=\"unknown\", color=cs_c[3], histtype='step', linewidth=.5, bins=histbins, density=True)\n",
    "                axes[j][i].grid(True)\n",
    "            axes[j][0].set_ylabel(ci)\n",
    "        for i, t in enumerate(colset):\n",
    "            axes[0][i].set_title(f'{colname}:{t}')\n",
    "            axes[0][i].set_xlim(-10,10)\n",
    "            \n",
    "        dir_ = f\"image/pos-neg/{label}/by_{colname}_{suffix}\"\n",
    "        if not exists(dir_):\n",
    "            os.makedirs(dir_)\n",
    "        plt.savefig(f\"{dir_}/{feats_batch[0]}.pdf\")\n",
    "        plt.close()\n",
    "    print()"
   ]
  },
  {
   "cell_type": "markdown",
   "metadata": {},
   "source": [
    "## cp_timeごとのc特徴"
   ]
  },
  {
   "cell_type": "code",
   "execution_count": 8,
   "metadata": {},
   "outputs": [
    {
     "name": "stdout",
     "output_type": "stream",
     "text": [
      "batch  77 / 78, plotting   9 /  10\n"
     ]
    }
   ],
   "source": [
    "pos_neg_plot(pos, neg, unk, 'cp_time', cp_time, c_feats)"
   ]
  },
  {
   "cell_type": "markdown",
   "metadata": {},
   "source": [
    "## cp_doseごとのc特徴"
   ]
  },
  {
   "cell_type": "code",
   "execution_count": 9,
   "metadata": {},
   "outputs": [
    {
     "name": "stdout",
     "output_type": "stream",
     "text": [
      "batch  77 / 78, plotting   9 /  10\n"
     ]
    }
   ],
   "source": [
    "pos_neg_plot(pos, neg, unk, 'cp_dose', cp_dose, c_feats)"
   ]
  },
  {
   "cell_type": "markdown",
   "metadata": {},
   "source": [
    "## cp_dose条件下で、cp_timeごとのc特徴"
   ]
  },
  {
   "cell_type": "code",
   "execution_count": 10,
   "metadata": {},
   "outputs": [
    {
     "name": "stdout",
     "output_type": "stream",
     "text": [
      "batch  77 / 78, plotting   9 /  10\n",
      "batch  77 / 78, plotting   9 /  10\n"
     ]
    }
   ],
   "source": [
    "pos_neg_plot(pos[pos['cp_dose']=='D1'], \n",
    "             neg[neg['cp_dose']=='D1'], \n",
    "             unk[unk['cp_dose']=='D1'], \n",
    "             'cp_time', cp_time, c_feats, suffix=\"D1\")\n",
    "pos_neg_plot(pos[pos['cp_dose']=='D2'], \n",
    "             neg[neg['cp_dose']=='D2'], \n",
    "             unk[unk['cp_dose']=='D2'], \n",
    "             'cp_time', cp_time, c_feats, suffix=\"D2\")"
   ]
  },
  {
   "cell_type": "markdown",
   "metadata": {},
   "source": [
    "## cp_time条件下で、cp_doseごとのc特徴"
   ]
  },
  {
   "cell_type": "code",
   "execution_count": 11,
   "metadata": {},
   "outputs": [
    {
     "name": "stdout",
     "output_type": "stream",
     "text": [
      "batch  77 / 78, plotting   9 /  10\n",
      "batch  77 / 78, plotting   9 /  10\n",
      "batch  77 / 78, plotting   9 /  10\n"
     ]
    }
   ],
   "source": [
    "pos_neg_plot(pos[pos['cp_time']==24],\n",
    "             neg[neg['cp_time']==24],\n",
    "             unk[unk['cp_time']==24],\n",
    "               'cp_dose', cp_dose, c_feats, suffix=\"24\")\n",
    "pos_neg_plot(pos[pos['cp_time']==48],\n",
    "             neg[neg['cp_time']==48],\n",
    "             unk[unk['cp_time']==48],\n",
    "             'cp_dose', cp_dose, c_feats, suffix=\"48\")\n",
    "pos_neg_plot(pos[pos['cp_time']==72],\n",
    "             neg[neg['cp_time']==72],\n",
    "             unk[unk['cp_time']==72],\n",
    "             'cp_dose', cp_dose, c_feats, suffix=\"72\")"
   ]
  },
  {
   "cell_type": "markdown",
   "metadata": {},
   "source": [
    "---"
   ]
  },
  {
   "cell_type": "markdown",
   "metadata": {},
   "source": [
    "## 統計量をプロット"
   ]
  },
  {
   "cell_type": "code",
   "execution_count": 20,
   "metadata": {},
   "outputs": [
    {
     "name": "stdout",
     "output_type": "stream",
     "text": [
      "batch   0 / 1, plotting   3 /   4\n",
      "batch   0 / 1, plotting   3 /   4\n",
      "batch   0 / 1, plotting   3 /   4\n",
      "batch   0 / 1, plotting   3 /   4\n",
      "batch   0 / 1, plotting   3 /   4\n",
      "batch   0 / 1, plotting   3 /   4\n",
      "batch   0 / 1, plotting   3 /   4\n"
     ]
    }
   ],
   "source": [
    "stats_feats = ['c_mean', 'c_med', 'c_max', 'c_min']\n",
    "['c_std', 'c_argmax', 'c_argmin', 'c_skew']\n",
    "df['c_mean'] = df[c_feats].mean(axis=1)\n",
    "df['c_std'] = df[c_feats].std(axis=1)\n",
    "df['c_med'] = df[c_feats].median(axis=1)\n",
    "df['c_max'] = df[c_feats].max(axis=1)\n",
    "df['c_argmax'] = df[c_feats].idxmax(axis=\"columns\")\n",
    "df['c_min'] = df[c_feats].min(axis=1)\n",
    "df['c_argmin'] = df[c_feats].idxmin(axis=\"columns\")\n",
    "df['c_skew'] = df[c_feats].skew(axis=1)\n",
    "\n",
    "pos, neg, unk = split_by_label(df, label)\n",
    "\n",
    "pos_neg_plot(pos, neg, unk, 'cp_time', cp_time, stats_feats)\n",
    "pos_neg_plot(pos, neg, unk, 'cp_dose', cp_dose, stats_feats)\n",
    "pos_neg_plot(pos[pos['cp_dose']=='D1'], \n",
    "             neg[neg['cp_dose']=='D1'], \n",
    "             unk[unk['cp_dose']=='D1'], \n",
    "             'cp_time', cp_time, stats_feats, suffix=\"D1\")\n",
    "pos_neg_plot(pos[pos['cp_dose']=='D2'], \n",
    "             neg[neg['cp_dose']=='D2'], \n",
    "             unk[unk['cp_dose']=='D2'], \n",
    "             'cp_time', cp_time, stats_feats, suffix=\"D2\")\n",
    "pos_neg_plot(pos[pos['cp_time']==24],\n",
    "             neg[neg['cp_time']==24],\n",
    "             unk[unk['cp_time']==24],\n",
    "               'cp_dose', cp_dose, stats_feats, suffix=\"24\")\n",
    "pos_neg_plot(pos[pos['cp_time']==48],\n",
    "             neg[neg['cp_time']==48],\n",
    "             unk[unk['cp_time']==48],\n",
    "             'cp_dose', cp_dose, stats_feats, suffix=\"48\")\n",
    "pos_neg_plot(pos[pos['cp_time']==72],\n",
    "             neg[neg['cp_time']==72],\n",
    "             unk[unk['cp_time']==72],\n",
    "             'cp_dose', cp_dose, stats_feats, suffix=\"72\")"
   ]
  },
  {
   "cell_type": "code",
   "execution_count": null,
   "metadata": {},
   "outputs": [],
   "source": [
    "df['c-0'].describe()"
   ]
  },
  {
   "cell_type": "code",
   "execution_count": null,
   "metadata": {},
   "outputs": [],
   "source": []
  }
 ],
 "metadata": {
  "kernelspec": {
   "display_name": "Python 3",
   "language": "python",
   "name": "python3"
  },
  "language_info": {
   "codemirror_mode": {
    "name": "ipython",
    "version": 3
   },
   "file_extension": ".py",
   "mimetype": "text/x-python",
   "name": "python",
   "nbconvert_exporter": "python",
   "pygments_lexer": "ipython3",
   "version": "3.7.9"
  }
 },
 "nbformat": 4,
 "nbformat_minor": 4
}

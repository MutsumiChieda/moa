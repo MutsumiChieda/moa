{
 "cells": [
  {
   "cell_type": "code",
   "execution_count": 1,
   "metadata": {},
   "outputs": [
    {
     "name": "stderr",
     "output_type": "stream",
     "text": [
      "C:\\Users\\s3616\\anaconda3\\envs\\moa\\lib\\site-packages\\pytorch_lightning\\utilities\\distributed.py:37: UserWarning: Unsupported `ReduceOp` for distributed computing.\n",
      "  warnings.warn(*args, **kwargs)\n",
      "ERROR:root:Internal Python error in the inspect module.\n",
      "Below is the traceback from this internal error.\n",
      "\n"
     ]
    },
    {
     "name": "stdout",
     "output_type": "stream",
     "text": [
      "Traceback (most recent call last):\n",
      "  File \"C:\\Users\\s3616\\anaconda3\\envs\\moa\\lib\\site-packages\\IPython\\core\\interactiveshell.py\", line 3417, in run_code\n",
      "    exec(code_obj, self.user_global_ns, self.user_ns)\n",
      "  File \"<ipython-input-1-7dadc1502374>\", line 9, in <module>\n",
      "    import utils\n",
      "  File \"../script\\utils.py\", line 5, in <module>\n",
      "    from sklearn.model_selection import train_test_split\n",
      "  File \"C:\\Users\\s3616\\anaconda3\\envs\\moa\\lib\\site-packages\\sklearn\\__init__.py\", line 80, in <module>\n",
      "    from .base import clone\n",
      "  File \"C:\\Users\\s3616\\anaconda3\\envs\\moa\\lib\\site-packages\\sklearn\\base.py\", line 21, in <module>\n",
      "    from .utils import _IS_32BIT\n",
      "  File \"C:\\Users\\s3616\\anaconda3\\envs\\moa\\lib\\site-packages\\sklearn\\utils\\__init__.py\", line 23, in <module>\n",
      "    from .class_weight import compute_class_weight, compute_sample_weight\n",
      "  File \"C:\\Users\\s3616\\anaconda3\\envs\\moa\\lib\\site-packages\\sklearn\\utils\\class_weight.py\", line 7, in <module>\n",
      "    from .validation import _deprecate_positional_args\n",
      "  File \"C:\\Users\\s3616\\anaconda3\\envs\\moa\\lib\\site-packages\\sklearn\\utils\\validation.py\", line 25, in <module>\n",
      "    from .fixes import _object_dtype_isnan, parse_version\n",
      "  File \"C:\\Users\\s3616\\anaconda3\\envs\\moa\\lib\\site-packages\\sklearn\\utils\\fixes.py\", line 18, in <module>\n",
      "    import scipy.stats\n",
      "  File \"C:\\Users\\s3616\\anaconda3\\envs\\moa\\lib\\site-packages\\scipy\\stats\\__init__.py\", line 388, in <module>\n",
      "    from .stats import *\n",
      "  File \"C:\\Users\\s3616\\anaconda3\\envs\\moa\\lib\\site-packages\\scipy\\stats\\stats.py\", line 180, in <module>\n",
      "    from . import distributions\n",
      "  File \"C:\\Users\\s3616\\anaconda3\\envs\\moa\\lib\\site-packages\\scipy\\stats\\distributions.py\", line 8, in <module>\n",
      "    from ._distn_infrastructure import (entropy, rv_discrete, rv_continuous,\n",
      "  File \"C:\\Users\\s3616\\anaconda3\\envs\\moa\\lib\\site-packages\\scipy\\stats\\_distn_infrastructure.py\", line 23, in <module>\n",
      "    from scipy import optimize\n",
      "  File \"C:\\Users\\s3616\\anaconda3\\envs\\moa\\lib\\site-packages\\scipy\\optimize\\__init__.py\", line 388, in <module>\n",
      "    from ._minimize import *\n",
      "  File \"C:\\Users\\s3616\\anaconda3\\envs\\moa\\lib\\site-packages\\scipy\\optimize\\_minimize.py\", line 32, in <module>\n",
      "    from .cobyla import _minimize_cobyla\n",
      "  File \"C:\\Users\\s3616\\anaconda3\\envs\\moa\\lib\\site-packages\\scipy\\optimize\\cobyla.py\", line 17, in <module>\n",
      "    from scipy.optimize import _cobyla\n",
      "  File \"<frozen importlib._bootstrap>\", line 983, in _find_and_load\n",
      "  File \"<frozen importlib._bootstrap>\", line 967, in _find_and_load_unlocked\n",
      "  File \"<frozen importlib._bootstrap>\", line 670, in _load_unlocked\n",
      "  File \"<frozen importlib._bootstrap>\", line 583, in module_from_spec\n",
      "  File \"<frozen importlib._bootstrap_external>\", line 1043, in create_module\n",
      "KeyboardInterrupt\n",
      "\n",
      "During handling of the above exception, another exception occurred:\n",
      "\n",
      "Traceback (most recent call last):\n",
      "  File \"C:\\Users\\s3616\\anaconda3\\envs\\moa\\lib\\site-packages\\IPython\\core\\interactiveshell.py\", line 2044, in showtraceback\n",
      "    stb = value._render_traceback_()\n",
      "AttributeError: 'KeyboardInterrupt' object has no attribute '_render_traceback_'\n",
      "\n",
      "During handling of the above exception, another exception occurred:\n",
      "\n",
      "Traceback (most recent call last):\n",
      "  File \"C:\\Users\\s3616\\anaconda3\\envs\\moa\\lib\\site-packages\\IPython\\core\\ultratb.py\", line 1169, in get_records\n",
      "    return _fixed_getinnerframes(etb, number_of_lines_of_context, tb_offset)\n",
      "  File \"C:\\Users\\s3616\\anaconda3\\envs\\moa\\lib\\site-packages\\IPython\\core\\ultratb.py\", line 316, in wrapped\n",
      "    return f(*args, **kwargs)\n",
      "  File \"C:\\Users\\s3616\\anaconda3\\envs\\moa\\lib\\site-packages\\IPython\\core\\ultratb.py\", line 350, in _fixed_getinnerframes\n",
      "    records = fix_frame_records_filenames(inspect.getinnerframes(etb, context))\n",
      "  File \"C:\\Users\\s3616\\anaconda3\\envs\\moa\\lib\\inspect.py\", line 1502, in getinnerframes\n",
      "    frameinfo = (tb.tb_frame,) + getframeinfo(tb, context)\n",
      "  File \"C:\\Users\\s3616\\anaconda3\\envs\\moa\\lib\\inspect.py\", line 1460, in getframeinfo\n",
      "    filename = getsourcefile(frame) or getfile(frame)\n",
      "  File \"C:\\Users\\s3616\\anaconda3\\envs\\moa\\lib\\inspect.py\", line 696, in getsourcefile\n",
      "    if getattr(getmodule(object, filename), '__loader__', None) is not None:\n",
      "  File \"C:\\Users\\s3616\\anaconda3\\envs\\moa\\lib\\inspect.py\", line 739, in getmodule\n",
      "    f = getabsfile(module)\n",
      "  File \"C:\\Users\\s3616\\anaconda3\\envs\\moa\\lib\\inspect.py\", line 708, in getabsfile\n",
      "    _filename = getsourcefile(object) or getfile(object)\n",
      "  File \"C:\\Users\\s3616\\anaconda3\\envs\\moa\\lib\\inspect.py\", line 693, in getsourcefile\n",
      "    if os.path.exists(filename):\n",
      "  File \"C:\\Users\\s3616\\anaconda3\\envs\\moa\\lib\\genericpath.py\", line 19, in exists\n",
      "    os.stat(path)\n",
      "KeyboardInterrupt\n"
     ]
    },
    {
     "ename": "TypeError",
     "evalue": "object of type 'NoneType' has no len()",
     "output_type": "error",
     "traceback": [
      "\u001b[1;31m---------------------------------------------------------------------------\u001b[0m",
      "\u001b[1;31mKeyboardInterrupt\u001b[0m                         Traceback (most recent call last)",
      "    \u001b[1;31m[... skipping hidden 1 frame]\u001b[0m\n",
      "\u001b[1;32m<ipython-input-1-7dadc1502374>\u001b[0m in \u001b[0;36m<module>\u001b[1;34m\u001b[0m\n\u001b[0;32m      8\u001b[0m \u001b[1;32mfrom\u001b[0m \u001b[0mos\u001b[0m\u001b[1;33m.\u001b[0m\u001b[0mpath\u001b[0m \u001b[1;32mimport\u001b[0m \u001b[0mexists\u001b[0m\u001b[1;33m\u001b[0m\u001b[1;33m\u001b[0m\u001b[0m\n\u001b[1;32m----> 9\u001b[1;33m \u001b[1;32mimport\u001b[0m \u001b[0mutils\u001b[0m\u001b[1;33m\u001b[0m\u001b[1;33m\u001b[0m\u001b[0m\n\u001b[0m\u001b[0;32m     10\u001b[0m \u001b[0mDEVICE\u001b[0m \u001b[1;33m=\u001b[0m \u001b[1;34m\"cuda\"\u001b[0m\u001b[1;33m\u001b[0m\u001b[1;33m\u001b[0m\u001b[0m\n",
      "\u001b[1;32m~\\Desktop\\moa\\script\\utils.py\u001b[0m in \u001b[0;36m<module>\u001b[1;34m\u001b[0m\n\u001b[0;32m      4\u001b[0m \u001b[1;32mimport\u001b[0m \u001b[0mpandas\u001b[0m \u001b[1;32mas\u001b[0m \u001b[0mpd\u001b[0m\u001b[1;33m\u001b[0m\u001b[1;33m\u001b[0m\u001b[0m\n\u001b[1;32m----> 5\u001b[1;33m \u001b[1;32mfrom\u001b[0m \u001b[0msklearn\u001b[0m\u001b[1;33m.\u001b[0m\u001b[0mmodel_selection\u001b[0m \u001b[1;32mimport\u001b[0m \u001b[0mtrain_test_split\u001b[0m\u001b[1;33m\u001b[0m\u001b[1;33m\u001b[0m\u001b[0m\n\u001b[0m\u001b[0;32m      6\u001b[0m \u001b[1;33m\u001b[0m\u001b[0m\n",
      "\u001b[1;32m~\\anaconda3\\envs\\moa\\lib\\site-packages\\sklearn\\__init__.py\u001b[0m in \u001b[0;36m<module>\u001b[1;34m\u001b[0m\n\u001b[0;32m     79\u001b[0m     \u001b[1;32mfrom\u001b[0m \u001b[1;33m.\u001b[0m \u001b[1;32mimport\u001b[0m \u001b[0m__check_build\u001b[0m  \u001b[1;31m# noqa: F401\u001b[0m\u001b[1;33m\u001b[0m\u001b[1;33m\u001b[0m\u001b[0m\n\u001b[1;32m---> 80\u001b[1;33m     \u001b[1;32mfrom\u001b[0m \u001b[1;33m.\u001b[0m\u001b[0mbase\u001b[0m \u001b[1;32mimport\u001b[0m \u001b[0mclone\u001b[0m\u001b[1;33m\u001b[0m\u001b[1;33m\u001b[0m\u001b[0m\n\u001b[0m\u001b[0;32m     81\u001b[0m     \u001b[1;32mfrom\u001b[0m \u001b[1;33m.\u001b[0m\u001b[0mutils\u001b[0m\u001b[1;33m.\u001b[0m\u001b[0m_show_versions\u001b[0m \u001b[1;32mimport\u001b[0m \u001b[0mshow_versions\u001b[0m\u001b[1;33m\u001b[0m\u001b[1;33m\u001b[0m\u001b[0m\n",
      "\u001b[1;32m~\\anaconda3\\envs\\moa\\lib\\site-packages\\sklearn\\base.py\u001b[0m in \u001b[0;36m<module>\u001b[1;34m\u001b[0m\n\u001b[0;32m     20\u001b[0m \u001b[1;32mfrom\u001b[0m \u001b[1;33m.\u001b[0m\u001b[0m_config\u001b[0m \u001b[1;32mimport\u001b[0m \u001b[0mget_config\u001b[0m\u001b[1;33m\u001b[0m\u001b[1;33m\u001b[0m\u001b[0m\n\u001b[1;32m---> 21\u001b[1;33m \u001b[1;32mfrom\u001b[0m \u001b[1;33m.\u001b[0m\u001b[0mutils\u001b[0m \u001b[1;32mimport\u001b[0m \u001b[0m_IS_32BIT\u001b[0m\u001b[1;33m\u001b[0m\u001b[1;33m\u001b[0m\u001b[0m\n\u001b[0m\u001b[0;32m     22\u001b[0m \u001b[1;32mfrom\u001b[0m \u001b[1;33m.\u001b[0m\u001b[0mutils\u001b[0m\u001b[1;33m.\u001b[0m\u001b[0mvalidation\u001b[0m \u001b[1;32mimport\u001b[0m \u001b[0mcheck_X_y\u001b[0m\u001b[1;33m\u001b[0m\u001b[1;33m\u001b[0m\u001b[0m\n",
      "\u001b[1;32m~\\anaconda3\\envs\\moa\\lib\\site-packages\\sklearn\\utils\\__init__.py\u001b[0m in \u001b[0;36m<module>\u001b[1;34m\u001b[0m\n\u001b[0;32m     22\u001b[0m \u001b[1;32mfrom\u001b[0m \u001b[1;33m.\u001b[0m\u001b[0mmurmurhash\u001b[0m \u001b[1;32mimport\u001b[0m \u001b[0mmurmurhash3_32\u001b[0m\u001b[1;33m\u001b[0m\u001b[1;33m\u001b[0m\u001b[0m\n\u001b[1;32m---> 23\u001b[1;33m \u001b[1;32mfrom\u001b[0m \u001b[1;33m.\u001b[0m\u001b[0mclass_weight\u001b[0m \u001b[1;32mimport\u001b[0m \u001b[0mcompute_class_weight\u001b[0m\u001b[1;33m,\u001b[0m \u001b[0mcompute_sample_weight\u001b[0m\u001b[1;33m\u001b[0m\u001b[1;33m\u001b[0m\u001b[0m\n\u001b[0m\u001b[0;32m     24\u001b[0m \u001b[1;32mfrom\u001b[0m \u001b[1;33m.\u001b[0m \u001b[1;32mimport\u001b[0m \u001b[0m_joblib\u001b[0m\u001b[1;33m\u001b[0m\u001b[1;33m\u001b[0m\u001b[0m\n",
      "\u001b[1;32m~\\anaconda3\\envs\\moa\\lib\\site-packages\\sklearn\\utils\\class_weight.py\u001b[0m in \u001b[0;36m<module>\u001b[1;34m\u001b[0m\n\u001b[0;32m      6\u001b[0m \u001b[1;33m\u001b[0m\u001b[0m\n\u001b[1;32m----> 7\u001b[1;33m \u001b[1;32mfrom\u001b[0m \u001b[1;33m.\u001b[0m\u001b[0mvalidation\u001b[0m \u001b[1;32mimport\u001b[0m \u001b[0m_deprecate_positional_args\u001b[0m\u001b[1;33m\u001b[0m\u001b[1;33m\u001b[0m\u001b[0m\n\u001b[0m\u001b[0;32m      8\u001b[0m \u001b[1;33m\u001b[0m\u001b[0m\n",
      "\u001b[1;32m~\\anaconda3\\envs\\moa\\lib\\site-packages\\sklearn\\utils\\validation.py\u001b[0m in \u001b[0;36m<module>\u001b[1;34m\u001b[0m\n\u001b[0;32m     24\u001b[0m \u001b[1;33m\u001b[0m\u001b[0m\n\u001b[1;32m---> 25\u001b[1;33m \u001b[1;32mfrom\u001b[0m \u001b[1;33m.\u001b[0m\u001b[0mfixes\u001b[0m \u001b[1;32mimport\u001b[0m \u001b[0m_object_dtype_isnan\u001b[0m\u001b[1;33m,\u001b[0m \u001b[0mparse_version\u001b[0m\u001b[1;33m\u001b[0m\u001b[1;33m\u001b[0m\u001b[0m\n\u001b[0m\u001b[0;32m     26\u001b[0m \u001b[1;32mfrom\u001b[0m \u001b[1;33m.\u001b[0m\u001b[1;33m.\u001b[0m \u001b[1;32mimport\u001b[0m \u001b[0mget_config\u001b[0m \u001b[1;32mas\u001b[0m \u001b[0m_get_config\u001b[0m\u001b[1;33m\u001b[0m\u001b[1;33m\u001b[0m\u001b[0m\n",
      "\u001b[1;32m~\\anaconda3\\envs\\moa\\lib\\site-packages\\sklearn\\utils\\fixes.py\u001b[0m in \u001b[0;36m<module>\u001b[1;34m\u001b[0m\n\u001b[0;32m     17\u001b[0m \u001b[1;32mimport\u001b[0m \u001b[0mscipy\u001b[0m\u001b[1;33m\u001b[0m\u001b[1;33m\u001b[0m\u001b[0m\n\u001b[1;32m---> 18\u001b[1;33m \u001b[1;32mimport\u001b[0m \u001b[0mscipy\u001b[0m\u001b[1;33m.\u001b[0m\u001b[0mstats\u001b[0m\u001b[1;33m\u001b[0m\u001b[1;33m\u001b[0m\u001b[0m\n\u001b[0m\u001b[0;32m     19\u001b[0m \u001b[1;32mfrom\u001b[0m \u001b[0mscipy\u001b[0m\u001b[1;33m.\u001b[0m\u001b[0msparse\u001b[0m\u001b[1;33m.\u001b[0m\u001b[0mlinalg\u001b[0m \u001b[1;32mimport\u001b[0m \u001b[0mlsqr\u001b[0m \u001b[1;32mas\u001b[0m \u001b[0msparse_lsqr\u001b[0m  \u001b[1;31m# noqa\u001b[0m\u001b[1;33m\u001b[0m\u001b[1;33m\u001b[0m\u001b[0m\n",
      "\u001b[1;32m~\\anaconda3\\envs\\moa\\lib\\site-packages\\scipy\\stats\\__init__.py\u001b[0m in \u001b[0;36m<module>\u001b[1;34m\u001b[0m\n\u001b[0;32m    387\u001b[0m \"\"\"\n\u001b[1;32m--> 388\u001b[1;33m \u001b[1;32mfrom\u001b[0m \u001b[1;33m.\u001b[0m\u001b[0mstats\u001b[0m \u001b[1;32mimport\u001b[0m \u001b[1;33m*\u001b[0m\u001b[1;33m\u001b[0m\u001b[1;33m\u001b[0m\u001b[0m\n\u001b[0m\u001b[0;32m    389\u001b[0m \u001b[1;32mfrom\u001b[0m \u001b[1;33m.\u001b[0m\u001b[0mdistributions\u001b[0m \u001b[1;32mimport\u001b[0m \u001b[1;33m*\u001b[0m\u001b[1;33m\u001b[0m\u001b[1;33m\u001b[0m\u001b[0m\n",
      "\u001b[1;32m~\\anaconda3\\envs\\moa\\lib\\site-packages\\scipy\\stats\\stats.py\u001b[0m in \u001b[0;36m<module>\u001b[1;34m\u001b[0m\n\u001b[0;32m    179\u001b[0m \u001b[1;32mfrom\u001b[0m \u001b[0mscipy\u001b[0m \u001b[1;32mimport\u001b[0m \u001b[0mlinalg\u001b[0m\u001b[1;33m\u001b[0m\u001b[1;33m\u001b[0m\u001b[0m\n\u001b[1;32m--> 180\u001b[1;33m \u001b[1;32mfrom\u001b[0m \u001b[1;33m.\u001b[0m \u001b[1;32mimport\u001b[0m \u001b[0mdistributions\u001b[0m\u001b[1;33m\u001b[0m\u001b[1;33m\u001b[0m\u001b[0m\n\u001b[0m\u001b[0;32m    181\u001b[0m \u001b[1;32mfrom\u001b[0m \u001b[1;33m.\u001b[0m \u001b[1;32mimport\u001b[0m \u001b[0mmstats_basic\u001b[0m\u001b[1;33m\u001b[0m\u001b[1;33m\u001b[0m\u001b[0m\n",
      "\u001b[1;32m~\\anaconda3\\envs\\moa\\lib\\site-packages\\scipy\\stats\\distributions.py\u001b[0m in \u001b[0;36m<module>\u001b[1;34m\u001b[0m\n\u001b[0;32m      7\u001b[0m \u001b[1;31m#\u001b[0m\u001b[1;33m\u001b[0m\u001b[1;33m\u001b[0m\u001b[1;33m\u001b[0m\u001b[0m\n\u001b[1;32m----> 8\u001b[1;33m from ._distn_infrastructure import (entropy, rv_discrete, rv_continuous,\n\u001b[0m\u001b[0;32m      9\u001b[0m                                     rv_frozen)\n",
      "\u001b[1;32m~\\anaconda3\\envs\\moa\\lib\\site-packages\\scipy\\stats\\_distn_infrastructure.py\u001b[0m in \u001b[0;36m<module>\u001b[1;34m\u001b[0m\n\u001b[0;32m     22\u001b[0m \u001b[1;31m# for root finding for continuous distribution ppf, and max likelihood estimation\u001b[0m\u001b[1;33m\u001b[0m\u001b[1;33m\u001b[0m\u001b[1;33m\u001b[0m\u001b[0m\n\u001b[1;32m---> 23\u001b[1;33m \u001b[1;32mfrom\u001b[0m \u001b[0mscipy\u001b[0m \u001b[1;32mimport\u001b[0m \u001b[0moptimize\u001b[0m\u001b[1;33m\u001b[0m\u001b[1;33m\u001b[0m\u001b[0m\n\u001b[0m\u001b[0;32m     24\u001b[0m \u001b[1;33m\u001b[0m\u001b[0m\n",
      "\u001b[1;32m~\\anaconda3\\envs\\moa\\lib\\site-packages\\scipy\\optimize\\__init__.py\u001b[0m in \u001b[0;36m<module>\u001b[1;34m\u001b[0m\n\u001b[0;32m    387\u001b[0m \u001b[1;32mfrom\u001b[0m \u001b[1;33m.\u001b[0m\u001b[0moptimize\u001b[0m \u001b[1;32mimport\u001b[0m \u001b[1;33m*\u001b[0m\u001b[1;33m\u001b[0m\u001b[1;33m\u001b[0m\u001b[0m\n\u001b[1;32m--> 388\u001b[1;33m \u001b[1;32mfrom\u001b[0m \u001b[1;33m.\u001b[0m\u001b[0m_minimize\u001b[0m \u001b[1;32mimport\u001b[0m \u001b[1;33m*\u001b[0m\u001b[1;33m\u001b[0m\u001b[1;33m\u001b[0m\u001b[0m\n\u001b[0m\u001b[0;32m    389\u001b[0m \u001b[1;32mfrom\u001b[0m \u001b[1;33m.\u001b[0m\u001b[0m_root\u001b[0m \u001b[1;32mimport\u001b[0m \u001b[1;33m*\u001b[0m\u001b[1;33m\u001b[0m\u001b[1;33m\u001b[0m\u001b[0m\n",
      "\u001b[1;32m~\\anaconda3\\envs\\moa\\lib\\site-packages\\scipy\\optimize\\_minimize.py\u001b[0m in \u001b[0;36m<module>\u001b[1;34m\u001b[0m\n\u001b[0;32m     31\u001b[0m \u001b[1;32mfrom\u001b[0m \u001b[1;33m.\u001b[0m\u001b[0mtnc\u001b[0m \u001b[1;32mimport\u001b[0m \u001b[0m_minimize_tnc\u001b[0m\u001b[1;33m\u001b[0m\u001b[1;33m\u001b[0m\u001b[0m\n\u001b[1;32m---> 32\u001b[1;33m \u001b[1;32mfrom\u001b[0m \u001b[1;33m.\u001b[0m\u001b[0mcobyla\u001b[0m \u001b[1;32mimport\u001b[0m \u001b[0m_minimize_cobyla\u001b[0m\u001b[1;33m\u001b[0m\u001b[1;33m\u001b[0m\u001b[0m\n\u001b[0m\u001b[0;32m     33\u001b[0m \u001b[1;32mfrom\u001b[0m \u001b[1;33m.\u001b[0m\u001b[0mslsqp\u001b[0m \u001b[1;32mimport\u001b[0m \u001b[0m_minimize_slsqp\u001b[0m\u001b[1;33m\u001b[0m\u001b[1;33m\u001b[0m\u001b[0m\n",
      "\u001b[1;32m~\\anaconda3\\envs\\moa\\lib\\site-packages\\scipy\\optimize\\cobyla.py\u001b[0m in \u001b[0;36m<module>\u001b[1;34m\u001b[0m\n\u001b[0;32m     16\u001b[0m \u001b[1;32mimport\u001b[0m \u001b[0mnumpy\u001b[0m \u001b[1;32mas\u001b[0m \u001b[0mnp\u001b[0m\u001b[1;33m\u001b[0m\u001b[1;33m\u001b[0m\u001b[0m\n\u001b[1;32m---> 17\u001b[1;33m \u001b[1;32mfrom\u001b[0m \u001b[0mscipy\u001b[0m\u001b[1;33m.\u001b[0m\u001b[0moptimize\u001b[0m \u001b[1;32mimport\u001b[0m \u001b[0m_cobyla\u001b[0m\u001b[1;33m\u001b[0m\u001b[1;33m\u001b[0m\u001b[0m\n\u001b[0m\u001b[0;32m     18\u001b[0m \u001b[1;32mfrom\u001b[0m \u001b[1;33m.\u001b[0m\u001b[0moptimize\u001b[0m \u001b[1;32mimport\u001b[0m \u001b[0mOptimizeResult\u001b[0m\u001b[1;33m,\u001b[0m \u001b[0m_check_unknown_options\u001b[0m\u001b[1;33m\u001b[0m\u001b[1;33m\u001b[0m\u001b[0m\n",
      "\u001b[1;32m~\\anaconda3\\envs\\moa\\lib\\importlib\\_bootstrap.py\u001b[0m in \u001b[0;36m_find_and_load\u001b[1;34m(name, import_)\u001b[0m\n",
      "\u001b[1;32m~\\anaconda3\\envs\\moa\\lib\\importlib\\_bootstrap.py\u001b[0m in \u001b[0;36m_find_and_load_unlocked\u001b[1;34m(name, import_)\u001b[0m\n",
      "\u001b[1;32m~\\anaconda3\\envs\\moa\\lib\\importlib\\_bootstrap.py\u001b[0m in \u001b[0;36m_load_unlocked\u001b[1;34m(spec)\u001b[0m\n",
      "\u001b[1;32m~\\anaconda3\\envs\\moa\\lib\\importlib\\_bootstrap.py\u001b[0m in \u001b[0;36mmodule_from_spec\u001b[1;34m(spec)\u001b[0m\n",
      "\u001b[1;32m~\\anaconda3\\envs\\moa\\lib\\importlib\\_bootstrap_external.py\u001b[0m in \u001b[0;36mcreate_module\u001b[1;34m(self, spec)\u001b[0m\n",
      "\u001b[1;31mKeyboardInterrupt\u001b[0m: ",
      "\nDuring handling of the above exception, another exception occurred:\n",
      "\u001b[1;31mAttributeError\u001b[0m                            Traceback (most recent call last)",
      "\u001b[1;32m~\\anaconda3\\envs\\moa\\lib\\site-packages\\IPython\\core\\interactiveshell.py\u001b[0m in \u001b[0;36mshowtraceback\u001b[1;34m(self, exc_tuple, filename, tb_offset, exception_only, running_compiled_code)\u001b[0m\n\u001b[0;32m   2043\u001b[0m                         \u001b[1;31m# in the engines. This should return a list of strings.\u001b[0m\u001b[1;33m\u001b[0m\u001b[1;33m\u001b[0m\u001b[1;33m\u001b[0m\u001b[0m\n\u001b[1;32m-> 2044\u001b[1;33m                         \u001b[0mstb\u001b[0m \u001b[1;33m=\u001b[0m \u001b[0mvalue\u001b[0m\u001b[1;33m.\u001b[0m\u001b[0m_render_traceback_\u001b[0m\u001b[1;33m(\u001b[0m\u001b[1;33m)\u001b[0m\u001b[1;33m\u001b[0m\u001b[1;33m\u001b[0m\u001b[0m\n\u001b[0m\u001b[0;32m   2045\u001b[0m                     \u001b[1;32mexcept\u001b[0m \u001b[0mException\u001b[0m\u001b[1;33m:\u001b[0m\u001b[1;33m\u001b[0m\u001b[1;33m\u001b[0m\u001b[0m\n",
      "\u001b[1;31mAttributeError\u001b[0m: 'KeyboardInterrupt' object has no attribute '_render_traceback_'",
      "\nDuring handling of the above exception, another exception occurred:\n",
      "\u001b[1;31mTypeError\u001b[0m                                 Traceback (most recent call last)",
      "    \u001b[1;31m[... skipping hidden 1 frame]\u001b[0m\n",
      "\u001b[1;32m~\\anaconda3\\envs\\moa\\lib\\site-packages\\IPython\\core\\interactiveshell.py\u001b[0m in \u001b[0;36mshowtraceback\u001b[1;34m(self, exc_tuple, filename, tb_offset, exception_only, running_compiled_code)\u001b[0m\n\u001b[0;32m   2045\u001b[0m                     \u001b[1;32mexcept\u001b[0m \u001b[0mException\u001b[0m\u001b[1;33m:\u001b[0m\u001b[1;33m\u001b[0m\u001b[1;33m\u001b[0m\u001b[0m\n\u001b[0;32m   2046\u001b[0m                         stb = self.InteractiveTB.structured_traceback(etype,\n\u001b[1;32m-> 2047\u001b[1;33m                                             value, tb, tb_offset=tb_offset)\n\u001b[0m\u001b[0;32m   2048\u001b[0m \u001b[1;33m\u001b[0m\u001b[0m\n\u001b[0;32m   2049\u001b[0m                     \u001b[0mself\u001b[0m\u001b[1;33m.\u001b[0m\u001b[0m_showtraceback\u001b[0m\u001b[1;33m(\u001b[0m\u001b[0metype\u001b[0m\u001b[1;33m,\u001b[0m \u001b[0mvalue\u001b[0m\u001b[1;33m,\u001b[0m \u001b[0mstb\u001b[0m\u001b[1;33m)\u001b[0m\u001b[1;33m\u001b[0m\u001b[1;33m\u001b[0m\u001b[0m\n",
      "\u001b[1;32m~\\anaconda3\\envs\\moa\\lib\\site-packages\\IPython\\core\\ultratb.py\u001b[0m in \u001b[0;36mstructured_traceback\u001b[1;34m(self, etype, value, tb, tb_offset, number_of_lines_of_context)\u001b[0m\n\u001b[0;32m   1434\u001b[0m             \u001b[0mself\u001b[0m\u001b[1;33m.\u001b[0m\u001b[0mtb\u001b[0m \u001b[1;33m=\u001b[0m \u001b[0mtb\u001b[0m\u001b[1;33m\u001b[0m\u001b[1;33m\u001b[0m\u001b[0m\n\u001b[0;32m   1435\u001b[0m         return FormattedTB.structured_traceback(\n\u001b[1;32m-> 1436\u001b[1;33m             self, etype, value, tb, tb_offset, number_of_lines_of_context)\n\u001b[0m\u001b[0;32m   1437\u001b[0m \u001b[1;33m\u001b[0m\u001b[0m\n\u001b[0;32m   1438\u001b[0m \u001b[1;33m\u001b[0m\u001b[0m\n",
      "\u001b[1;32m~\\anaconda3\\envs\\moa\\lib\\site-packages\\IPython\\core\\ultratb.py\u001b[0m in \u001b[0;36mstructured_traceback\u001b[1;34m(self, etype, value, tb, tb_offset, number_of_lines_of_context)\u001b[0m\n\u001b[0;32m   1334\u001b[0m             \u001b[1;31m# Verbose modes need a full traceback\u001b[0m\u001b[1;33m\u001b[0m\u001b[1;33m\u001b[0m\u001b[1;33m\u001b[0m\u001b[0m\n\u001b[0;32m   1335\u001b[0m             return VerboseTB.structured_traceback(\n\u001b[1;32m-> 1336\u001b[1;33m                 \u001b[0mself\u001b[0m\u001b[1;33m,\u001b[0m \u001b[0metype\u001b[0m\u001b[1;33m,\u001b[0m \u001b[0mvalue\u001b[0m\u001b[1;33m,\u001b[0m \u001b[0mtb\u001b[0m\u001b[1;33m,\u001b[0m \u001b[0mtb_offset\u001b[0m\u001b[1;33m,\u001b[0m \u001b[0mnumber_of_lines_of_context\u001b[0m\u001b[1;33m\u001b[0m\u001b[1;33m\u001b[0m\u001b[0m\n\u001b[0m\u001b[0;32m   1337\u001b[0m             )\n\u001b[0;32m   1338\u001b[0m         \u001b[1;32melif\u001b[0m \u001b[0mmode\u001b[0m \u001b[1;33m==\u001b[0m \u001b[1;34m'Minimal'\u001b[0m\u001b[1;33m:\u001b[0m\u001b[1;33m\u001b[0m\u001b[1;33m\u001b[0m\u001b[0m\n",
      "\u001b[1;32m~\\anaconda3\\envs\\moa\\lib\\site-packages\\IPython\\core\\ultratb.py\u001b[0m in \u001b[0;36mstructured_traceback\u001b[1;34m(self, etype, evalue, etb, tb_offset, number_of_lines_of_context)\u001b[0m\n\u001b[0;32m   1191\u001b[0m \u001b[1;33m\u001b[0m\u001b[0m\n\u001b[0;32m   1192\u001b[0m         formatted_exception = self.format_exception_as_a_whole(etype, evalue, etb, number_of_lines_of_context,\n\u001b[1;32m-> 1193\u001b[1;33m                                                                tb_offset)\n\u001b[0m\u001b[0;32m   1194\u001b[0m \u001b[1;33m\u001b[0m\u001b[0m\n\u001b[0;32m   1195\u001b[0m         \u001b[0mcolors\u001b[0m \u001b[1;33m=\u001b[0m \u001b[0mself\u001b[0m\u001b[1;33m.\u001b[0m\u001b[0mColors\u001b[0m  \u001b[1;31m# just a shorthand + quicker name lookup\u001b[0m\u001b[1;33m\u001b[0m\u001b[1;33m\u001b[0m\u001b[0m\n",
      "\u001b[1;32m~\\anaconda3\\envs\\moa\\lib\\site-packages\\IPython\\core\\ultratb.py\u001b[0m in \u001b[0;36mformat_exception_as_a_whole\u001b[1;34m(self, etype, evalue, etb, number_of_lines_of_context, tb_offset)\u001b[0m\n\u001b[0;32m   1148\u001b[0m \u001b[1;33m\u001b[0m\u001b[0m\n\u001b[0;32m   1149\u001b[0m \u001b[1;33m\u001b[0m\u001b[0m\n\u001b[1;32m-> 1150\u001b[1;33m         \u001b[0mlast_unique\u001b[0m\u001b[1;33m,\u001b[0m \u001b[0mrecursion_repeat\u001b[0m \u001b[1;33m=\u001b[0m \u001b[0mfind_recursion\u001b[0m\u001b[1;33m(\u001b[0m\u001b[0morig_etype\u001b[0m\u001b[1;33m,\u001b[0m \u001b[0mevalue\u001b[0m\u001b[1;33m,\u001b[0m \u001b[0mrecords\u001b[0m\u001b[1;33m)\u001b[0m\u001b[1;33m\u001b[0m\u001b[1;33m\u001b[0m\u001b[0m\n\u001b[0m\u001b[0;32m   1151\u001b[0m \u001b[1;33m\u001b[0m\u001b[0m\n\u001b[0;32m   1152\u001b[0m         \u001b[0mframes\u001b[0m \u001b[1;33m=\u001b[0m \u001b[0mself\u001b[0m\u001b[1;33m.\u001b[0m\u001b[0mformat_records\u001b[0m\u001b[1;33m(\u001b[0m\u001b[0mrecords\u001b[0m\u001b[1;33m,\u001b[0m \u001b[0mlast_unique\u001b[0m\u001b[1;33m,\u001b[0m \u001b[0mrecursion_repeat\u001b[0m\u001b[1;33m)\u001b[0m\u001b[1;33m\u001b[0m\u001b[1;33m\u001b[0m\u001b[0m\n",
      "\u001b[1;32m~\\anaconda3\\envs\\moa\\lib\\site-packages\\IPython\\core\\ultratb.py\u001b[0m in \u001b[0;36mfind_recursion\u001b[1;34m(etype, value, records)\u001b[0m\n\u001b[0;32m    449\u001b[0m     \u001b[1;31m# first frame (from in to out) that looks different.\u001b[0m\u001b[1;33m\u001b[0m\u001b[1;33m\u001b[0m\u001b[1;33m\u001b[0m\u001b[0m\n\u001b[0;32m    450\u001b[0m     \u001b[1;32mif\u001b[0m \u001b[1;32mnot\u001b[0m \u001b[0mis_recursion_error\u001b[0m\u001b[1;33m(\u001b[0m\u001b[0metype\u001b[0m\u001b[1;33m,\u001b[0m \u001b[0mvalue\u001b[0m\u001b[1;33m,\u001b[0m \u001b[0mrecords\u001b[0m\u001b[1;33m)\u001b[0m\u001b[1;33m:\u001b[0m\u001b[1;33m\u001b[0m\u001b[1;33m\u001b[0m\u001b[0m\n\u001b[1;32m--> 451\u001b[1;33m         \u001b[1;32mreturn\u001b[0m \u001b[0mlen\u001b[0m\u001b[1;33m(\u001b[0m\u001b[0mrecords\u001b[0m\u001b[1;33m)\u001b[0m\u001b[1;33m,\u001b[0m \u001b[1;36m0\u001b[0m\u001b[1;33m\u001b[0m\u001b[1;33m\u001b[0m\u001b[0m\n\u001b[0m\u001b[0;32m    452\u001b[0m \u001b[1;33m\u001b[0m\u001b[0m\n\u001b[0;32m    453\u001b[0m     \u001b[1;31m# Select filename, lineno, func_name to track frames with\u001b[0m\u001b[1;33m\u001b[0m\u001b[1;33m\u001b[0m\u001b[1;33m\u001b[0m\u001b[0m\n",
      "\u001b[1;31mTypeError\u001b[0m: object of type 'NoneType' has no len()"
     ]
    }
   ],
   "source": [
    "import torch\n",
    "import torch.nn as nn\n",
    "import numpy as np\n",
    "import pandas as pd\n",
    "\n",
    "import sys\n",
    "sys.path.append('../script/')\n",
    "from os.path import exists\n",
    "import utils\n",
    "DEVICE = \"cuda\"\n",
    "EPOCHS = 100"
   ]
  },
  {
   "cell_type": "markdown",
   "metadata": {},
   "source": [
    "## Add folds No. for CV"
   ]
  },
  {
   "cell_type": "code",
   "execution_count": null,
   "metadata": {},
   "outputs": [],
   "source": [
    "path_fold = \"../input/folds/train_folds.csv\"\n",
    "if not exists(path_fold):\n",
    "    from iterstrat.ml_stratifiers import MultilabelStratifiedKFold\n",
    "    df = pd.read_csv(\"../input/lish-moa/train_targets_scored.csv\")\n",
    "    df.loc[:, \"kfold\"] = -1\n",
    "    df = df.sample(frac=1).reset_index(drop=True)\n",
    "    targets = df.drop(\"sig_id\", axis=1).values\n",
    "\n",
    "    mskf = MultilabelStratifiedKFold(n_splits=5)\n",
    "    for fold_, (tr_, va_) in enumerate(mskf.split(X=df, y=targets)):\n",
    "        df.loc[va_, \"kfold\"] = fold_\n",
    "    df.to_csv(path_fold, index=False)"
   ]
  },
  {
   "cell_type": "markdown",
   "metadata": {},
   "source": [
    "## Params for training function `run_training`"
   ]
  },
  {
   "cell_type": "code",
   "execution_count": null,
   "metadata": {},
   "outputs": [],
   "source": [
    "fold = 0\n",
    "# optuna 使わないので適当\n",
    "params = {\n",
    "    \"num_layers\": 3,\n",
    "    \"hidden_size\": 16,\n",
    "    \"dropout\": 0.3,\n",
    "    \"learning_rate\": 1e-3,\n",
    "}\n",
    "save_model=True"
   ]
  },
  {
   "cell_type": "markdown",
   "metadata": {},
   "source": [
    "---\n",
    "## Prototyping training process from HERE\n",
    "`run_training` function contains the following code blocks:\n",
    "```python\n",
    "def run_training(fold, params, save_model=False):\n",
    "```"
   ]
  },
  {
   "cell_type": "code",
   "execution_count": null,
   "metadata": {},
   "outputs": [],
   "source": [
    "df = pd.read_csv(\"../input/lish-moa/train_features.csv\")\n",
    "df = utils.process_data(df)\n",
    "folds = pd.read_csv(\"../input/folds/train_folds.csv\")"
   ]
  },
  {
   "cell_type": "markdown",
   "metadata": {},
   "source": [
    "## Create aux target \n",
    "`nsc_labels` means # of labels found in non-scored train set Which is not available in test set."
   ]
  },
  {
   "cell_type": "code",
   "execution_count": null,
   "metadata": {},
   "outputs": [],
   "source": [
    "non_scored_df = pd.read_csv(\"../input/lish-moa/train_targets_nonscored.csv\")\n",
    "targets_non_scored = non_scored_df.drop(\"sig_id\", axis=1).to_numpy().sum(axis=1)\n",
    "non_scored_df.loc[:, \"nsc_labels\"] = targets_non_scored\n",
    "drop_cols = [c for c in non_scored_df.columns if c not in (\"nsc_labels\", \"sig_id\")]\n",
    "non_scored_df = non_scored_df.drop(drop_cols, axis=1)\n",
    "folds = folds.merge(non_scored_df, on=\"sig_id\", how=\"left\")\n",
    "folds.head()"
   ]
  },
  {
   "cell_type": "code",
   "execution_count": 6,
   "metadata": {},
   "outputs": [],
   "source": [
    "targets = folds.drop([\"sig_id\", \"kfold\"], axis=1).columns\n",
    "features = df.drop(\"sig_id\", axis=1).columns"
   ]
  },
  {
   "cell_type": "code",
   "execution_count": 7,
   "metadata": {},
   "outputs": [],
   "source": [
    "df = df.merge(folds, on=\"sig_id\", how=\"left\")"
   ]
  },
  {
   "cell_type": "code",
   "execution_count": 8,
   "metadata": {},
   "outputs": [
    {
     "name": "stdout",
     "output_type": "stream",
     "text": [
      "[Fold No.  0]\n",
      "\n"
     ]
    }
   ],
   "source": [
    "print(f'[Fold No.{fold:>3}]\\n')\n",
    "train_df = df[df.kfold != fold].reset_index(drop=True)\n",
    "valid_df = df[df.kfold == fold].reset_index(drop=True)"
   ]
  },
  {
   "cell_type": "code",
   "execution_count": 9,
   "metadata": {},
   "outputs": [],
   "source": [
    "x_tr = train_df[features].to_numpy()\n",
    "x_va = valid_df[features].to_numpy()"
   ]
  },
  {
   "cell_type": "code",
   "execution_count": 10,
   "metadata": {},
   "outputs": [],
   "source": [
    "y_tr = train_df[targets].to_numpy()\n",
    "y_va = valid_df[targets].to_numpy()"
   ]
  },
  {
   "cell_type": "code",
   "execution_count": 11,
   "metadata": {},
   "outputs": [],
   "source": [
    "dataset_tr = utils.MoaDataset(x_tr, y_tr)\n",
    "loader_tr = torch.utils.data.DataLoader(dataset_tr, batch_size=1024, num_workers=8)\n",
    "dataset_va = utils.MoaDataset(x_va, y_va)\n",
    "loader_va = torch.utils.data.DataLoader(dataset_va, batch_size=1024, num_workers=8)"
   ]
  },
  {
   "cell_type": "code",
   "execution_count": 12,
   "metadata": {},
   "outputs": [],
   "source": [
    "#     dataset_te = utils.TestMoADataset(dataset=x_te.iloc[:, 1:].values)\n",
    "#     loader_te = torch.utils.data.DataLoader(\n",
    "#         dataset_te, batch_size=1024, num_workers=0, shuffle=False\n",
    "#     )"
   ]
  },
  {
   "cell_type": "code",
   "execution_count": 13,
   "metadata": {},
   "outputs": [
    {
     "data": {
      "text/plain": [
       "BaseLine2(\n",
       "  (model): Sequential(\n",
       "    (0): Linear(in_features=879, out_features=16, bias=True)\n",
       "    (1): BatchNorm1d(16, eps=1e-05, momentum=0.1, affine=True, track_running_stats=True)\n",
       "    (2): Dropout(p=0.3, inplace=False)\n",
       "    (3): Linear(in_features=16, out_features=16, bias=True)\n",
       "    (4): BatchNorm1d(16, eps=1e-05, momentum=0.1, affine=True, track_running_stats=True)\n",
       "    (5): Dropout(p=0.3, inplace=False)\n",
       "    (6): Linear(in_features=16, out_features=16, bias=True)\n",
       "    (7): BatchNorm1d(16, eps=1e-05, momentum=0.1, affine=True, track_running_stats=True)\n",
       "    (8): Dropout(p=0.3, inplace=False)\n",
       "    (9): Linear(in_features=16, out_features=207, bias=True)\n",
       "  )\n",
       ")"
      ]
     },
     "execution_count": 13,
     "metadata": {},
     "output_type": "execute_result"
    }
   ],
   "source": [
    "model = utils.BaseLine2(\n",
    "    num_features=x_tr.shape[1],\n",
    "    num_targets=y_tr.shape[1],\n",
    "    num_layers=params[\"num_layers\"],\n",
    "    hidden_size=params[\"hidden_size\"],\n",
    "    dropout=params[\"dropout\"],\n",
    ")\n",
    "model.to(DEVICE)"
   ]
  },
  {
   "cell_type": "code",
   "execution_count": 14,
   "metadata": {},
   "outputs": [],
   "source": [
    "optimizer = torch.optim.Adam(model.parameters(), lr=params[\"learning_rate\"])\n",
    "scheduler = torch.optim.lr_scheduler.ReduceLROnPlateau(\n",
    "    optimizer, patience=3, threshold=0.00001, mode=\"min\", verbose=True\n",
    ")\n",
    "eng = utils.Engine(model, optimizer, device=DEVICE)"
   ]
  },
  {
   "cell_type": "code",
   "execution_count": 15,
   "metadata": {},
   "outputs": [
    {
     "name": "stdout",
     "output_type": "stream",
     "text": [
      "fold=0, epoch=0, train_loss=0.7323568682921561, valid_loss=0.6994419813156127\n",
      "fold=0, epoch=1, train_loss=0.7083098637430292, valid_loss=0.6844298362731933\n",
      "fold=0, epoch=2, train_loss=0.6890535542839452, valid_loss=0.6666178822517395\n",
      "fold=0, epoch=3, train_loss=0.6663718098088315, valid_loss=0.6415032505989074\n",
      "fold=0, epoch=4, train_loss=0.6368942699934307, valid_loss=0.6072230458259582\n",
      "fold=0, epoch=5, train_loss=0.5969087763836509, valid_loss=0.560306453704834\n",
      "fold=0, epoch=6, train_loss=0.5456650884527909, valid_loss=0.5043397307395935\n",
      "fold=0, epoch=7, train_loss=0.48882698228484706, valid_loss=0.442163360118866\n",
      "fold=0, epoch=8, train_loss=0.42705497616215754, valid_loss=0.38112486600875856\n",
      "fold=0, epoch=9, train_loss=0.36792014774523285, valid_loss=0.32280845642089845\n",
      "fold=0, epoch=10, train_loss=0.3124161205793682, valid_loss=0.2702167332172394\n",
      "fold=0, epoch=11, train_loss=0.26626651930181605, valid_loss=0.225433149933815\n",
      "fold=0, epoch=12, train_loss=0.22336767849169278, valid_loss=0.18919553756713867\n",
      "fold=0, epoch=13, train_loss=0.19121917297965602, valid_loss=0.15972644984722137\n",
      "fold=0, epoch=14, train_loss=0.16531755422291003, valid_loss=0.1354261517524719\n",
      "fold=0, epoch=15, train_loss=0.1397603114968852, valid_loss=0.11654746383428574\n",
      "fold=0, epoch=16, train_loss=0.12472447086321681, valid_loss=0.1012107789516449\n",
      "fold=0, epoch=17, train_loss=0.1084103905840924, valid_loss=0.0889128103852272\n",
      "fold=0, epoch=18, train_loss=0.09529663896874378, valid_loss=0.0787686750292778\n",
      "fold=0, epoch=19, train_loss=0.08685867566811412, valid_loss=0.07031622231006622\n",
      "fold=0, epoch=20, train_loss=0.0798228026220673, valid_loss=0.06378794461488724\n",
      "fold=0, epoch=21, train_loss=0.07067106899462249, valid_loss=0.0581821471452713\n",
      "fold=0, epoch=22, train_loss=0.06599456797304906, valid_loss=0.05346055179834366\n",
      "fold=0, epoch=23, train_loss=0.06078231256259115, valid_loss=0.049738481640815735\n",
      "fold=0, epoch=24, train_loss=0.056214271603446254, valid_loss=0.04624875783920288\n",
      "fold=0, epoch=25, train_loss=0.052941602899840005, valid_loss=0.04330424666404724\n",
      "fold=0, epoch=26, train_loss=0.05011136986707386, valid_loss=0.04103482589125633\n",
      "fold=0, epoch=27, train_loss=0.04682450780743047, valid_loss=0.038775435835123065\n",
      "fold=0, epoch=28, train_loss=0.04573177546262741, valid_loss=0.03699859082698822\n",
      "fold=0, epoch=29, train_loss=0.04288449138402939, valid_loss=0.03548937663435936\n",
      "fold=0, epoch=30, train_loss=0.04201085414541395, valid_loss=0.03419022485613823\n",
      "fold=0, epoch=31, train_loss=0.03939542546868324, valid_loss=0.03305444940924644\n",
      "fold=0, epoch=32, train_loss=0.0387078217769924, valid_loss=0.031976135820150374\n",
      "fold=0, epoch=33, train_loss=0.03798808059410045, valid_loss=0.03106824345886707\n",
      "fold=0, epoch=34, train_loss=0.03611173088613309, valid_loss=0.030224964022636414\n",
      "fold=0, epoch=35, train_loss=0.03564421989415821, valid_loss=0.02946418896317482\n",
      "fold=0, epoch=36, train_loss=0.03408782948788844, valid_loss=0.02889371067285538\n",
      "fold=0, epoch=37, train_loss=0.034206275877199675, valid_loss=0.028210461512207984\n",
      "fold=0, epoch=38, train_loss=0.03272940394909758, valid_loss=0.027802373468875884\n",
      "fold=0, epoch=39, train_loss=0.032226072036122023, valid_loss=0.02725132443010807\n",
      "fold=0, epoch=40, train_loss=0.03171632919264467, valid_loss=0.026875605061650275\n",
      "fold=0, epoch=41, train_loss=0.030856012905898848, valid_loss=0.02643488794565201\n",
      "fold=0, epoch=42, train_loss=0.03062917301921468, valid_loss=0.026092682033777237\n",
      "fold=0, epoch=43, train_loss=0.030111347766298997, valid_loss=0.025783252716064454\n",
      "fold=0, epoch=44, train_loss=0.03040709993556926, valid_loss=0.025520165637135505\n",
      "fold=0, epoch=45, train_loss=0.02936867428453345, valid_loss=0.02519875280559063\n",
      "fold=0, epoch=46, train_loss=0.028479096332662983, valid_loss=0.024906988814473154\n",
      "fold=0, epoch=47, train_loss=0.028225829530703395, valid_loss=0.02469688467681408\n",
      "fold=0, epoch=48, train_loss=0.028261155968433933, valid_loss=0.024479826912283897\n",
      "fold=0, epoch=49, train_loss=0.028312689967845615, valid_loss=0.02433714084327221\n",
      "fold=0, epoch=50, train_loss=0.02785607966545381, valid_loss=0.02414659932255745\n",
      "fold=0, epoch=51, train_loss=0.02771650480204507, valid_loss=0.02396664656698704\n",
      "fold=0, epoch=52, train_loss=0.02727205100420274, valid_loss=0.023810556530952452\n",
      "fold=0, epoch=53, train_loss=0.026925456955244665, valid_loss=0.023649662733078003\n",
      "fold=0, epoch=54, train_loss=0.026624436833356555, valid_loss=0.023513520136475563\n",
      "fold=0, epoch=55, train_loss=0.026899184933618495, valid_loss=0.023411571979522705\n",
      "fold=0, epoch=56, train_loss=0.02652691559571969, valid_loss=0.023302014172077178\n",
      "fold=0, epoch=57, train_loss=0.026502072615058797, valid_loss=0.02321055196225643\n",
      "fold=0, epoch=58, train_loss=0.025882978482465995, valid_loss=0.023103730008006095\n",
      "fold=0, epoch=59, train_loss=0.02592888484267812, valid_loss=0.022998503968119623\n",
      "fold=0, epoch=60, train_loss=0.025673824803609597, valid_loss=0.022933203354477884\n",
      "fold=0, epoch=61, train_loss=0.02576693667000846, valid_loss=0.022868017107248305\n",
      "fold=0, epoch=62, train_loss=0.02540844247529381, valid_loss=0.02278081439435482\n",
      "fold=0, epoch=63, train_loss=0.025555136368462916, valid_loss=0.022719328477978706\n",
      "fold=0, epoch=64, train_loss=0.02551973924825066, valid_loss=0.02267781049013138\n",
      "fold=0, epoch=65, train_loss=0.025481952256277987, valid_loss=0.02261436842381954\n",
      "fold=0, epoch=66, train_loss=0.02513848764723853, valid_loss=0.022544599324464797\n",
      "fold=0, epoch=67, train_loss=0.02506019831880143, valid_loss=0.022494354844093324\n",
      "fold=0, epoch=68, train_loss=0.02479368860000058, valid_loss=0.022453511506319045\n",
      "fold=0, epoch=69, train_loss=0.024717244466668682, valid_loss=0.022402815893292426\n",
      "fold=0, epoch=70, train_loss=0.02489617829652209, valid_loss=0.022364233434200288\n",
      "fold=0, epoch=71, train_loss=0.024594705257760852, valid_loss=0.022341928258538247\n",
      "fold=0, epoch=72, train_loss=0.024838732849610478, valid_loss=0.02227540761232376\n",
      "fold=0, epoch=73, train_loss=0.024364200175592775, valid_loss=0.022254175692796706\n",
      "fold=0, epoch=74, train_loss=0.024469530307932905, valid_loss=0.022210635617375372\n",
      "fold=0, epoch=75, train_loss=0.024423959517949505, valid_loss=0.022181388363242148\n",
      "fold=0, epoch=76, train_loss=0.024406215666156066, valid_loss=0.02214968390762806\n",
      "fold=0, epoch=77, train_loss=0.024456337878578586, valid_loss=0.022128106281161308\n",
      "fold=0, epoch=78, train_loss=0.024264707573150333, valid_loss=0.02210371904075146\n",
      "fold=0, epoch=79, train_loss=0.02415050311308158, valid_loss=0.022065116465091704\n",
      "fold=0, epoch=80, train_loss=0.024491954300748676, valid_loss=0.02204923741519451\n",
      "fold=0, epoch=81, train_loss=0.02405461619951223, valid_loss=0.022025329992175102\n",
      "fold=0, epoch=82, train_loss=0.024387396283839877, valid_loss=0.022030625492334366\n",
      "fold=0, epoch=83, train_loss=0.023998982027957316, valid_loss=0.02200496681034565\n",
      "fold=0, epoch=84, train_loss=0.024081530637646977, valid_loss=0.021955347061157225\n",
      "fold=0, epoch=85, train_loss=0.024179881340578982, valid_loss=0.021938733756542206\n",
      "fold=0, epoch=86, train_loss=0.024018285207842525, valid_loss=0.021927592530846595\n",
      "fold=0, epoch=87, train_loss=0.02395918426152907, valid_loss=0.02191067487001419\n",
      "fold=0, epoch=88, train_loss=0.02393695457201255, valid_loss=0.0218990970402956\n",
      "fold=0, epoch=89, train_loss=0.02393271048602305, valid_loss=0.021885640919208527\n",
      "fold=0, epoch=90, train_loss=0.02377178216058957, valid_loss=0.021867989003658293\n",
      "fold=0, epoch=91, train_loss=0.02373942409298922, valid_loss=0.02188628204166889\n",
      "fold=0, epoch=92, train_loss=0.02375228889286518, valid_loss=0.0218282550573349\n",
      "fold=0, epoch=93, train_loss=0.023813060533843543, valid_loss=0.021822288632392883\n",
      "fold=0, epoch=94, train_loss=0.023627252857151785, valid_loss=0.021814166381955147\n",
      "fold=0, epoch=95, train_loss=0.02363304774227895, valid_loss=0.02178262807428837\n",
      "fold=0, epoch=96, train_loss=0.023575637293489354, valid_loss=0.021773702278733254\n",
      "fold=0, epoch=97, train_loss=0.023693100990433442, valid_loss=0.02177220322191715\n",
      "fold=0, epoch=98, train_loss=0.023586867475195936, valid_loss=0.021772487461566924\n",
      "fold=0, epoch=99, train_loss=0.023623922741726824, valid_loss=0.021769075468182564\n"
     ]
    }
   ],
   "source": [
    "loss_best = np.inf\n",
    "early_stop = 10\n",
    "early_stop_counter = 0\n",
    "for ep in range(EPOCHS):\n",
    "    loss_tr = eng.train(loader_tr)\n",
    "    loss_va = eng.validate(loader_va)\n",
    "    scheduler.step(loss_va)\n",
    "    print(f\"epoch={ep:>4}, train_loss={loss_tr:.5f}, valid_loss={loss_va:.5f}, patience={early_stop_counter:>3}/{early_stop:>3}\")\n",
    "    if loss_va < loss_best:\n",
    "        loss_best = loss_va\n",
    "        if save_model:\n",
    "            torch.save(model.state_dict(), f\"../weight/model_fold{fold}.bin\")\n",
    "    else:\n",
    "        early_stop_counter += 1\n",
    "    if early_stop_counter > early_stop:\n",
    "        break"
   ]
  },
  {
   "cell_type": "code",
   "execution_count": 16,
   "metadata": {},
   "outputs": [
    {
     "name": "stdout",
     "output_type": "stream",
     "text": [
      "fold=0, best vallidation loss=0.021769075468182564\n"
     ]
    }
   ],
   "source": [
    "print(f'fold={fold}, best vallidation loss={loss_best}')"
   ]
  },
  {
   "cell_type": "markdown",
   "metadata": {},
   "source": [
    "```python\n",
    "return loss_best\n",
    "```\n",
    "---"
   ]
  },
  {
   "cell_type": "code",
   "execution_count": 20,
   "metadata": {},
   "outputs": [
    {
     "name": "stdout",
     "output_type": "stream",
     "text": [
      "fold=0, best vallidation loss=0.021769075468182564\n"
     ]
    }
   ],
   "source": [
    "print(f\"fold={fold}, best vallidation loss={loss_best}\")"
   ]
  },
  {
   "cell_type": "markdown",
   "metadata": {},
   "source": [
    "```python\n",
    "def run_training(fold, params, save_model=False):\n",
    "    df = pd.read_csv(\"train_features.csv\")\n",
    "    df = utils.process_data(df)\n",
    "    folds = pd.read_csv(\"train_folds.csv\")\n",
    "\n",
    "    # aux target\n",
    "    non_scored_df = pd.read_csv(\"train_targets_nonscored.csv\")\n",
    "    targets_non_scored = non_scored_df.drop(\"sig_id\", axis=1).to_numpy().sum(axis=1)\n",
    "    non_scored_df.loc[:, \"nscr\"] = targets_non_scored\n",
    "    drop_cols = [c for c in non_scored_df.columns if c in (\"nscr\", \"sig_id\")]\n",
    "    non_scored_df = non_scored_df.drop(drop_cols, axis=1)\n",
    "    folds = folds.merge(non_scored_df, on=\"sig_id\", how=\"left\")\n",
    "\n",
    "    targets = folds.drop([\"sig_id\", \"kfold\"], axis=1)\n",
    "    features = df.drop(\"sig_id\", axis=1).columns\n",
    "\n",
    "    df = df.merge(folds, on=\"sig_id\", how=\"left\")\n",
    "\n",
    "    train_df = df[df.kfold != fold].reset_index(drop=True)\n",
    "    valid_df = df[df.kfold == fold].reset_index(drop=True)\n",
    "\n",
    "    x_tr = train_df[features].to_array()\n",
    "    x_va = valid_df[features].to_array()\n",
    "\n",
    "    y_tr = train_df[targets].to_array()\n",
    "    y_va = valid_df[targets].to_array()\n",
    "\n",
    "    dataset_tr = utils.MoaDataset(x_tr, y_tr)\n",
    "    loader_tr = torch.utils.data.DataLoader(dataset_tr, batch_size=1024, num_workers=8)\n",
    "    dataset_va = utils.MoaDataset(x_va, y_va)\n",
    "    loader_va = torch.utils.data.DataLoader(dataset_va, batch_size=1024, num_workers=8)\n",
    "    dataset_te = utils.TestMoADataset(dataset=x_te.iloc[:, 1:].values)\n",
    "    loader_te = torch.utils.data.DataLoader(\n",
    "        dataset_te, batch_size=1024, num_workers=0, shuffle=False\n",
    "    )\n",
    "    model = utils.BaseLine2(\n",
    "        num_features=x_tr.shape[1],\n",
    "        num_targets=y_tr.shape[1],\n",
    "        num_layers=params[\"num_layers\"],\n",
    "        hidden_size=params[\"hidden_size\"],\n",
    "        dropout=params[\"dropout\"],\n",
    "    )\n",
    "    model.to(DEVICE)\n",
    "    optimizer = torch.optim.Adam(model.parameters(), lr=params[\"learning_rate\"])\n",
    "    scheduler = torch.optim.lr_scheduler.ReduceLROnPlateau(\n",
    "        optimizer, patience=3, threshold=0.00001, mode=\"min\", verbose=True\n",
    "    )\n",
    "    eng = utils.Engine(model, optimizer, DEVICE)\n",
    "\n",
    "    loss_best = np.inf\n",
    "    early_stop = 10\n",
    "    early_stop_counter = 0\n",
    "    for ep in range(EPOCHS):\n",
    "        loss_tr = eng.train(loader_tr)\n",
    "        loss_va = eng.validate(loader_va)\n",
    "        scheduler.step(loss_va)\n",
    "        print(f\"fold={fold}, epoch={ep}, train_loss={loss_tr}, valid_loss={loss_va}\")\n",
    "        if loss_va < loss_best:\n",
    "            loss_best = loss_va\n",
    "            if save_model:\n",
    "                torch.save(model.state_dict(), f\"model_fold{fold}.bin\")\n",
    "        else:\n",
    "            early_stop_counter += 1\n",
    "        if early_stop_counter > early_stop:\n",
    "            break\n",
    "```"
   ]
  },
  {
   "cell_type": "code",
   "execution_count": null,
   "metadata": {},
   "outputs": [],
   "source": []
  }
 ],
 "metadata": {
  "kernelspec": {
   "display_name": "Python 3",
   "language": "python",
   "name": "python3"
  },
  "language_info": {
   "codemirror_mode": {
    "name": "ipython",
    "version": 3
   },
   "file_extension": ".py",
   "mimetype": "text/x-python",
   "name": "python",
   "nbconvert_exporter": "python",
   "pygments_lexer": "ipython3",
   "version": "3.7.9"
  }
 },
 "nbformat": 4,
 "nbformat_minor": 4
}

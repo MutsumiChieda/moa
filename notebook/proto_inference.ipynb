{
 "cells": [
  {
   "cell_type": "code",
   "execution_count": 1,
   "metadata": {},
   "outputs": [
    {
     "name": "stderr",
     "output_type": "stream",
     "text": [
      "C:\\Users\\s3616\\anaconda3\\envs\\moa\\lib\\site-packages\\pytorch_lightning\\utilities\\distributed.py:36: UserWarning: Unsupported `ReduceOp` for distributed computing.\n",
      "  warnings.warn(*args, **kwargs)\n"
     ]
    }
   ],
   "source": [
    "import warnings; warnings.simplefilter('ignore', DeprecationWarning)\n",
    "import numpy as np\n",
    "import pandas as pd\n",
    "import torch\n",
    "import torch.nn as nn\n",
    "import pytorch_lightning as pl\n",
    "\n",
    "WEIGHT_PATH = \"../weight/model.pt\""
   ]
  },
  {
   "cell_type": "markdown",
   "metadata": {},
   "source": [
    "## All settings\n",
    "Make sure the settings matches the training settings."
   ]
  },
  {
   "cell_type": "code",
   "execution_count": 2,
   "metadata": {},
   "outputs": [],
   "source": [
    "## Hyperparameters Here\n",
    "params = {\n",
    "    \"num_layers\": 3,\n",
    "    \"hidden_size\": 16,\n",
    "    \"dropout\": 0.3,\n",
    "    \"learning_rate\": 1e-3,\n",
    "}\n",
    "\n",
    "## Model Here\n",
    "class BaseLine2(nn.Module):\n",
    "    def __init__(self, num_features, num_targets, num_layers=3, hidden_size=16, dropout=0.3):\n",
    "        super().__init__()\n",
    "        layers = []\n",
    "        for _ in range(num_layers):\n",
    "            if len(layers) == 0:\n",
    "                layers.append(nn.Linear(num_features, hidden_size))\n",
    "                layers.append(nn.BatchNorm1d(hidden_size))\n",
    "                layers.append(nn.Dropout(dropout))\n",
    "                nn.ReLU()\n",
    "            else:\n",
    "                layers.append(nn.Linear(hidden_size, hidden_size))\n",
    "                layers.append(nn.BatchNorm1d(hidden_size))\n",
    "                layers.append(nn.Dropout(dropout))\n",
    "                nn.ReLU()\n",
    "        layers.append(nn.Linear(hidden_size, num_targets))\n",
    "        self.model = nn.Sequential(*layers)\n",
    "\n",
    "    def forward(self, x):\n",
    "        x = self.model(x)\n",
    "        return x\n",
    "\n",
    "    \n",
    "## Feature Engineering Here\n",
    "def add_dummies(data, col):\n",
    "    enc = pd.get_dummies(data[col])\n",
    "    oh_cols = [f\"{col}_{c}\" for c in enc.columns]\n",
    "    enc.columns = oh_cols\n",
    "    data = data.drop(col, axis=1)\n",
    "    data = data.join(enc)\n",
    "    return data\n",
    "\n",
    "\n",
    "def process_data(df):\n",
    "    df = add_dummies(df, \"cp_time\")\n",
    "    df = add_dummies(df, \"cp_dose\")\n",
    "    df = add_dummies(df, \"cp_type\")\n",
    "    return df"
   ]
  },
  {
   "cell_type": "markdown",
   "metadata": {},
   "source": [
    "---\n",
    "## Helper Functions"
   ]
  },
  {
   "cell_type": "code",
   "execution_count": 3,
   "metadata": {},
   "outputs": [],
   "source": [
    "class TestMoaDataset:\n",
    "    \"\"\" dataset for moa competition.\n",
    "    Usage:\n",
    "        dataset = TestMoADataset(dataset=test_features.iloc[:, 1:].values)\n",
    "    \"\"\"\n",
    "\n",
    "    def __init__(self, dataset):\n",
    "        self.dataset = dataset\n",
    "\n",
    "    def __len__(self):\n",
    "        return self.dataset.shape[0]\n",
    "\n",
    "    def __getitem__(self, item):\n",
    "        return {\n",
    "            \"x\": torch.tensor(self.dataset[item, :], dtype=torch.float),\n",
    "        }\n",
    "\n",
    "\n",
    "class LitMoA(pl.LightningModule):\n",
    "    def __init__(self, hparams, model):\n",
    "        super(LitMoA, self).__init__()\n",
    "        self.hparams = hparams\n",
    "        self.model = model\n",
    "        self.criterion = nn.BCEWithLogitsLoss()\n",
    "\n",
    "    def forward(self, x):\n",
    "        return self.model(x)\n",
    "\n",
    "    def configure_optimizers(self):\n",
    "        optimizer = torch.optim.Adam(self.model.parameters(), lr=1e-3)\n",
    "        scheduler = torch.optim.lr_scheduler.ReduceLROnPlateau(\n",
    "            optimizer, patience=3, threshold=0.00001, mode=\"min\", verbose=True\n",
    "        )\n",
    "        return (\n",
    "            [optimizer],\n",
    "            [{\"scheduler\": scheduler, \"interval\": \"epoch\", \"monitor\": \"valid_loss\"}],\n",
    "        )\n",
    "\n",
    "    def training_step(self, batch, batch_idx):\n",
    "        data = batch[\"x\"]\n",
    "        target = batch[\"y\"]\n",
    "        out = self(data)\n",
    "        loss = self.criterion(out, target)\n",
    "        logs = {\"training_loss\": loss}\n",
    "        return {\"loss\": loss, \"log\": logs, \"progress_bar\": logs}\n",
    "\n",
    "    def training_epoch_end(self, outputs):\n",
    "        loss_avg = torch.stack([x[\"loss\"] for x in outputs]).mean()\n",
    "        logs = {\"train_loss\": loss_avg}\n",
    "        return {\"log\": logs, \"progress_bar\": logs}\n",
    "\n",
    "    def validation_step(self, batch, batch_idx):\n",
    "        data = batch[\"x\"]\n",
    "        target = batch[\"y\"]\n",
    "        out = self(data)\n",
    "        loss = self.criterion(out, target)\n",
    "        logs = {\"valid_loss\": loss}\n",
    "        return {\"loss\": loss, \"log\": logs, \"progress_bar\": logs}\n",
    "\n",
    "    def validation_epoch_end(self, outputs):\n",
    "        loss_avg = torch.stack([x[\"loss\"] for x in outputs]).mean()\n",
    "        logs = {\"valid_loss\": loss_avg}\n",
    "        return {\"log\": logs, \"progress_bar\": logs}"
   ]
  },
  {
   "cell_type": "markdown",
   "metadata": {},
   "source": [
    "---\n",
    "## Inference From Here"
   ]
  },
  {
   "cell_type": "code",
   "execution_count": 4,
   "metadata": {},
   "outputs": [],
   "source": [
    "df_te = pd.read_csv(\"../input/lish-moa/test_features.csv\")\n",
    "df_te = process_data(df_te)\n",
    "features = df_te.drop(\"sig_id\", axis=1).columns\n",
    "x_te = df_te[features].to_numpy()\n",
    "dataset_te = TestMoaDataset(dataset=x_te)\n",
    "loader_te = torch.utils.data.DataLoader(\n",
    "    dataset_te, batch_size=1024, num_workers=0, shuffle=False,\n",
    ")"
   ]
  },
  {
   "cell_type": "code",
   "execution_count": 5,
   "metadata": {},
   "outputs": [],
   "source": [
    "net = BaseLine2(\n",
    "    num_features=x_te.shape[1],\n",
    "    num_targets=207, \n",
    "    num_layers=params[\"num_layers\"],\n",
    "    hidden_size=params[\"hidden_size\"],\n",
    "    dropout=params[\"dropout\"])\n",
    "net.load_state_dict(torch.load(WEIGHT_PATH))\n",
    "model = LitMoA(hparams={}, model=net)"
   ]
  },
  {
   "cell_type": "code",
   "execution_count": 6,
   "metadata": {},
   "outputs": [],
   "source": [
    "predictions = np.zeros((x_te.shape[0], 206))\n",
    "inference_model = model.model"
   ]
  },
  {
   "cell_type": "code",
   "execution_count": 7,
   "metadata": {},
   "outputs": [],
   "source": [
    "inference_model.eval()\n",
    "for ind, batch in enumerate(loader_te):\n",
    "    p = torch.sigmoid(inference_model(batch[\"x\"])).detach().cpu().numpy()\n",
    "    predictions[ind * 1024 : (ind + 1) * 1024] = p[:,:-1]"
   ]
  },
  {
   "cell_type": "code",
   "execution_count": 8,
   "metadata": {},
   "outputs": [],
   "source": [
    "sub = pd.read_csv('../input/lish-moa/sample_submission.csv')\n",
    "s = pd.DataFrame({\"sig_id\": sub[\"sig_id\"].values})\n",
    "for col in sub.columns[1:].tolist():\n",
    "    s[col] = 0\n",
    "s.loc[:, sub.columns[1:]] = predictions"
   ]
  },
  {
   "cell_type": "code",
   "execution_count": 9,
   "metadata": {},
   "outputs": [],
   "source": [
    "s.to_csv(\"../submission/submission.csv\", index=False)"
   ]
  },
  {
   "cell_type": "code",
   "execution_count": null,
   "metadata": {},
   "outputs": [],
   "source": []
  }
 ],
 "metadata": {
  "kernelspec": {
   "display_name": "Python 3",
   "language": "python",
   "name": "python3"
  },
  "language_info": {
   "codemirror_mode": {
    "name": "ipython",
    "version": 3
   },
   "file_extension": ".py",
   "mimetype": "text/x-python",
   "name": "python",
   "nbconvert_exporter": "python",
   "pygments_lexer": "ipython3",
   "version": "3.7.9"
  }
 },
 "nbformat": 4,
 "nbformat_minor": 4
}

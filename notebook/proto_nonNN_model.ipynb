{
 "cells": [
  {
   "cell_type": "code",
   "execution_count": null,
   "metadata": {},
   "outputs": [],
   "source": [
    "import sys\n",
    "sys.path.append('../script/')\n",
    "from os.path import exists\n",
    "import gc\n",
    "from functools import partial\n",
    "\n",
    "import numpy as np\n",
    "import pandas as pd\n",
    "import optuna\n",
    "\n",
    "import utils\n",
    "import models\n",
    "import train as trainer\n",
    "\n",
    "DEVICE = \"cuda\"\n",
    "EPOCHS = 2"
   ]
  },
  {
   "cell_type": "markdown",
   "metadata": {},
   "source": [
    "## Add folds No. for CV"
   ]
  },
  {
   "cell_type": "code",
   "execution_count": null,
   "metadata": {},
   "outputs": [],
   "source": [
    "path_fold = \"../input/folds/train_folds.csv\"\n",
    "if not exists(path_fold):\n",
    "    from iterstrat.ml_stratifiers import MultilabelStratifiedKFold\n",
    "    df = pd.read_csv(\"../input/lish-moa/train_targets_scored.csv\")\n",
    "    df.loc[:, \"kfold\"] = -1\n",
    "    df = df.sample(frac=1).reset_index(drop=True)\n",
    "    targets = df.drop(\"sig_id\", axis=1).values\n",
    "\n",
    "    mskf = MultilabelStratifiedKFold(n_splits=5)\n",
    "    for fold_, (tr_, va_) in enumerate(mskf.split(X=df, y=targets)):\n",
    "        df.loc[va_, \"kfold\"] = fold_\n",
    "    df.to_csv(path_fold, index=False)"
   ]
  },
  {
   "cell_type": "markdown",
   "metadata": {},
   "source": [
    "## Params for training function `run_training`"
   ]
  },
  {
   "cell_type": "code",
   "execution_count": null,
   "metadata": {},
   "outputs": [],
   "source": [
    "fold = 0\n",
    "# optuna 使わないので適当\n",
    "params = {\n",
    "    \"num_layers\": 3,\n",
    "    \"hidden_size\": 16,\n",
    "    \"dropout\": 0.3,\n",
    "    \"learning_rate\": 1e-3,\n",
    "}\n",
    "save_model=True"
   ]
  },
  {
   "cell_type": "markdown",
   "metadata": {},
   "source": [
    "---\n",
    "## Prototyping training process from HERE"
   ]
  },
  {
   "cell_type": "code",
   "execution_count": null,
   "metadata": {},
   "outputs": [],
   "source": [
    "df = pd.read_csv(\"../input/folds/train.csv\")\n",
    "with open(\"../input/folds/targets\", \"r\") as f:\n",
    "    targets = f.read().split(\"\\n\")\n",
    "with open(\"../input/folds/features\", \"r\") as f:\n",
    "    features = f.read().split(\"\\n\")"
   ]
  },
  {
   "cell_type": "code",
   "execution_count": 5,
   "metadata": {},
   "outputs": [
    {
     "name": "stdout",
     "output_type": "stream",
     "text": [
      "[Fold No.  0]\n",
      "\n"
     ]
    }
   ],
   "source": [
    "print(f'[Fold No.{fold:>3}]\\n')\n",
    "# train_df = df[df.kfold != fold].reset_index(drop=True)\n",
    "train_df = df[df.kfold != 1].reset_index(drop=True)\n",
    "valid_df = df[df.kfold == fold].reset_index(drop=True)"
   ]
  },
  {
   "cell_type": "code",
   "execution_count": 6,
   "metadata": {},
   "outputs": [],
   "source": [
    "x_tr = train_df[features].astype(np.float32).to_numpy()\n",
    "x_va = valid_df[features].astype(np.float32).to_numpy()"
   ]
  },
  {
   "cell_type": "code",
   "execution_count": 7,
   "metadata": {},
   "outputs": [],
   "source": [
    "y_tr = train_df[targets].astype(np.int8).to_numpy()\n",
    "y_va = valid_df[targets].astype(np.int8).to_numpy()\n",
    "# Trim aux target\n",
    "y_tr = y_tr[:,:-1].copy()\n",
    "y_va = y_va[:,:-1].copy()"
   ]
  },
  {
   "cell_type": "code",
   "execution_count": 8,
   "metadata": {},
   "outputs": [],
   "source": [
    "model = \"rf\"\n",
    "if model == \"svm\":\n",
    "    from sklearn.svm import SVC\n",
    "    from sklearn.multiclass import OneVsRestClassifier\n",
    "    model = OneVsRestClassifier(SVC(probability=True, verbose=True))\n",
    "if model == \"rf\":\n",
    "    from sklearn.ensemble import RandomForestClassifier\n",
    "    model = RandomForestClassifier(n_jobs=4, verbose=True)"
   ]
  },
  {
   "cell_type": "code",
   "execution_count": null,
   "metadata": {},
   "outputs": [],
   "source": [
    "%%time\n",
    "model.fit(x_tr, y_tr)"
   ]
  },
  {
   "cell_type": "code",
   "execution_count": null,
   "metadata": {},
   "outputs": [],
   "source": [
    "pred = model.predict(x_va)"
   ]
  }
 ],
 "metadata": {
  "kernelspec": {
   "display_name": "Python 3",
   "language": "python",
   "name": "python3"
  },
  "language_info": {
   "codemirror_mode": {
    "name": "ipython",
    "version": 3
   },
   "file_extension": ".py",
   "mimetype": "text/x-python",
   "name": "python",
   "nbconvert_exporter": "python",
   "pygments_lexer": "ipython3",
   "version": "3.7.9"
  }
 },
 "nbformat": 4,
 "nbformat_minor": 4
}
